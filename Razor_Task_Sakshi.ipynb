{
  "nbformat": 4,
  "nbformat_minor": 0,
  "metadata": {
    "colab": {
      "provenance": []
    },
    "kernelspec": {
      "name": "python3",
      "display_name": "Python 3"
    },
    "language_info": {
      "name": "python"
    }
  },
  "cells": [
    {
      "cell_type": "markdown",
      "source": [
        "### Importing Libraries and loading dataset"
      ],
      "metadata": {
        "id": "MW03GCKOvLR6"
      }
    },
    {
      "cell_type": "code",
      "execution_count": 1,
      "metadata": {
        "id": "9wqf7imYYKAB"
      },
      "outputs": [],
      "source": [
        "import pandas as pd\n",
        "import matplotlib.pyplot as plt\n",
        "import matplotlib.gridspec as gridspec\n",
        "import seaborn as sns\n",
        "sns.set()\n",
        "import numpy as np\n",
        "import statsmodels.api as sm\n",
        "from sklearn.cluster import KMeans\n",
        "\n",
        "import warnings\n",
        "warnings.filterwarnings(\"ignore\")"
      ]
    },
    {
      "cell_type": "code",
      "source": [
        "ecommerce = pd.read_excel('/content/Sample_Longlist_Data.xlsx')\n",
        "ecommerce.head()"
      ],
      "metadata": {
        "colab": {
          "base_uri": "https://localhost:8080/",
          "height": 0
        },
        "id": "4O_aw8spai8u",
        "outputId": "5bde86a0-8820-47d8-da2d-2f42d66aeca7"
      },
      "execution_count": 2,
      "outputs": [
        {
          "output_type": "execute_result",
          "data": {
            "text/plain": [
              "  Date Added category sellerlink sellerlink-url     sellerstorefront-url  \\\n",
              "0 2020-11-15   Garden   Seller 1  Seller 1-link  Seller 1-storefrontlink   \n",
              "1 2020-11-15   Garden   Seller 2  Seller 2-link  Seller 2-storefrontlink   \n",
              "2 2020-11-15   Garden   Seller 3  Seller 3-link  Seller 3-storefrontlink   \n",
              "3 2020-11-15   Garden   Seller 4  Seller 4-link  Seller 4-storefrontlink   \n",
              "4 2020-11-15   Garden   Seller 5  Seller 5-link  Seller 5-storefrontlink   \n",
              "\n",
              "             sellerproductcount  \\\n",
              "0  1-16 of over 100,000 results   \n",
              "1                           NaN   \n",
              "2    1-16 of over 2,000 results   \n",
              "3           1-16 of 123 results   \n",
              "4    1-16 of over 1,000 results   \n",
              "\n",
              "                                      sellerratings  \\\n",
              "0  88% positive in the last 12 months (118 ratings)   \n",
              "1  90% positive in the last 12 months (566 ratings)   \n",
              "2   85% positive in the last 12 months (75 ratings)   \n",
              "3                                               NaN   \n",
              "4   81% positive in the last 12 months (52 ratings)   \n",
              "\n",
              "                                       sellerdetails  \\\n",
              "0  Lohas Living Inc James Mazzello US 845 3RD Ave...   \n",
              "1  Herzlich Willkommen im Amazon Shop von 1a-Hand...   \n",
              "2  67878u6i7 is committed to providing each custo...   \n",
              "3  7 days home life supermarket is committed to p...   \n",
              "4  78 68yui678 is committed to providing each cus...   \n",
              "\n",
              "                                seller business name  \\\n",
              "0                     Business Name:Lohas Living Inc   \n",
              "1                    Business Name:1a-Handelsagentur   \n",
              "2  Business Name:nantongaohuanfangzhipinyouxiango...   \n",
              "3   Business Name:Zhengzhou Yaoqiong Trading Company   \n",
              "4  Business Name:shenzhenfeichangshangmeimaoyiyou...   \n",
              "\n",
              "                                     businessaddress  Count of seller brands  \\\n",
              "0  411 THEODORE FREMD AVESTE 206 SOUTHRyeNY10580-...                      16   \n",
              "1  1a HandelsagenturLindenallee 2MalchowMecklenbu...                       0   \n",
              "2  zhongnanshijicheng27zhuang1410haochongchuanqun...                      15   \n",
              "3         河南省中兴南路福禄街自贸试验区郑州片区（郑东）河南商会大厦1901室450000CN                       1   \n",
              "4  minzhidadaoshaxialaocun94dongA901longhuaxinqus...                      16   \n",
              "\n",
              "   Max % of negative seller ratings - last 30 days  \\\n",
              "0                                               17   \n",
              "1                                                2   \n",
              "2                                                0   \n",
              "3                                                0   \n",
              "4                                                0   \n",
              "\n",
              "   Max % of negative seller ratings - last 90 days  \\\n",
              "0                                               11   \n",
              "1                                                2   \n",
              "2                                               25   \n",
              "3                                                0   \n",
              "4                                               31   \n",
              "\n",
              "   Max % of negative seller ratings - last 12 months  Hero Product 1 #ratings  \\\n",
              "0                                                 12                     5873   \n",
              "1                                                  9                        0   \n",
              "2                                                 12                      164   \n",
              "3                                                  0                        0   \n",
              "4                                                 15                      224   \n",
              "\n",
              "   Hero Product 2 #ratings         Sample brand name  \\\n",
              "0                     4957  Visit the YAMAZAKI Store   \n",
              "1                        0      Visit the tesa Store   \n",
              "2                      162                    TXYFYP   \n",
              "3                        0                   SHIFENG   \n",
              "4                      113                   YUOKI99   \n",
              "\n",
              "                                    Sample Brand URL  \n",
              "0  https://www.amazon.de/-/en/stores/YAMAZAKI/pag...  \n",
              "1  https://www.amazon.de/-/en/stores/tesa/page/12...  \n",
              "2  https://www.amazon.de/-/en/s/ref=bl_dp_s_web_0...  \n",
              "3  https://www.amazon.de/-/en/s/ref=bl_dp_s_web_0...  \n",
              "4  https://www.amazon.de/-/en/s/ref=bl_dp_s_web_0...  "
            ],
            "text/html": [
              "\n",
              "  <div id=\"df-0479acd5-fb91-47e3-9f92-d6e4afcc9889\">\n",
              "    <div class=\"colab-df-container\">\n",
              "      <div>\n",
              "<style scoped>\n",
              "    .dataframe tbody tr th:only-of-type {\n",
              "        vertical-align: middle;\n",
              "    }\n",
              "\n",
              "    .dataframe tbody tr th {\n",
              "        vertical-align: top;\n",
              "    }\n",
              "\n",
              "    .dataframe thead th {\n",
              "        text-align: right;\n",
              "    }\n",
              "</style>\n",
              "<table border=\"1\" class=\"dataframe\">\n",
              "  <thead>\n",
              "    <tr style=\"text-align: right;\">\n",
              "      <th></th>\n",
              "      <th>Date Added</th>\n",
              "      <th>category</th>\n",
              "      <th>sellerlink</th>\n",
              "      <th>sellerlink-url</th>\n",
              "      <th>sellerstorefront-url</th>\n",
              "      <th>sellerproductcount</th>\n",
              "      <th>sellerratings</th>\n",
              "      <th>sellerdetails</th>\n",
              "      <th>seller business name</th>\n",
              "      <th>businessaddress</th>\n",
              "      <th>Count of seller brands</th>\n",
              "      <th>Max % of negative seller ratings - last 30 days</th>\n",
              "      <th>Max % of negative seller ratings - last 90 days</th>\n",
              "      <th>Max % of negative seller ratings - last 12 months</th>\n",
              "      <th>Hero Product 1 #ratings</th>\n",
              "      <th>Hero Product 2 #ratings</th>\n",
              "      <th>Sample brand name</th>\n",
              "      <th>Sample Brand URL</th>\n",
              "    </tr>\n",
              "  </thead>\n",
              "  <tbody>\n",
              "    <tr>\n",
              "      <th>0</th>\n",
              "      <td>2020-11-15</td>\n",
              "      <td>Garden</td>\n",
              "      <td>Seller 1</td>\n",
              "      <td>Seller 1-link</td>\n",
              "      <td>Seller 1-storefrontlink</td>\n",
              "      <td>1-16 of over 100,000 results</td>\n",
              "      <td>88% positive in the last 12 months (118 ratings)</td>\n",
              "      <td>Lohas Living Inc James Mazzello US 845 3RD Ave...</td>\n",
              "      <td>Business Name:Lohas Living Inc</td>\n",
              "      <td>411 THEODORE FREMD AVESTE 206 SOUTHRyeNY10580-...</td>\n",
              "      <td>16</td>\n",
              "      <td>17</td>\n",
              "      <td>11</td>\n",
              "      <td>12</td>\n",
              "      <td>5873</td>\n",
              "      <td>4957</td>\n",
              "      <td>Visit the YAMAZAKI Store</td>\n",
              "      <td>https://www.amazon.de/-/en/stores/YAMAZAKI/pag...</td>\n",
              "    </tr>\n",
              "    <tr>\n",
              "      <th>1</th>\n",
              "      <td>2020-11-15</td>\n",
              "      <td>Garden</td>\n",
              "      <td>Seller 2</td>\n",
              "      <td>Seller 2-link</td>\n",
              "      <td>Seller 2-storefrontlink</td>\n",
              "      <td>NaN</td>\n",
              "      <td>90% positive in the last 12 months (566 ratings)</td>\n",
              "      <td>Herzlich Willkommen im Amazon Shop von 1a-Hand...</td>\n",
              "      <td>Business Name:1a-Handelsagentur</td>\n",
              "      <td>1a HandelsagenturLindenallee 2MalchowMecklenbu...</td>\n",
              "      <td>0</td>\n",
              "      <td>2</td>\n",
              "      <td>2</td>\n",
              "      <td>9</td>\n",
              "      <td>0</td>\n",
              "      <td>0</td>\n",
              "      <td>Visit the tesa Store</td>\n",
              "      <td>https://www.amazon.de/-/en/stores/tesa/page/12...</td>\n",
              "    </tr>\n",
              "    <tr>\n",
              "      <th>2</th>\n",
              "      <td>2020-11-15</td>\n",
              "      <td>Garden</td>\n",
              "      <td>Seller 3</td>\n",
              "      <td>Seller 3-link</td>\n",
              "      <td>Seller 3-storefrontlink</td>\n",
              "      <td>1-16 of over 2,000 results</td>\n",
              "      <td>85% positive in the last 12 months (75 ratings)</td>\n",
              "      <td>67878u6i7 is committed to providing each custo...</td>\n",
              "      <td>Business Name:nantongaohuanfangzhipinyouxiango...</td>\n",
              "      <td>zhongnanshijicheng27zhuang1410haochongchuanqun...</td>\n",
              "      <td>15</td>\n",
              "      <td>0</td>\n",
              "      <td>25</td>\n",
              "      <td>12</td>\n",
              "      <td>164</td>\n",
              "      <td>162</td>\n",
              "      <td>TXYFYP</td>\n",
              "      <td>https://www.amazon.de/-/en/s/ref=bl_dp_s_web_0...</td>\n",
              "    </tr>\n",
              "    <tr>\n",
              "      <th>3</th>\n",
              "      <td>2020-11-15</td>\n",
              "      <td>Garden</td>\n",
              "      <td>Seller 4</td>\n",
              "      <td>Seller 4-link</td>\n",
              "      <td>Seller 4-storefrontlink</td>\n",
              "      <td>1-16 of 123 results</td>\n",
              "      <td>NaN</td>\n",
              "      <td>7 days home life supermarket is committed to p...</td>\n",
              "      <td>Business Name:Zhengzhou Yaoqiong Trading Company</td>\n",
              "      <td>河南省中兴南路福禄街自贸试验区郑州片区（郑东）河南商会大厦1901室450000CN</td>\n",
              "      <td>1</td>\n",
              "      <td>0</td>\n",
              "      <td>0</td>\n",
              "      <td>0</td>\n",
              "      <td>0</td>\n",
              "      <td>0</td>\n",
              "      <td>SHIFENG</td>\n",
              "      <td>https://www.amazon.de/-/en/s/ref=bl_dp_s_web_0...</td>\n",
              "    </tr>\n",
              "    <tr>\n",
              "      <th>4</th>\n",
              "      <td>2020-11-15</td>\n",
              "      <td>Garden</td>\n",
              "      <td>Seller 5</td>\n",
              "      <td>Seller 5-link</td>\n",
              "      <td>Seller 5-storefrontlink</td>\n",
              "      <td>1-16 of over 1,000 results</td>\n",
              "      <td>81% positive in the last 12 months (52 ratings)</td>\n",
              "      <td>78 68yui678 is committed to providing each cus...</td>\n",
              "      <td>Business Name:shenzhenfeichangshangmeimaoyiyou...</td>\n",
              "      <td>minzhidadaoshaxialaocun94dongA901longhuaxinqus...</td>\n",
              "      <td>16</td>\n",
              "      <td>0</td>\n",
              "      <td>31</td>\n",
              "      <td>15</td>\n",
              "      <td>224</td>\n",
              "      <td>113</td>\n",
              "      <td>YUOKI99</td>\n",
              "      <td>https://www.amazon.de/-/en/s/ref=bl_dp_s_web_0...</td>\n",
              "    </tr>\n",
              "  </tbody>\n",
              "</table>\n",
              "</div>\n",
              "      <button class=\"colab-df-convert\" onclick=\"convertToInteractive('df-0479acd5-fb91-47e3-9f92-d6e4afcc9889')\"\n",
              "              title=\"Convert this dataframe to an interactive table.\"\n",
              "              style=\"display:none;\">\n",
              "        \n",
              "  <svg xmlns=\"http://www.w3.org/2000/svg\" height=\"24px\"viewBox=\"0 0 24 24\"\n",
              "       width=\"24px\">\n",
              "    <path d=\"M0 0h24v24H0V0z\" fill=\"none\"/>\n",
              "    <path d=\"M18.56 5.44l.94 2.06.94-2.06 2.06-.94-2.06-.94-.94-2.06-.94 2.06-2.06.94zm-11 1L8.5 8.5l.94-2.06 2.06-.94-2.06-.94L8.5 2.5l-.94 2.06-2.06.94zm10 10l.94 2.06.94-2.06 2.06-.94-2.06-.94-.94-2.06-.94 2.06-2.06.94z\"/><path d=\"M17.41 7.96l-1.37-1.37c-.4-.4-.92-.59-1.43-.59-.52 0-1.04.2-1.43.59L10.3 9.45l-7.72 7.72c-.78.78-.78 2.05 0 2.83L4 21.41c.39.39.9.59 1.41.59.51 0 1.02-.2 1.41-.59l7.78-7.78 2.81-2.81c.8-.78.8-2.07 0-2.86zM5.41 20L4 18.59l7.72-7.72 1.47 1.35L5.41 20z\"/>\n",
              "  </svg>\n",
              "      </button>\n",
              "      \n",
              "  <style>\n",
              "    .colab-df-container {\n",
              "      display:flex;\n",
              "      flex-wrap:wrap;\n",
              "      gap: 12px;\n",
              "    }\n",
              "\n",
              "    .colab-df-convert {\n",
              "      background-color: #E8F0FE;\n",
              "      border: none;\n",
              "      border-radius: 50%;\n",
              "      cursor: pointer;\n",
              "      display: none;\n",
              "      fill: #1967D2;\n",
              "      height: 32px;\n",
              "      padding: 0 0 0 0;\n",
              "      width: 32px;\n",
              "    }\n",
              "\n",
              "    .colab-df-convert:hover {\n",
              "      background-color: #E2EBFA;\n",
              "      box-shadow: 0px 1px 2px rgba(60, 64, 67, 0.3), 0px 1px 3px 1px rgba(60, 64, 67, 0.15);\n",
              "      fill: #174EA6;\n",
              "    }\n",
              "\n",
              "    [theme=dark] .colab-df-convert {\n",
              "      background-color: #3B4455;\n",
              "      fill: #D2E3FC;\n",
              "    }\n",
              "\n",
              "    [theme=dark] .colab-df-convert:hover {\n",
              "      background-color: #434B5C;\n",
              "      box-shadow: 0px 1px 3px 1px rgba(0, 0, 0, 0.15);\n",
              "      filter: drop-shadow(0px 1px 2px rgba(0, 0, 0, 0.3));\n",
              "      fill: #FFFFFF;\n",
              "    }\n",
              "  </style>\n",
              "\n",
              "      <script>\n",
              "        const buttonEl =\n",
              "          document.querySelector('#df-0479acd5-fb91-47e3-9f92-d6e4afcc9889 button.colab-df-convert');\n",
              "        buttonEl.style.display =\n",
              "          google.colab.kernel.accessAllowed ? 'block' : 'none';\n",
              "\n",
              "        async function convertToInteractive(key) {\n",
              "          const element = document.querySelector('#df-0479acd5-fb91-47e3-9f92-d6e4afcc9889');\n",
              "          const dataTable =\n",
              "            await google.colab.kernel.invokeFunction('convertToInteractive',\n",
              "                                                     [key], {});\n",
              "          if (!dataTable) return;\n",
              "\n",
              "          const docLinkHtml = 'Like what you see? Visit the ' +\n",
              "            '<a target=\"_blank\" href=https://colab.research.google.com/notebooks/data_table.ipynb>data table notebook</a>'\n",
              "            + ' to learn more about interactive tables.';\n",
              "          element.innerHTML = '';\n",
              "          dataTable['output_type'] = 'display_data';\n",
              "          await google.colab.output.renderOutput(dataTable, element);\n",
              "          const docLink = document.createElement('div');\n",
              "          docLink.innerHTML = docLinkHtml;\n",
              "          element.appendChild(docLink);\n",
              "        }\n",
              "      </script>\n",
              "    </div>\n",
              "  </div>\n",
              "  "
            ]
          },
          "metadata": {},
          "execution_count": 2
        }
      ]
    },
    {
      "cell_type": "code",
      "source": [
        "ecommerce.info()"
      ],
      "metadata": {
        "colab": {
          "base_uri": "https://localhost:8080/"
        },
        "id": "8hyAl80TQ2pb",
        "outputId": "490a1a4a-7c43-4ea7-867c-dd84fcfa4523"
      },
      "execution_count": 3,
      "outputs": [
        {
          "output_type": "stream",
          "name": "stdout",
          "text": [
            "<class 'pandas.core.frame.DataFrame'>\n",
            "RangeIndex: 1839 entries, 0 to 1838\n",
            "Data columns (total 18 columns):\n",
            " #   Column                                             Non-Null Count  Dtype         \n",
            "---  ------                                             --------------  -----         \n",
            " 0   Date Added                                         1839 non-null   datetime64[ns]\n",
            " 1   category                                           1839 non-null   object        \n",
            " 2   sellerlink                                         1839 non-null   object        \n",
            " 3   sellerlink-url                                     1839 non-null   object        \n",
            " 4   sellerstorefront-url                               1839 non-null   object        \n",
            " 5   sellerproductcount                                 1513 non-null   object        \n",
            " 6   sellerratings                                      1411 non-null   object        \n",
            " 7   sellerdetails                                      1812 non-null   object        \n",
            " 8   seller business name                               1783 non-null   object        \n",
            " 9   businessaddress                                    1764 non-null   object        \n",
            " 10  Count of seller brands                             1839 non-null   int64         \n",
            " 11  Max % of negative seller ratings - last 30 days    1839 non-null   int64         \n",
            " 12  Max % of negative seller ratings - last 90 days    1839 non-null   int64         \n",
            " 13  Max % of negative seller ratings - last 12 months  1839 non-null   int64         \n",
            " 14  Hero Product 1 #ratings                            1839 non-null   int64         \n",
            " 15  Hero Product 2 #ratings                            1839 non-null   int64         \n",
            " 16  Sample brand name                                  1835 non-null   object        \n",
            " 17  Sample Brand URL                                   1839 non-null   object        \n",
            "dtypes: datetime64[ns](1), int64(6), object(11)\n",
            "memory usage: 258.7+ KB\n"
          ]
        }
      ]
    },
    {
      "cell_type": "markdown",
      "source": [
        "### Data Cleaning\n",
        "1. Dropping Null elements\n",
        "2. Indexing\n",
        "3. Extracting the sellercount\n",
        "4. Extracting the positive rate %\n",
        "5. Extracting the ratecount\n",
        "6. Extracting contact information\n",
        "7. Removing China(CN) "
      ],
      "metadata": {
        "id": "FQ3Z7gI8vc7r"
      }
    },
    {
      "cell_type": "markdown",
      "source": [
        "#### Dropping Null elements"
      ],
      "metadata": {
        "id": "ZaDhQoTpQ6Zb"
      }
    },
    {
      "cell_type": "code",
      "source": [
        "ecommerce.isna().sum()"
      ],
      "metadata": {
        "colab": {
          "base_uri": "https://localhost:8080/"
        },
        "id": "CNxVKIGdbK8C",
        "outputId": "f4cfb969-04c4-4dbc-d786-c9b482cd295f"
      },
      "execution_count": 4,
      "outputs": [
        {
          "output_type": "execute_result",
          "data": {
            "text/plain": [
              "Date Added                                             0\n",
              "category                                               0\n",
              "sellerlink                                             0\n",
              "sellerlink-url                                         0\n",
              "sellerstorefront-url                                   0\n",
              "sellerproductcount                                   326\n",
              "sellerratings                                        428\n",
              "sellerdetails                                         27\n",
              "seller business name                                  56\n",
              "businessaddress                                       75\n",
              "Count of seller brands                                 0\n",
              "Max % of negative seller ratings - last 30 days        0\n",
              "Max % of negative seller ratings - last 90 days        0\n",
              "Max % of negative seller ratings - last 12 months      0\n",
              "Hero Product 1 #ratings                                0\n",
              "Hero Product 2 #ratings                                0\n",
              "Sample brand name                                      4\n",
              "Sample Brand URL                                       0\n",
              "dtype: int64"
            ]
          },
          "metadata": {},
          "execution_count": 4
        }
      ]
    },
    {
      "cell_type": "code",
      "source": [
        "ecommerce.dropna(inplace=True)"
      ],
      "metadata": {
        "id": "ow93EqscbWkX"
      },
      "execution_count": 5,
      "outputs": []
    },
    {
      "cell_type": "code",
      "source": [
        "ecommerce.info()"
      ],
      "metadata": {
        "colab": {
          "base_uri": "https://localhost:8080/"
        },
        "id": "egZiez7Mbd24",
        "outputId": "58de99e9-3869-4eea-8b29-8d75545ffc2d"
      },
      "execution_count": 6,
      "outputs": [
        {
          "output_type": "stream",
          "name": "stdout",
          "text": [
            "<class 'pandas.core.frame.DataFrame'>\n",
            "Int64Index: 1159 entries, 0 to 1838\n",
            "Data columns (total 18 columns):\n",
            " #   Column                                             Non-Null Count  Dtype         \n",
            "---  ------                                             --------------  -----         \n",
            " 0   Date Added                                         1159 non-null   datetime64[ns]\n",
            " 1   category                                           1159 non-null   object        \n",
            " 2   sellerlink                                         1159 non-null   object        \n",
            " 3   sellerlink-url                                     1159 non-null   object        \n",
            " 4   sellerstorefront-url                               1159 non-null   object        \n",
            " 5   sellerproductcount                                 1159 non-null   object        \n",
            " 6   sellerratings                                      1159 non-null   object        \n",
            " 7   sellerdetails                                      1159 non-null   object        \n",
            " 8   seller business name                               1159 non-null   object        \n",
            " 9   businessaddress                                    1159 non-null   object        \n",
            " 10  Count of seller brands                             1159 non-null   int64         \n",
            " 11  Max % of negative seller ratings - last 30 days    1159 non-null   int64         \n",
            " 12  Max % of negative seller ratings - last 90 days    1159 non-null   int64         \n",
            " 13  Max % of negative seller ratings - last 12 months  1159 non-null   int64         \n",
            " 14  Hero Product 1 #ratings                            1159 non-null   int64         \n",
            " 15  Hero Product 2 #ratings                            1159 non-null   int64         \n",
            " 16  Sample brand name                                  1159 non-null   object        \n",
            " 17  Sample Brand URL                                   1159 non-null   object        \n",
            "dtypes: datetime64[ns](1), int64(6), object(11)\n",
            "memory usage: 172.0+ KB\n"
          ]
        }
      ]
    },
    {
      "cell_type": "markdown",
      "source": [
        "#### Indexing"
      ],
      "metadata": {
        "id": "_WBDDxk5RAM7"
      }
    },
    {
      "cell_type": "code",
      "source": [
        "# Unique value \n",
        "#ecommerce['sellerlink'].is_unique\n",
        "#ecommerce = ecommerce.set_index('sellerlink')\n",
        "#ecommerce.head()"
      ],
      "metadata": {
        "id": "uB9SDjl3RCFl"
      },
      "execution_count": 7,
      "outputs": []
    },
    {
      "cell_type": "markdown",
      "source": [
        "#### Sellercount"
      ],
      "metadata": {
        "id": "UhS00ZUpvj3m"
      }
    },
    {
      "cell_type": "code",
      "source": [
        "#Extracting the count \n",
        "ecommerce['sellerproductcount'] = ecommerce['sellerproductcount'].str.split(\" \").str[-2]"
      ],
      "metadata": {
        "id": "tg9YR2mWvp5o"
      },
      "execution_count": 8,
      "outputs": []
    },
    {
      "cell_type": "markdown",
      "source": [
        "#### Sellerrating"
      ],
      "metadata": {
        "id": "jDyXyjiSvr7v"
      }
    },
    {
      "cell_type": "code",
      "source": [
        "#Extracting the positive % of rating in last 12 months\n",
        "ecommerce['Positive %'] = ecommerce['sellerratings'].str.split(\"%\").str[0]\n",
        "\n",
        "#extracting the number of ratings\n",
        "ecommerce['sellerratings'] = ecommerce['sellerratings'].str.extract('\\((\\d+(?:-\\d+)?)', expand=False)"
      ],
      "metadata": {
        "id": "K_GuKDhYvvoP"
      },
      "execution_count": 9,
      "outputs": []
    },
    {
      "cell_type": "markdown",
      "source": [
        "#### Contact details of seller"
      ],
      "metadata": {
        "id": "78LfIk2Ivz3P"
      }
    },
    {
      "cell_type": "code",
      "source": [
        "#Extracting phone number and email of the seller \n",
        "\n",
        "ecommerce['Phone_seller'] = ecommerce['sellerdetails'].str.extract(r'([\\+\\(]?[1-9][0-9 .\\-\\(\\)]{8,}[0-9])')\n",
        "ecommerce['E-mail_seller'] = ecommerce['sellerdetails'].str.extract(r'([a-zA-Z][a-zA-Z0-9._%+-]+@[a-zA-Z0-9.-]+\\.[a-zA-Z]+)')\n"
      ],
      "metadata": {
        "id": "KusJmjG0nSj-"
      },
      "execution_count": 10,
      "outputs": []
    },
    {
      "cell_type": "markdown",
      "source": [
        "#### business address"
      ],
      "metadata": {
        "id": "IXLtRIMpwqj0"
      }
    },
    {
      "cell_type": "code",
      "source": [
        "#Removing China(CN)\n",
        "\n",
        "ecommerce['Country'] = ecommerce['businessaddress'].str[-2:]\n",
        "ecommerce = ecommerce[ecommerce['Country'] != 'CN']\n",
        "\n",
        "ecommerce.head()"
      ],
      "metadata": {
        "colab": {
          "base_uri": "https://localhost:8080/",
          "height": 0
        },
        "id": "6QUQYkXTwqNt",
        "outputId": "32401e84-3635-4d6b-a68f-540f75051a15"
      },
      "execution_count": 11,
      "outputs": [
        {
          "output_type": "execute_result",
          "data": {
            "text/plain": [
              "   Date Added category sellerlink  sellerlink-url      sellerstorefront-url  \\\n",
              "0  2020-11-15   Garden   Seller 1   Seller 1-link   Seller 1-storefrontlink   \n",
              "14 2020-11-15   Garden  Seller 15  Seller 15-link  Seller 15-storefrontlink   \n",
              "22 2020-11-15   Garden  Seller 23  Seller 23-link  Seller 23-storefrontlink   \n",
              "23 2020-11-15   Garden  Seller 24  Seller 24-link  Seller 24-storefrontlink   \n",
              "24 2020-11-15   Garden  Seller 25  Seller 25-link  Seller 25-storefrontlink   \n",
              "\n",
              "   sellerproductcount sellerratings  \\\n",
              "0             100,000           118   \n",
              "14                919           116   \n",
              "22             40,000            10   \n",
              "23            100,000          3134   \n",
              "24              3,000           610   \n",
              "\n",
              "                                        sellerdetails  \\\n",
              "0   Lohas Living Inc James Mazzello US 845 3RD Ave...   \n",
              "14  Impressum\\n \\n Gesetzliche Anbieterkennung:\\n ...   \n",
              "22  Bestof Floral is committed to providing each c...   \n",
              "23  Blumenbecker Industriebedarf GmbH Sudhoferweg ...   \n",
              "24  Herzlich willkommen auf unserer Internetpräsen...   \n",
              "\n",
              "                               seller business name  \\\n",
              "0                    Business Name:Lohas Living Inc   \n",
              "14                       Business Name:Oliver Mills   \n",
              "22                Business Name:MADEWELL SUPPLY INC   \n",
              "23  Business Name:Blumenbecker Industriebedarf GmbH   \n",
              "24   Business Name:Jörg Müller & Petra Scheerer GbR   \n",
              "\n",
              "                                      businessaddress  ...  \\\n",
              "0   411 THEODORE FREMD AVESTE 206 SOUTHRyeNY10580-...  ...   \n",
              "14                  Kaiserstr.12Borgholzhausen33829DE  ...   \n",
              "22        90 BROAD ST 2ND FLOORNEW YORKNY10004-2205US  ...   \n",
              "23                 Sudhoferweg 99-107BeckumNRW59269DE  ...   \n",
              "24            Miranderstr.21Korntal-Münchingen70825DE  ...   \n",
              "\n",
              "    Max % of negative seller ratings - last 90 days  \\\n",
              "0                                                11   \n",
              "14                                                0   \n",
              "22                                                0   \n",
              "23                                               12   \n",
              "24                                                1   \n",
              "\n",
              "    Max % of negative seller ratings - last 12 months  \\\n",
              "0                                                  12   \n",
              "14                                                  3   \n",
              "22                                                  0   \n",
              "23                                                 10   \n",
              "24                                                  2   \n",
              "\n",
              "    Hero Product 1 #ratings  Hero Product 2 #ratings  \\\n",
              "0                      5873                     4957   \n",
              "14                     1446                      921   \n",
              "22                    10538                     8293   \n",
              "23                    30139                    11182   \n",
              "24                     3286                     3079   \n",
              "\n",
              "                   Sample brand name  \\\n",
              "0           Visit the YAMAZAKI Store   \n",
              "14                         Unbekannt   \n",
              "22  Visit the Seville Classics Store   \n",
              "23              Visit the tesa Store   \n",
              "24                          Neudorff   \n",
              "\n",
              "                                     Sample Brand URL Positive %  \\\n",
              "0   https://www.amazon.de/-/en/stores/YAMAZAKI/pag...         88   \n",
              "14  https://www.amazon.de/-/en/Unbekannt/b/ref=bl_...         97   \n",
              "22  https://www.amazon.de/-/en/stores/Seville+Clas...        100   \n",
              "23  https://www.amazon.de/-/en/stores/tesa/page/12...         88   \n",
              "24  https://www.amazon.de/-/en/s/ref=bl_dp_s_web_0...         97   \n",
              "\n",
              "    Phone_seller                E-mail_seller Country  \n",
              "0     10022-6630        jadgemaello@gmail.com      US  \n",
              "14   15140008562       webmaster@9pm-store.de      DE  \n",
              "22           NaN                          NaN      US  \n",
              "23  99-107 59269  bib.beckum@blumenbecker.com      DE  \n",
              "24           NaN                          NaN      DE  \n",
              "\n",
              "[5 rows x 22 columns]"
            ],
            "text/html": [
              "\n",
              "  <div id=\"df-945a9d96-f98d-46a2-9105-3a6c3c556bb3\">\n",
              "    <div class=\"colab-df-container\">\n",
              "      <div>\n",
              "<style scoped>\n",
              "    .dataframe tbody tr th:only-of-type {\n",
              "        vertical-align: middle;\n",
              "    }\n",
              "\n",
              "    .dataframe tbody tr th {\n",
              "        vertical-align: top;\n",
              "    }\n",
              "\n",
              "    .dataframe thead th {\n",
              "        text-align: right;\n",
              "    }\n",
              "</style>\n",
              "<table border=\"1\" class=\"dataframe\">\n",
              "  <thead>\n",
              "    <tr style=\"text-align: right;\">\n",
              "      <th></th>\n",
              "      <th>Date Added</th>\n",
              "      <th>category</th>\n",
              "      <th>sellerlink</th>\n",
              "      <th>sellerlink-url</th>\n",
              "      <th>sellerstorefront-url</th>\n",
              "      <th>sellerproductcount</th>\n",
              "      <th>sellerratings</th>\n",
              "      <th>sellerdetails</th>\n",
              "      <th>seller business name</th>\n",
              "      <th>businessaddress</th>\n",
              "      <th>...</th>\n",
              "      <th>Max % of negative seller ratings - last 90 days</th>\n",
              "      <th>Max % of negative seller ratings - last 12 months</th>\n",
              "      <th>Hero Product 1 #ratings</th>\n",
              "      <th>Hero Product 2 #ratings</th>\n",
              "      <th>Sample brand name</th>\n",
              "      <th>Sample Brand URL</th>\n",
              "      <th>Positive %</th>\n",
              "      <th>Phone_seller</th>\n",
              "      <th>E-mail_seller</th>\n",
              "      <th>Country</th>\n",
              "    </tr>\n",
              "  </thead>\n",
              "  <tbody>\n",
              "    <tr>\n",
              "      <th>0</th>\n",
              "      <td>2020-11-15</td>\n",
              "      <td>Garden</td>\n",
              "      <td>Seller 1</td>\n",
              "      <td>Seller 1-link</td>\n",
              "      <td>Seller 1-storefrontlink</td>\n",
              "      <td>100,000</td>\n",
              "      <td>118</td>\n",
              "      <td>Lohas Living Inc James Mazzello US 845 3RD Ave...</td>\n",
              "      <td>Business Name:Lohas Living Inc</td>\n",
              "      <td>411 THEODORE FREMD AVESTE 206 SOUTHRyeNY10580-...</td>\n",
              "      <td>...</td>\n",
              "      <td>11</td>\n",
              "      <td>12</td>\n",
              "      <td>5873</td>\n",
              "      <td>4957</td>\n",
              "      <td>Visit the YAMAZAKI Store</td>\n",
              "      <td>https://www.amazon.de/-/en/stores/YAMAZAKI/pag...</td>\n",
              "      <td>88</td>\n",
              "      <td>10022-6630</td>\n",
              "      <td>jadgemaello@gmail.com</td>\n",
              "      <td>US</td>\n",
              "    </tr>\n",
              "    <tr>\n",
              "      <th>14</th>\n",
              "      <td>2020-11-15</td>\n",
              "      <td>Garden</td>\n",
              "      <td>Seller 15</td>\n",
              "      <td>Seller 15-link</td>\n",
              "      <td>Seller 15-storefrontlink</td>\n",
              "      <td>919</td>\n",
              "      <td>116</td>\n",
              "      <td>Impressum\\n \\n Gesetzliche Anbieterkennung:\\n ...</td>\n",
              "      <td>Business Name:Oliver Mills</td>\n",
              "      <td>Kaiserstr.12Borgholzhausen33829DE</td>\n",
              "      <td>...</td>\n",
              "      <td>0</td>\n",
              "      <td>3</td>\n",
              "      <td>1446</td>\n",
              "      <td>921</td>\n",
              "      <td>Unbekannt</td>\n",
              "      <td>https://www.amazon.de/-/en/Unbekannt/b/ref=bl_...</td>\n",
              "      <td>97</td>\n",
              "      <td>15140008562</td>\n",
              "      <td>webmaster@9pm-store.de</td>\n",
              "      <td>DE</td>\n",
              "    </tr>\n",
              "    <tr>\n",
              "      <th>22</th>\n",
              "      <td>2020-11-15</td>\n",
              "      <td>Garden</td>\n",
              "      <td>Seller 23</td>\n",
              "      <td>Seller 23-link</td>\n",
              "      <td>Seller 23-storefrontlink</td>\n",
              "      <td>40,000</td>\n",
              "      <td>10</td>\n",
              "      <td>Bestof Floral is committed to providing each c...</td>\n",
              "      <td>Business Name:MADEWELL SUPPLY INC</td>\n",
              "      <td>90 BROAD ST 2ND FLOORNEW YORKNY10004-2205US</td>\n",
              "      <td>...</td>\n",
              "      <td>0</td>\n",
              "      <td>0</td>\n",
              "      <td>10538</td>\n",
              "      <td>8293</td>\n",
              "      <td>Visit the Seville Classics Store</td>\n",
              "      <td>https://www.amazon.de/-/en/stores/Seville+Clas...</td>\n",
              "      <td>100</td>\n",
              "      <td>NaN</td>\n",
              "      <td>NaN</td>\n",
              "      <td>US</td>\n",
              "    </tr>\n",
              "    <tr>\n",
              "      <th>23</th>\n",
              "      <td>2020-11-15</td>\n",
              "      <td>Garden</td>\n",
              "      <td>Seller 24</td>\n",
              "      <td>Seller 24-link</td>\n",
              "      <td>Seller 24-storefrontlink</td>\n",
              "      <td>100,000</td>\n",
              "      <td>3134</td>\n",
              "      <td>Blumenbecker Industriebedarf GmbH Sudhoferweg ...</td>\n",
              "      <td>Business Name:Blumenbecker Industriebedarf GmbH</td>\n",
              "      <td>Sudhoferweg 99-107BeckumNRW59269DE</td>\n",
              "      <td>...</td>\n",
              "      <td>12</td>\n",
              "      <td>10</td>\n",
              "      <td>30139</td>\n",
              "      <td>11182</td>\n",
              "      <td>Visit the tesa Store</td>\n",
              "      <td>https://www.amazon.de/-/en/stores/tesa/page/12...</td>\n",
              "      <td>88</td>\n",
              "      <td>99-107 59269</td>\n",
              "      <td>bib.beckum@blumenbecker.com</td>\n",
              "      <td>DE</td>\n",
              "    </tr>\n",
              "    <tr>\n",
              "      <th>24</th>\n",
              "      <td>2020-11-15</td>\n",
              "      <td>Garden</td>\n",
              "      <td>Seller 25</td>\n",
              "      <td>Seller 25-link</td>\n",
              "      <td>Seller 25-storefrontlink</td>\n",
              "      <td>3,000</td>\n",
              "      <td>610</td>\n",
              "      <td>Herzlich willkommen auf unserer Internetpräsen...</td>\n",
              "      <td>Business Name:Jörg Müller &amp; Petra Scheerer GbR</td>\n",
              "      <td>Miranderstr.21Korntal-Münchingen70825DE</td>\n",
              "      <td>...</td>\n",
              "      <td>1</td>\n",
              "      <td>2</td>\n",
              "      <td>3286</td>\n",
              "      <td>3079</td>\n",
              "      <td>Neudorff</td>\n",
              "      <td>https://www.amazon.de/-/en/s/ref=bl_dp_s_web_0...</td>\n",
              "      <td>97</td>\n",
              "      <td>NaN</td>\n",
              "      <td>NaN</td>\n",
              "      <td>DE</td>\n",
              "    </tr>\n",
              "  </tbody>\n",
              "</table>\n",
              "<p>5 rows × 22 columns</p>\n",
              "</div>\n",
              "      <button class=\"colab-df-convert\" onclick=\"convertToInteractive('df-945a9d96-f98d-46a2-9105-3a6c3c556bb3')\"\n",
              "              title=\"Convert this dataframe to an interactive table.\"\n",
              "              style=\"display:none;\">\n",
              "        \n",
              "  <svg xmlns=\"http://www.w3.org/2000/svg\" height=\"24px\"viewBox=\"0 0 24 24\"\n",
              "       width=\"24px\">\n",
              "    <path d=\"M0 0h24v24H0V0z\" fill=\"none\"/>\n",
              "    <path d=\"M18.56 5.44l.94 2.06.94-2.06 2.06-.94-2.06-.94-.94-2.06-.94 2.06-2.06.94zm-11 1L8.5 8.5l.94-2.06 2.06-.94-2.06-.94L8.5 2.5l-.94 2.06-2.06.94zm10 10l.94 2.06.94-2.06 2.06-.94-2.06-.94-.94-2.06-.94 2.06-2.06.94z\"/><path d=\"M17.41 7.96l-1.37-1.37c-.4-.4-.92-.59-1.43-.59-.52 0-1.04.2-1.43.59L10.3 9.45l-7.72 7.72c-.78.78-.78 2.05 0 2.83L4 21.41c.39.39.9.59 1.41.59.51 0 1.02-.2 1.41-.59l7.78-7.78 2.81-2.81c.8-.78.8-2.07 0-2.86zM5.41 20L4 18.59l7.72-7.72 1.47 1.35L5.41 20z\"/>\n",
              "  </svg>\n",
              "      </button>\n",
              "      \n",
              "  <style>\n",
              "    .colab-df-container {\n",
              "      display:flex;\n",
              "      flex-wrap:wrap;\n",
              "      gap: 12px;\n",
              "    }\n",
              "\n",
              "    .colab-df-convert {\n",
              "      background-color: #E8F0FE;\n",
              "      border: none;\n",
              "      border-radius: 50%;\n",
              "      cursor: pointer;\n",
              "      display: none;\n",
              "      fill: #1967D2;\n",
              "      height: 32px;\n",
              "      padding: 0 0 0 0;\n",
              "      width: 32px;\n",
              "    }\n",
              "\n",
              "    .colab-df-convert:hover {\n",
              "      background-color: #E2EBFA;\n",
              "      box-shadow: 0px 1px 2px rgba(60, 64, 67, 0.3), 0px 1px 3px 1px rgba(60, 64, 67, 0.15);\n",
              "      fill: #174EA6;\n",
              "    }\n",
              "\n",
              "    [theme=dark] .colab-df-convert {\n",
              "      background-color: #3B4455;\n",
              "      fill: #D2E3FC;\n",
              "    }\n",
              "\n",
              "    [theme=dark] .colab-df-convert:hover {\n",
              "      background-color: #434B5C;\n",
              "      box-shadow: 0px 1px 3px 1px rgba(0, 0, 0, 0.15);\n",
              "      filter: drop-shadow(0px 1px 2px rgba(0, 0, 0, 0.3));\n",
              "      fill: #FFFFFF;\n",
              "    }\n",
              "  </style>\n",
              "\n",
              "      <script>\n",
              "        const buttonEl =\n",
              "          document.querySelector('#df-945a9d96-f98d-46a2-9105-3a6c3c556bb3 button.colab-df-convert');\n",
              "        buttonEl.style.display =\n",
              "          google.colab.kernel.accessAllowed ? 'block' : 'none';\n",
              "\n",
              "        async function convertToInteractive(key) {\n",
              "          const element = document.querySelector('#df-945a9d96-f98d-46a2-9105-3a6c3c556bb3');\n",
              "          const dataTable =\n",
              "            await google.colab.kernel.invokeFunction('convertToInteractive',\n",
              "                                                     [key], {});\n",
              "          if (!dataTable) return;\n",
              "\n",
              "          const docLinkHtml = 'Like what you see? Visit the ' +\n",
              "            '<a target=\"_blank\" href=https://colab.research.google.com/notebooks/data_table.ipynb>data table notebook</a>'\n",
              "            + ' to learn more about interactive tables.';\n",
              "          element.innerHTML = '';\n",
              "          dataTable['output_type'] = 'display_data';\n",
              "          await google.colab.output.renderOutput(dataTable, element);\n",
              "          const docLink = document.createElement('div');\n",
              "          docLink.innerHTML = docLinkHtml;\n",
              "          element.appendChild(docLink);\n",
              "        }\n",
              "      </script>\n",
              "    </div>\n",
              "  </div>\n",
              "  "
            ]
          },
          "metadata": {},
          "execution_count": 11
        }
      ]
    },
    {
      "cell_type": "code",
      "source": [
        "ecommerce.rename(columns = {'Count of seller brands':'sellerbrandcount', 'Max % of negative seller ratings - last 30 days':'MaxNegsellerRate30_%',\n",
        "                              'Max % of negative seller ratings - last 90 days':'MaxNegsellerRate90_%','Max % of negative seller ratings - last 12 months':'MaxNegsellerRate12mnth_%',\n",
        "                              'Hero Product 1 #ratings':'HP1','Hero Product 2 #ratings': 'HP2','Positive %': 'Pos_%'}, inplace = True)"
      ],
      "metadata": {
        "id": "HRcRmUem8otE"
      },
      "execution_count": 12,
      "outputs": []
    },
    {
      "cell_type": "code",
      "source": [
        "list(ecommerce.columns)"
      ],
      "metadata": {
        "colab": {
          "base_uri": "https://localhost:8080/"
        },
        "id": "BoknuVU4-NEh",
        "outputId": "41447774-5161-4e27-ecdc-9dc8790e5308"
      },
      "execution_count": 13,
      "outputs": [
        {
          "output_type": "execute_result",
          "data": {
            "text/plain": [
              "['Date Added',\n",
              " 'category',\n",
              " 'sellerlink',\n",
              " 'sellerlink-url',\n",
              " 'sellerstorefront-url',\n",
              " 'sellerproductcount',\n",
              " 'sellerratings',\n",
              " 'sellerdetails',\n",
              " 'seller business name',\n",
              " 'businessaddress',\n",
              " 'sellerbrandcount',\n",
              " 'MaxNegsellerRate30_%',\n",
              " 'MaxNegsellerRate90_%',\n",
              " 'MaxNegsellerRate12mnth_%',\n",
              " 'HP1',\n",
              " 'HP2',\n",
              " 'Sample brand name',\n",
              " 'Sample Brand URL',\n",
              " 'Pos_%',\n",
              " 'Phone_seller',\n",
              " 'E-mail_seller',\n",
              " 'Country']"
            ]
          },
          "metadata": {},
          "execution_count": 13
        }
      ]
    },
    {
      "cell_type": "code",
      "source": [
        "ecommerce['sellerproductcount']= ecommerce['sellerproductcount'].str.replace(',', '')\n",
        "ecommerce[['sellerproductcount','sellerratings','Pos_%']] = ecommerce[['sellerproductcount','sellerratings','Pos_%']].astype(str).astype(int)\n"
      ],
      "metadata": {
        "id": "Bvl9anFr-wlg"
      },
      "execution_count": 14,
      "outputs": []
    },
    {
      "cell_type": "markdown",
      "source": [
        "### Analysis"
      ],
      "metadata": {
        "id": "zFZhHgsEKmnz"
      }
    },
    {
      "cell_type": "markdown",
      "source": [
        "##### Clustering"
      ],
      "metadata": {
        "id": "-21STYkeexbr"
      }
    },
    {
      "cell_type": "code",
      "source": [
        "ecom2 = ecommerce.copy()"
      ],
      "metadata": {
        "id": "mv51rYyufJsx"
      },
      "execution_count": 15,
      "outputs": []
    },
    {
      "cell_type": "code",
      "source": [
        "df1 = ecom2[['sellerproductcount','Country']]\n",
        "\n",
        "df1[\"Country\"] = df1[\"Country\"].astype('category')\n",
        "df1[\"Country_cat\"] = df1[\"Country\"].cat.codes\n",
        "#df1\n",
        "\n",
        "df1 = df1[['sellerproductcount','Country_cat']]\n",
        "\n",
        "wcss=[]\n",
        "for i in range(1,7):\n",
        "  kmeans = KMeans(i)\n",
        "  kmeans.fit(df1)\n",
        "  wcss_iter = kmeans.inertia_\n",
        "  wcss.append(wcss_iter)\n",
        "\n",
        "number_clusters = range(1,7)\n",
        "plt.plot(number_clusters,wcss)\n",
        "plt.title('The Elbow title')\n",
        "plt.xlabel('Number of clusters')\n",
        "plt.ylabel('WCSS')"
      ],
      "metadata": {
        "colab": {
          "base_uri": "https://localhost:8080/",
          "height": 318
        },
        "id": "X_2ZRK0efPYn",
        "outputId": "cb4520ba-9732-49c7-abe9-58160d0779ad"
      },
      "execution_count": 16,
      "outputs": [
        {
          "output_type": "execute_result",
          "data": {
            "text/plain": [
              "Text(0, 0.5, 'WCSS')"
            ]
          },
          "metadata": {},
          "execution_count": 16
        },
        {
          "output_type": "display_data",
          "data": {
            "text/plain": [
              "<Figure size 432x288 with 1 Axes>"
            ],
            "image/png": "[encoded data removed]"
          },
          "metadata": {}
        }
      ]
    },
    {
      "cell_type": "code",
      "source": [
        "kmeans = KMeans(4)\n",
        "kmeans.fit(df1)\n",
        "identified_clusters = kmeans.fit_predict(df1)\n",
        "\n",
        "data_with_clusters = ecom2.copy()\n",
        "data_with_clusters['Clusters'] = identified_clusters \n",
        "plt.scatter(data_with_clusters['sellerproductcount'],data_with_clusters['Country'],c=data_with_clusters['Clusters'],cmap='rainbow')"
      ],
      "metadata": {
        "colab": {
          "base_uri": "https://localhost:8080/",
          "height": 285
        },
        "id": "VodhZG-wfUsZ",
        "outputId": "5aeb5a09-ff49-47a8-baaa-a0d6757f968d"
      },
      "execution_count": 17,
      "outputs": [
        {
          "output_type": "execute_result",
          "data": {
            "text/plain": [
              "<matplotlib.collections.PathCollection at 0x7fc99b1dd150>"
            ]
          },
          "metadata": {},
          "execution_count": 17
        },
        {
          "output_type": "display_data",
          "data": {
            "text/plain": [
              "<Figure size 432x288 with 1 Axes>"
            ],
            "image/png": "[encoded data removed]"
          },
          "metadata": {}
        }
      ]
    },
    {
      "cell_type": "markdown",
      "source": [
        "Geographical Distribution"
      ],
      "metadata": {
        "id": "nsRk_HrpfYnj"
      }
    },
    {
      "cell_type": "code",
      "source": [
        "Hero_P1 = []\n",
        "for row in ecom2['HP1']:\n",
        "  if row > 60000 :\n",
        "    Hero_P1.append('Top_rated')\n",
        "  elif row > 40000:   \n",
        "    Hero_P1.append('Medium_rated')\n",
        "  elif row > 20000:  \n",
        "    Hero_P1.append('Less_rated')\n",
        "  else:\n",
        "    Hero_P1.append('least_rated')\n",
        "\n",
        "Hero_P2 = []\n",
        "for row in ecom2['HP2']:\n",
        "  if row > 60000 :\n",
        "    Hero_P2.append('Top_rated')\n",
        "  elif row > 40000:   \n",
        "    Hero_P2.append('Medium_rated')\n",
        "  elif row > 20000:  \n",
        "    Hero_P2.append('Less_rated')\n",
        "  else:\n",
        "    Hero_P2.append('least_rated')"
      ],
      "metadata": {
        "id": "n-7BZdG3faKp"
      },
      "execution_count": 18,
      "outputs": []
    },
    {
      "cell_type": "code",
      "source": [
        "ecom2['Hero_P1']=Hero_P1\n",
        "ecom2['Hero_P2']=Hero_P2\n",
        "\n",
        "ecom2[\"Hero_P1\"] = ecom2[\"Hero_P1\"].astype('category')\n",
        "ecom2[\"Hero_P1_cat\"] = ecom2[\"Hero_P1\"].cat.codes\n",
        "\n",
        "ecom2[\"Hero_P2\"] = ecom2[\"Hero_P2\"].astype('category')\n",
        "ecom2[\"Hero_P2_cat\"] = ecom2[\"Hero_P2\"].cat.codes"
      ],
      "metadata": {
        "id": "FwE3ZxOjffDv"
      },
      "execution_count": 19,
      "outputs": []
    },
    {
      "cell_type": "code",
      "source": [
        "df1 = ecom2[['HP1','Hero_P1_cat']]\n",
        "\n",
        "wcss=[]\n",
        "for i in range(1,7):\n",
        "  kmeans = KMeans(i)\n",
        "  kmeans.fit(df1)\n",
        "  wcss_iter = kmeans.inertia_\n",
        "  wcss.append(wcss_iter)\n",
        "\n",
        "number_clusters = range(1,7)\n",
        "plt.plot(number_clusters,wcss)\n",
        "plt.title('The Elbow title')\n",
        "plt.xlabel('Number of clusters')\n",
        "plt.ylabel('WCSS')"
      ],
      "metadata": {
        "colab": {
          "base_uri": "https://localhost:8080/",
          "height": 318
        },
        "id": "BoTC7rUBfi4S",
        "outputId": "1b0c1015-e7f7-4727-aab8-58fc26cc11d8"
      },
      "execution_count": 20,
      "outputs": [
        {
          "output_type": "execute_result",
          "data": {
            "text/plain": [
              "Text(0, 0.5, 'WCSS')"
            ]
          },
          "metadata": {},
          "execution_count": 20
        },
        {
          "output_type": "display_data",
          "data": {
            "text/plain": [
              "<Figure size 432x288 with 1 Axes>"
            ],
            "image/png": "[encoded data removed]"
          },
          "metadata": {}
        }
      ]
    },
    {
      "cell_type": "code",
      "source": [
        "kmeans = KMeans(5)\n",
        "kmeans.fit(df1)\n",
        "identified_clusters = kmeans.fit_predict(df1)\n",
        "data_with_clusters = ecom2.copy()\n",
        "data_with_clusters['Clusters'] = identified_clusters \n",
        "plt.scatter(data_with_clusters['HP1'],data_with_clusters['Hero_P1'],c=data_with_clusters['Clusters'],cmap='rainbow')"
      ],
      "metadata": {
        "colab": {
          "base_uri": "https://localhost:8080/",
          "height": 285
        },
        "id": "wo_Zo2b8fnlO",
        "outputId": "ae2ee645-c07f-4be5-f873-cbc3504be2b5"
      },
      "execution_count": 21,
      "outputs": [
        {
          "output_type": "execute_result",
          "data": {
            "text/plain": [
              "<matplotlib.collections.PathCollection at 0x7fc99b1b8590>"
            ]
          },
          "metadata": {},
          "execution_count": 21
        },
        {
          "output_type": "display_data",
          "data": {
            "text/plain": [
              "<Figure size 432x288 with 1 Axes>"
            ],
            "image/png": "[encoded data removed]"
          },
          "metadata": {}
        }
      ]
    },
    {
      "cell_type": "code",
      "source": [
        "df1 = ecom2[['HP2','Hero_P2_cat']]\n",
        "\n",
        "wcss=[]\n",
        "for i in range(1,7):\n",
        "  kmeans = KMeans(i)\n",
        "  kmeans.fit(df1)\n",
        "  wcss_iter = kmeans.inertia_\n",
        "  wcss.append(wcss_iter)\n",
        "\n",
        "number_clusters = range(1,7)\n",
        "plt.plot(number_clusters,wcss)\n",
        "plt.title('The Elbow title')\n",
        "plt.xlabel('Number of clusters')\n",
        "plt.ylabel('WCSS')"
      ],
      "metadata": {
        "colab": {
          "base_uri": "https://localhost:8080/",
          "height": 318
        },
        "id": "JWNcXdUCfqmL",
        "outputId": "dd2e0cec-e712-460c-8a20-7d3ba694bf3b"
      },
      "execution_count": 22,
      "outputs": [
        {
          "output_type": "execute_result",
          "data": {
            "text/plain": [
              "Text(0, 0.5, 'WCSS')"
            ]
          },
          "metadata": {},
          "execution_count": 22
        },
        {
          "output_type": "display_data",
          "data": {
            "text/plain": [
              "<Figure size 432x288 with 1 Axes>"
            ],
            "image/png": "[encoded data removed]"
          },
          "metadata": {}
        }
      ]
    },
    {
      "cell_type": "code",
      "source": [
        "kmeans = KMeans(5)\n",
        "kmeans.fit(df1)\n",
        "identified_clusters = kmeans.fit_predict(df1)\n",
        "data_with_clusters = ecom2.copy()\n",
        "data_with_clusters['Clusters'] = identified_clusters \n",
        "plt.scatter(data_with_clusters['HP2'],data_with_clusters['Hero_P2'],c=data_with_clusters['Clusters'],cmap='rainbow')"
      ],
      "metadata": {
        "colab": {
          "base_uri": "https://localhost:8080/",
          "height": 285
        },
        "id": "rvHcpwy7fs9c",
        "outputId": "d2eee982-7640-4b93-98b5-f98bc20814c3"
      },
      "execution_count": 23,
      "outputs": [
        {
          "output_type": "execute_result",
          "data": {
            "text/plain": [
              "<matplotlib.collections.PathCollection at 0x7fc9a73fbf50>"
            ]
          },
          "metadata": {},
          "execution_count": 23
        },
        {
          "output_type": "display_data",
          "data": {
            "text/plain": [
              "<Figure size 432x288 with 1 Axes>"
            ],
            "image/png": "[encoded data removed]"
          },
          "metadata": {}
        }
      ]
    },
    {
      "cell_type": "markdown",
      "source": [
        "For both HP1 and HP2 the distriution of rating is observed, in least and less rated products has furthermore clusters present in them, hence it can be divided into more types. But since we want top products this can ignored and only medium rated and top rated can be considered."
      ],
      "metadata": {
        "id": "X4oxEO9gfCch"
      }
    },
    {
      "cell_type": "code",
      "source": [
        "neg_30 = []\n",
        "for row in ecom2['MaxNegsellerRate30_%']:\n",
        "  if row < 25 :\n",
        "    neg_30.append('Best')\n",
        "  elif row < 50:   \n",
        "    neg_30.append('Good')\n",
        "  elif row < 75:  \n",
        "    neg_30.append('Avg')\n",
        "  else:\n",
        "    neg_30.append('Worst')\n",
        "\n",
        "ecom2['MaxNegsellerRate30_%_new'] = neg_30\n",
        "ecom2['MaxNegsellerRate30_%_new'] = ecom2['MaxNegsellerRate30_%_new'].astype('category')\n",
        "ecom2['MaxNegsellerRate30_%_cat'] = ecom2['MaxNegsellerRate30_%_new'].cat.codes\n",
        "\n",
        "neg_90 = []\n",
        "for row in ecom2['MaxNegsellerRate90_%']:\n",
        "  if row < 25 :\n",
        "    neg_90.append('Best')\n",
        "  elif row < 50:   \n",
        "    neg_90.append('Good')\n",
        "  elif row < 75:  \n",
        "    neg_90.append('Avg')\n",
        "  else:\n",
        "    neg_90.append('Worst')\n",
        "\n",
        "ecom2['MaxNegsellerRate90_%_new'] = neg_90\n",
        "ecom2['MaxNegsellerRate90_%_new'] = ecom2['MaxNegsellerRate90_%_new'].astype('category')\n",
        "ecom2['MaxNegsellerRate90_%_cat'] = ecom2['MaxNegsellerRate90_%_new'].cat.codes\n",
        "\n",
        "neg_12 = []\n",
        "for row in ecom2['MaxNegsellerRate12mnth_%']:\n",
        "  if row < 25 :\n",
        "    neg_12.append('Best')\n",
        "  elif row < 50:   \n",
        "    neg_12.append('Good')\n",
        "  elif row < 75:  \n",
        "    neg_12.append('Avg')\n",
        "  else:\n",
        "    neg_12.append('Worst')\n",
        "\n",
        "ecom2['MaxNegsellerRate12mnth_%_new'] = neg_12\n",
        "ecom2['MaxNegsellerRate12mnth_%_new'] = ecom2['MaxNegsellerRate12mnth_%_new'].astype('category')\n",
        "ecom2['MaxNegsellerRate12mnth_%_cat'] = ecom2['MaxNegsellerRate12mnth_%_new'].cat.codes"
      ],
      "metadata": {
        "id": "3jRdVsdMhaPA"
      },
      "execution_count": 24,
      "outputs": []
    },
    {
      "cell_type": "code",
      "source": [
        "df1 = ecom2[['MaxNegsellerRate30_%','MaxNegsellerRate30_%_cat']]\n",
        "\n",
        "wcss=[]\n",
        "for i in range(1,7):\n",
        "  kmeans = KMeans(i)\n",
        "  kmeans.fit(df1)\n",
        "  wcss_iter = kmeans.inertia_\n",
        "  wcss.append(wcss_iter)\n",
        "\n",
        "number_clusters = range(1,7)\n",
        "plt.plot(number_clusters,wcss)\n",
        "plt.title('The Elbow title')\n",
        "plt.xlabel('Number of clusters')\n",
        "plt.ylabel('WCSS')"
      ],
      "metadata": {
        "colab": {
          "base_uri": "https://localhost:8080/",
          "height": 318
        },
        "id": "1XuNe4QqjEel",
        "outputId": "88b2dfb7-26e1-4729-a4ac-63a411b44598"
      },
      "execution_count": 25,
      "outputs": [
        {
          "output_type": "execute_result",
          "data": {
            "text/plain": [
              "Text(0, 0.5, 'WCSS')"
            ]
          },
          "metadata": {},
          "execution_count": 25
        },
        {
          "output_type": "display_data",
          "data": {
            "text/plain": [
              "<Figure size 432x288 with 1 Axes>"
            ],
            "image/png": "[encoded data removed]"
          },
          "metadata": {}
        }
      ]
    },
    {
      "cell_type": "code",
      "source": [
        "kmeans = KMeans(4)\n",
        "kmeans.fit(df1)\n",
        "identified_clusters = kmeans.fit_predict(df1)\n",
        "data_with_clusters = ecom2.copy()\n",
        "data_with_clusters['Clusters'] = identified_clusters \n",
        "plt.scatter(data_with_clusters['MaxNegsellerRate30_%'],data_with_clusters['MaxNegsellerRate30_%_new'],c=data_with_clusters['Clusters'],cmap='rainbow')"
      ],
      "metadata": {
        "colab": {
          "base_uri": "https://localhost:8080/",
          "height": 285
        },
        "id": "fsjVaWxSjR0S",
        "outputId": "760325a3-78b2-4087-e716-b2d79fbe2332"
      },
      "execution_count": 26,
      "outputs": [
        {
          "output_type": "execute_result",
          "data": {
            "text/plain": [
              "<matplotlib.collections.PathCollection at 0x7fc995a23090>"
            ]
          },
          "metadata": {},
          "execution_count": 26
        },
        {
          "output_type": "display_data",
          "data": {
            "text/plain": [
              "<Figure size 432x288 with 1 Axes>"
            ],
            "image/png": "[encoded data removed]"
          },
          "metadata": {}
        }
      ]
    },
    {
      "cell_type": "code",
      "source": [
        "kmeans = KMeans(4)\n",
        "kmeans.fit(df1)\n",
        "identified_clusters = kmeans.fit_predict(df1)\n",
        "data_with_clusters = ecom2.copy()\n",
        "data_with_clusters['Clusters'] = identified_clusters \n",
        "plt.scatter(data_with_clusters['MaxNegsellerRate90_%'],data_with_clusters['MaxNegsellerRate90_%_new'],c=data_with_clusters['Clusters'],cmap='rainbow')"
      ],
      "metadata": {
        "colab": {
          "base_uri": "https://localhost:8080/",
          "height": 285
        },
        "id": "DFkT3AFojSfy",
        "outputId": "8962ff86-9636-4035-c338-92006f9c7c30"
      },
      "execution_count": 27,
      "outputs": [
        {
          "output_type": "execute_result",
          "data": {
            "text/plain": [
              "<matplotlib.collections.PathCollection at 0x7fc9958dd5d0>"
            ]
          },
          "metadata": {},
          "execution_count": 27
        },
        {
          "output_type": "display_data",
          "data": {
            "text/plain": [
              "<Figure size 432x288 with 1 Axes>"
            ],
            "image/png": "[encoded data removed]"
          },
          "metadata": {}
        }
      ]
    },
    {
      "cell_type": "code",
      "source": [
        "kmeans = KMeans(4)\n",
        "kmeans.fit(df1)\n",
        "identified_clusters = kmeans.fit_predict(df1)\n",
        "data_with_clusters = ecom2.copy()\n",
        "data_with_clusters['Clusters'] = identified_clusters \n",
        "plt.scatter(data_with_clusters['MaxNegsellerRate12mnth_%'],data_with_clusters['MaxNegsellerRate12mnth_%_new'],c=data_with_clusters['Clusters'],cmap='rainbow')"
      ],
      "metadata": {
        "colab": {
          "base_uri": "https://localhost:8080/",
          "height": 285
        },
        "id": "fDLP6inkjTOX",
        "outputId": "e5c55549-8c87-4346-a684-48e370dd1e8e"
      },
      "execution_count": 28,
      "outputs": [
        {
          "output_type": "execute_result",
          "data": {
            "text/plain": [
              "<matplotlib.collections.PathCollection at 0x7fc9958b15d0>"
            ]
          },
          "metadata": {},
          "execution_count": 28
        },
        {
          "output_type": "display_data",
          "data": {
            "text/plain": [
              "<Figure size 432x288 with 1 Axes>"
            ],
            "image/png": "[encoded data removed]"
          },
          "metadata": {}
        }
      ]
    },
    {
      "cell_type": "markdown",
      "source": [
        "Based on these values less thna 40 % is preffered"
      ],
      "metadata": {
        "id": "LIzZnRDxmc95"
      }
    },
    {
      "cell_type": "markdown",
      "source": [
        "##### Bar Plots"
      ],
      "metadata": {
        "id": "XvbMT2ru7jVZ"
      }
    },
    {
      "cell_type": "code",
      "source": [
        "print(ecommerce['sellerratings'])"
      ],
      "metadata": {
        "colab": {
          "base_uri": "https://localhost:8080/"
        },
        "id": "W5BSje_E4bkY",
        "outputId": "00ba382e-874b-4679-cf55-9f462773bcd5"
      },
      "execution_count": 29,
      "outputs": [
        {
          "output_type": "stream",
          "name": "stdout",
          "text": [
            "0        118\n",
            "14       116\n",
            "22        10\n",
            "23      3134\n",
            "24       610\n",
            "        ... \n",
            "1784    2630\n",
            "1785       3\n",
            "1808      16\n",
            "1814    3075\n",
            "1815       4\n",
            "Name: sellerratings, Length: 432, dtype: int64\n"
          ]
        }
      ]
    },
    {
      "cell_type": "code",
      "source": [
        "n_ecom = ecommerce.copy()"
      ],
      "metadata": {
        "id": "MsAiT9OPxjnF"
      },
      "execution_count": 30,
      "outputs": []
    },
    {
      "cell_type": "code",
      "source": [
        "n_ecom.info()"
      ],
      "metadata": {
        "colab": {
          "base_uri": "https://localhost:8080/"
        },
        "id": "65Rx0qcngbaa",
        "outputId": "a0259ef9-1724-49d3-9002-c318b6ee705d"
      },
      "execution_count": 31,
      "outputs": [
        {
          "output_type": "stream",
          "name": "stdout",
          "text": [
            "<class 'pandas.core.frame.DataFrame'>\n",
            "Int64Index: 432 entries, 0 to 1815\n",
            "Data columns (total 22 columns):\n",
            " #   Column                    Non-Null Count  Dtype         \n",
            "---  ------                    --------------  -----         \n",
            " 0   Date Added                432 non-null    datetime64[ns]\n",
            " 1   category                  432 non-null    object        \n",
            " 2   sellerlink                432 non-null    object        \n",
            " 3   sellerlink-url            432 non-null    object        \n",
            " 4   sellerstorefront-url      432 non-null    object        \n",
            " 5   sellerproductcount        432 non-null    int64         \n",
            " 6   sellerratings             432 non-null    int64         \n",
            " 7   sellerdetails             432 non-null    object        \n",
            " 8   seller business name      432 non-null    object        \n",
            " 9   businessaddress           432 non-null    object        \n",
            " 10  sellerbrandcount          432 non-null    int64         \n",
            " 11  MaxNegsellerRate30_%      432 non-null    int64         \n",
            " 12  MaxNegsellerRate90_%      432 non-null    int64         \n",
            " 13  MaxNegsellerRate12mnth_%  432 non-null    int64         \n",
            " 14  HP1                       432 non-null    int64         \n",
            " 15  HP2                       432 non-null    int64         \n",
            " 16  Sample brand name         432 non-null    object        \n",
            " 17  Sample Brand URL          432 non-null    object        \n",
            " 18  Pos_%                     432 non-null    int64         \n",
            " 19  Phone_seller              221 non-null    object        \n",
            " 20  E-mail_seller             247 non-null    object        \n",
            " 21  Country                   432 non-null    object        \n",
            "dtypes: datetime64[ns](1), int64(9), object(12)\n",
            "memory usage: 77.6+ KB\n"
          ]
        }
      ]
    },
    {
      "cell_type": "code",
      "source": [
        "index_names = n_ecom[(n_ecom['MaxNegsellerRate30_%'] >= 30)].index\n",
        "n_ecom.drop(index_names, inplace = True)\n",
        "index_names1 = n_ecom[(n_ecom['MaxNegsellerRate90_%'] >= 30)].index\n",
        "n_ecom.drop(index_names1, inplace = True)\n",
        "index_names2 = n_ecom[(n_ecom['MaxNegsellerRate12mnth_%'] >= 40)].index\n",
        "n_ecom.drop(index_names2, inplace = True)\n",
        "index_names3 = n_ecom[(n_ecom['Pos_%'] <= 70)].index\n",
        "n_ecom.drop(index_names3, inplace = True)\n",
        "index_names4 = n_ecom[(n_ecom['sellerbrandcount'] <= 8)].index\n",
        "n_ecom.drop(index_names4, inplace = True)\n",
        "index_names5 = n_ecom[(n_ecom['HP1'] <= 30000)].index\n",
        "n_ecom.drop(index_names5, inplace = True)\n",
        "index_names6 = n_ecom[(n_ecom['HP2'] <= 30000)].index\n",
        "n_ecom.drop(index_names6, inplace = True)"
      ],
      "metadata": {
        "id": "5CeduxYbxn0v"
      },
      "execution_count": 32,
      "outputs": []
    },
    {
      "cell_type": "markdown",
      "source": [
        "Set a threshold value for different columns : \n",
        "\n",
        "* For Max % of negative reviews in 30days, 90 days and 12 months, all the values less 30% and 40% is accepted\n",
        "* lly for postive % of reviews, more than 70% is selected\n",
        "* brand count more than 8\n",
        "* Hero product 1 and 2 should have atleast 40000 reviews\n",
        "\n",
        "On the basis of this the different bar plots are plotted\n"
      ],
      "metadata": {
        "id": "8tVqmEOwO9Hc"
      }
    },
    {
      "cell_type": "code",
      "source": [
        "n_ecom.info()"
      ],
      "metadata": {
        "colab": {
          "base_uri": "https://localhost:8080/"
        },
        "id": "HM9VtGstxt6d",
        "outputId": "40374bbb-5deb-4dc4-b726-11f4971b1b4c"
      },
      "execution_count": 33,
      "outputs": [
        {
          "output_type": "stream",
          "name": "stdout",
          "text": [
            "<class 'pandas.core.frame.DataFrame'>\n",
            "Int64Index: 8 entries, 100 to 947\n",
            "Data columns (total 22 columns):\n",
            " #   Column                    Non-Null Count  Dtype         \n",
            "---  ------                    --------------  -----         \n",
            " 0   Date Added                8 non-null      datetime64[ns]\n",
            " 1   category                  8 non-null      object        \n",
            " 2   sellerlink                8 non-null      object        \n",
            " 3   sellerlink-url            8 non-null      object        \n",
            " 4   sellerstorefront-url      8 non-null      object        \n",
            " 5   sellerproductcount        8 non-null      int64         \n",
            " 6   sellerratings             8 non-null      int64         \n",
            " 7   sellerdetails             8 non-null      object        \n",
            " 8   seller business name      8 non-null      object        \n",
            " 9   businessaddress           8 non-null      object        \n",
            " 10  sellerbrandcount          8 non-null      int64         \n",
            " 11  MaxNegsellerRate30_%      8 non-null      int64         \n",
            " 12  MaxNegsellerRate90_%      8 non-null      int64         \n",
            " 13  MaxNegsellerRate12mnth_%  8 non-null      int64         \n",
            " 14  HP1                       8 non-null      int64         \n",
            " 15  HP2                       8 non-null      int64         \n",
            " 16  Sample brand name         8 non-null      object        \n",
            " 17  Sample Brand URL          8 non-null      object        \n",
            " 18  Pos_%                     8 non-null      int64         \n",
            " 19  Phone_seller              4 non-null      object        \n",
            " 20  E-mail_seller             5 non-null      object        \n",
            " 21  Country                   8 non-null      object        \n",
            "dtypes: datetime64[ns](1), int64(9), object(12)\n",
            "memory usage: 1.4+ KB\n"
          ]
        }
      ]
    },
    {
      "cell_type": "markdown",
      "source": [
        "Based on filtering process top 24 products are found."
      ],
      "metadata": {
        "id": "La3bu-5zP0ah"
      }
    },
    {
      "cell_type": "code",
      "source": [
        "n_ecom.head(10)"
      ],
      "metadata": {
        "colab": {
          "base_uri": "https://localhost:8080/",
          "height": 810
        },
        "id": "xaw3rtqSymmt",
        "outputId": "17761536-397b-4c81-b030-71c58a5b9dca"
      },
      "execution_count": 34,
      "outputs": [
        {
          "output_type": "execute_result",
          "data": {
            "text/plain": [
              "    Date Added category  sellerlink   sellerlink-url  \\\n",
              "100 2020-11-15   Garden  Seller 101  Seller 101-link   \n",
              "321 2020-11-15   Garden  Seller 322  Seller 322-link   \n",
              "322 2020-11-15   Garden  Seller 323  Seller 323-link   \n",
              "495 2020-11-15   Garden  Seller 496  Seller 496-link   \n",
              "819 2020-11-15   Garden  Seller 820  Seller 820-link   \n",
              "837 2020-11-15   Garden  Seller 838  Seller 838-link   \n",
              "882 2020-11-15   Garden  Seller 883  Seller 883-link   \n",
              "947 2020-11-15   Garden  Seller 948  Seller 948-link   \n",
              "\n",
              "          sellerstorefront-url  sellerproductcount  sellerratings  \\\n",
              "100  Seller 101-storefrontlink                7000           3416   \n",
              "321  Seller 322-storefrontlink                7000            196   \n",
              "322  Seller 323-storefrontlink               30000            699   \n",
              "495  Seller 496-storefrontlink              100000            288   \n",
              "819  Seller 820-storefrontlink               10000              4   \n",
              "837  Seller 838-storefrontlink                2000            415   \n",
              "882  Seller 883-storefrontlink                4000           6086   \n",
              "947  Seller 948-storefrontlink               10000            159   \n",
              "\n",
              "                                         sellerdetails  \\\n",
              "100  Kessler electronic GmbH\\n Dieselstrasse 4\\n 50...   \n",
              "321  Impressum\\n \\n Gesetzliche Anbieterkennung:\\n ...   \n",
              "322  Milovan Stojkovic\\n Mühlenstr. 16\\n 48431 Rhei...   \n",
              "495  SELECT ELITE is committed to providing each cu...   \n",
              "819  Venner Sales is committed to providing each cu...   \n",
              "837  Versand-King\\n\\nInhaber: Swen Bierschneider\\n\\...   \n",
              "882  Impressum\\n  \\n  Gesetzliche Anbieterkennung:\\...   \n",
              "947  want jp - Our vision is to become the world's ...   \n",
              "\n",
              "                            seller business name  \\\n",
              "100        Business Name:Kessler electronic GmbH   \n",
              "321              Business Name:VARIA System GmbH   \n",
              "322              Business Name:Milovan Stojkovic   \n",
              "495           Business Name:C. Y. MARKETING INC.   \n",
              "819               Business Name:Venner Sales Ltd   \n",
              "837             Business Name:Swen Bierschneider   \n",
              "882  Business Name:Vitamed Matthias Quinger e.K.   \n",
              "947            Business Name:VIP Plaza Japan Inc   \n",
              "\n",
              "                                       businessaddress  ...  \\\n",
              "100                           Dieselstr.4Kerpen50170DE  ...   \n",
              "321  Dr.-Salvador-Allende-Str.191ChemnitzSachsen091...  ...   \n",
              "322                        Brechtestr. 44Rheine48431DE  ...   \n",
              "495  1249 S DIAMOND BAR BOULLEVARD UNIT 61DIAMOND B...  ...   \n",
              "819                 13 Nottingham RoadBelperDE56 1JGGB  ...   \n",
              "837    Kurt-Schumacher-Str. 123Gelsenkirchennrw45881DE  ...   \n",
              "882  Emil-Von-Behring Straße 2AltripRheinland Pfalz...  ...   \n",
              "947   MARUYAMACHO28-1 8th FloorSHIBUYAKUTOKYO1500044JP  ...   \n",
              "\n",
              "     MaxNegsellerRate90_%  MaxNegsellerRate12mnth_%    HP1    HP2  \\\n",
              "100                     3                         2  47337  32420   \n",
              "321                     5                         6  60384  57769   \n",
              "322                     9                         6  71673  58332   \n",
              "495                     7                         7  77714  70732   \n",
              "819                     0                         0  51755  35167   \n",
              "837                    18                        20  32420  30140   \n",
              "882                     4                         4  66776  32420   \n",
              "947                     8                         6  86856  37716   \n",
              "\n",
              "           Sample brand name  \\\n",
              "100    Visit the Varta Store   \n",
              "321    Visit the Umbra Store   \n",
              "322  Visit the Swiffer Store   \n",
              "495    Visit the Weber Store   \n",
              "819                 Sharmans   \n",
              "837                 actiTube   \n",
              "882    Visit the Varta Store   \n",
              "947                ZOJIRUSHI   \n",
              "\n",
              "                                      Sample Brand URL Pos_%    Phone_seller  \\\n",
              "100  https://www.amazon.de/-/en/stores/VARTA+/page/...    97      49 (0)2273   \n",
              "321  https://www.amazon.de/-/en/stores/Umbra/page/4...    94    371 400 7682   \n",
              "322  https://www.amazon.de/-/en/stores/P%26G+Swiffe...    92      8 00 38 03   \n",
              "495  https://www.amazon.de/-/en/stores/Weber/page/9...    91             NaN   \n",
              "819  https://www.amazon.de/-/en/s/ref=bl_dp_s_web_0...   100             NaN   \n",
              "837  https://www.amazon.de/-/en/actiTube/b/ref=bl_d...    80             NaN   \n",
              "882  https://www.amazon.de/-/en/stores/VARTA+/page/...    94  +4962369329325   \n",
              "947  https://www.amazon.de/-/en/s/ref=bl_dp_s_web_0...    92             NaN   \n",
              "\n",
              "                   E-mail_seller Country  \n",
              "100   info@kessler-electronic.de      DE  \n",
              "321         shop@varia-store.com      DE  \n",
              "322              info@limuno.com      DE  \n",
              "495                          NaN      US  \n",
              "819                          NaN      GB  \n",
              "837                  bier@web.de      DE  \n",
              "882  service@vitamed-quinger.com      DE  \n",
              "947                          NaN      JP  \n",
              "\n",
              "[8 rows x 22 columns]"
            ],
            "text/html": [
              "\n",
              "  <div id=\"df-f507cb65-8bf8-465b-b29d-992543e69c43\">\n",
              "    <div class=\"colab-df-container\">\n",
              "      <div>\n",
              "<style scoped>\n",
              "    .dataframe tbody tr th:only-of-type {\n",
              "        vertical-align: middle;\n",
              "    }\n",
              "\n",
              "    .dataframe tbody tr th {\n",
              "        vertical-align: top;\n",
              "    }\n",
              "\n",
              "    .dataframe thead th {\n",
              "        text-align: right;\n",
              "    }\n",
              "</style>\n",
              "<table border=\"1\" class=\"dataframe\">\n",
              "  <thead>\n",
              "    <tr style=\"text-align: right;\">\n",
              "      <th></th>\n",
              "      <th>Date Added</th>\n",
              "      <th>category</th>\n",
              "      <th>sellerlink</th>\n",
              "      <th>sellerlink-url</th>\n",
              "      <th>sellerstorefront-url</th>\n",
              "      <th>sellerproductcount</th>\n",
              "      <th>sellerratings</th>\n",
              "      <th>sellerdetails</th>\n",
              "      <th>seller business name</th>\n",
              "      <th>businessaddress</th>\n",
              "      <th>...</th>\n",
              "      <th>MaxNegsellerRate90_%</th>\n",
              "      <th>MaxNegsellerRate12mnth_%</th>\n",
              "      <th>HP1</th>\n",
              "      <th>HP2</th>\n",
              "      <th>Sample brand name</th>\n",
              "      <th>Sample Brand URL</th>\n",
              "      <th>Pos_%</th>\n",
              "      <th>Phone_seller</th>\n",
              "      <th>E-mail_seller</th>\n",
              "      <th>Country</th>\n",
              "    </tr>\n",
              "  </thead>\n",
              "  <tbody>\n",
              "    <tr>\n",
              "      <th>100</th>\n",
              "      <td>2020-11-15</td>\n",
              "      <td>Garden</td>\n",
              "      <td>Seller 101</td>\n",
              "      <td>Seller 101-link</td>\n",
              "      <td>Seller 101-storefrontlink</td>\n",
              "      <td>7000</td>\n",
              "      <td>3416</td>\n",
              "      <td>Kessler electronic GmbH\\n Dieselstrasse 4\\n 50...</td>\n",
              "      <td>Business Name:Kessler electronic GmbH</td>\n",
              "      <td>Dieselstr.4Kerpen50170DE</td>\n",
              "      <td>...</td>\n",
              "      <td>3</td>\n",
              "      <td>2</td>\n",
              "      <td>47337</td>\n",
              "      <td>32420</td>\n",
              "      <td>Visit the Varta Store</td>\n",
              "      <td>https://www.amazon.de/-/en/stores/VARTA+/page/...</td>\n",
              "      <td>97</td>\n",
              "      <td>49 (0)2273</td>\n",
              "      <td>info@kessler-electronic.de</td>\n",
              "      <td>DE</td>\n",
              "    </tr>\n",
              "    <tr>\n",
              "      <th>321</th>\n",
              "      <td>2020-11-15</td>\n",
              "      <td>Garden</td>\n",
              "      <td>Seller 322</td>\n",
              "      <td>Seller 322-link</td>\n",
              "      <td>Seller 322-storefrontlink</td>\n",
              "      <td>7000</td>\n",
              "      <td>196</td>\n",
              "      <td>Impressum\\n \\n Gesetzliche Anbieterkennung:\\n ...</td>\n",
              "      <td>Business Name:VARIA System GmbH</td>\n",
              "      <td>Dr.-Salvador-Allende-Str.191ChemnitzSachsen091...</td>\n",
              "      <td>...</td>\n",
              "      <td>5</td>\n",
              "      <td>6</td>\n",
              "      <td>60384</td>\n",
              "      <td>57769</td>\n",
              "      <td>Visit the Umbra Store</td>\n",
              "      <td>https://www.amazon.de/-/en/stores/Umbra/page/4...</td>\n",
              "      <td>94</td>\n",
              "      <td>371 400 7682</td>\n",
              "      <td>shop@varia-store.com</td>\n",
              "      <td>DE</td>\n",
              "    </tr>\n",
              "    <tr>\n",
              "      <th>322</th>\n",
              "      <td>2020-11-15</td>\n",
              "      <td>Garden</td>\n",
              "      <td>Seller 323</td>\n",
              "      <td>Seller 323-link</td>\n",
              "      <td>Seller 323-storefrontlink</td>\n",
              "      <td>30000</td>\n",
              "      <td>699</td>\n",
              "      <td>Milovan Stojkovic\\n Mühlenstr. 16\\n 48431 Rhei...</td>\n",
              "      <td>Business Name:Milovan Stojkovic</td>\n",
              "      <td>Brechtestr. 44Rheine48431DE</td>\n",
              "      <td>...</td>\n",
              "      <td>9</td>\n",
              "      <td>6</td>\n",
              "      <td>71673</td>\n",
              "      <td>58332</td>\n",
              "      <td>Visit the Swiffer Store</td>\n",
              "      <td>https://www.amazon.de/-/en/stores/P%26G+Swiffe...</td>\n",
              "      <td>92</td>\n",
              "      <td>8 00 38 03</td>\n",
              "      <td>info@limuno.com</td>\n",
              "      <td>DE</td>\n",
              "    </tr>\n",
              "    <tr>\n",
              "      <th>495</th>\n",
              "      <td>2020-11-15</td>\n",
              "      <td>Garden</td>\n",
              "      <td>Seller 496</td>\n",
              "      <td>Seller 496-link</td>\n",
              "      <td>Seller 496-storefrontlink</td>\n",
              "      <td>100000</td>\n",
              "      <td>288</td>\n",
              "      <td>SELECT ELITE is committed to providing each cu...</td>\n",
              "      <td>Business Name:C. Y. MARKETING INC.</td>\n",
              "      <td>1249 S DIAMOND BAR BOULLEVARD UNIT 61DIAMOND B...</td>\n",
              "      <td>...</td>\n",
              "      <td>7</td>\n",
              "      <td>7</td>\n",
              "      <td>77714</td>\n",
              "      <td>70732</td>\n",
              "      <td>Visit the Weber Store</td>\n",
              "      <td>https://www.amazon.de/-/en/stores/Weber/page/9...</td>\n",
              "      <td>91</td>\n",
              "      <td>NaN</td>\n",
              "      <td>NaN</td>\n",
              "      <td>US</td>\n",
              "    </tr>\n",
              "    <tr>\n",
              "      <th>819</th>\n",
              "      <td>2020-11-15</td>\n",
              "      <td>Garden</td>\n",
              "      <td>Seller 820</td>\n",
              "      <td>Seller 820-link</td>\n",
              "      <td>Seller 820-storefrontlink</td>\n",
              "      <td>10000</td>\n",
              "      <td>4</td>\n",
              "      <td>Venner Sales is committed to providing each cu...</td>\n",
              "      <td>Business Name:Venner Sales Ltd</td>\n",
              "      <td>13 Nottingham RoadBelperDE56 1JGGB</td>\n",
              "      <td>...</td>\n",
              "      <td>0</td>\n",
              "      <td>0</td>\n",
              "      <td>51755</td>\n",
              "      <td>35167</td>\n",
              "      <td>Sharmans</td>\n",
              "      <td>https://www.amazon.de/-/en/s/ref=bl_dp_s_web_0...</td>\n",
              "      <td>100</td>\n",
              "      <td>NaN</td>\n",
              "      <td>NaN</td>\n",
              "      <td>GB</td>\n",
              "    </tr>\n",
              "    <tr>\n",
              "      <th>837</th>\n",
              "      <td>2020-11-15</td>\n",
              "      <td>Garden</td>\n",
              "      <td>Seller 838</td>\n",
              "      <td>Seller 838-link</td>\n",
              "      <td>Seller 838-storefrontlink</td>\n",
              "      <td>2000</td>\n",
              "      <td>415</td>\n",
              "      <td>Versand-King\\n\\nInhaber: Swen Bierschneider\\n\\...</td>\n",
              "      <td>Business Name:Swen Bierschneider</td>\n",
              "      <td>Kurt-Schumacher-Str. 123Gelsenkirchennrw45881DE</td>\n",
              "      <td>...</td>\n",
              "      <td>18</td>\n",
              "      <td>20</td>\n",
              "      <td>32420</td>\n",
              "      <td>30140</td>\n",
              "      <td>actiTube</td>\n",
              "      <td>https://www.amazon.de/-/en/actiTube/b/ref=bl_d...</td>\n",
              "      <td>80</td>\n",
              "      <td>NaN</td>\n",
              "      <td>bier@web.de</td>\n",
              "      <td>DE</td>\n",
              "    </tr>\n",
              "    <tr>\n",
              "      <th>882</th>\n",
              "      <td>2020-11-15</td>\n",
              "      <td>Garden</td>\n",
              "      <td>Seller 883</td>\n",
              "      <td>Seller 883-link</td>\n",
              "      <td>Seller 883-storefrontlink</td>\n",
              "      <td>4000</td>\n",
              "      <td>6086</td>\n",
              "      <td>Impressum\\n  \\n  Gesetzliche Anbieterkennung:\\...</td>\n",
              "      <td>Business Name:Vitamed Matthias Quinger e.K.</td>\n",
              "      <td>Emil-Von-Behring Straße 2AltripRheinland Pfalz...</td>\n",
              "      <td>...</td>\n",
              "      <td>4</td>\n",
              "      <td>4</td>\n",
              "      <td>66776</td>\n",
              "      <td>32420</td>\n",
              "      <td>Visit the Varta Store</td>\n",
              "      <td>https://www.amazon.de/-/en/stores/VARTA+/page/...</td>\n",
              "      <td>94</td>\n",
              "      <td>+4962369329325</td>\n",
              "      <td>service@vitamed-quinger.com</td>\n",
              "      <td>DE</td>\n",
              "    </tr>\n",
              "    <tr>\n",
              "      <th>947</th>\n",
              "      <td>2020-11-15</td>\n",
              "      <td>Garden</td>\n",
              "      <td>Seller 948</td>\n",
              "      <td>Seller 948-link</td>\n",
              "      <td>Seller 948-storefrontlink</td>\n",
              "      <td>10000</td>\n",
              "      <td>159</td>\n",
              "      <td>want jp - Our vision is to become the world's ...</td>\n",
              "      <td>Business Name:VIP Plaza Japan Inc</td>\n",
              "      <td>MARUYAMACHO28-1 8th FloorSHIBUYAKUTOKYO1500044JP</td>\n",
              "      <td>...</td>\n",
              "      <td>8</td>\n",
              "      <td>6</td>\n",
              "      <td>86856</td>\n",
              "      <td>37716</td>\n",
              "      <td>ZOJIRUSHI</td>\n",
              "      <td>https://www.amazon.de/-/en/s/ref=bl_dp_s_web_0...</td>\n",
              "      <td>92</td>\n",
              "      <td>NaN</td>\n",
              "      <td>NaN</td>\n",
              "      <td>JP</td>\n",
              "    </tr>\n",
              "  </tbody>\n",
              "</table>\n",
              "<p>8 rows × 22 columns</p>\n",
              "</div>\n",
              "      <button class=\"colab-df-convert\" onclick=\"convertToInteractive('df-f507cb65-8bf8-465b-b29d-992543e69c43')\"\n",
              "              title=\"Convert this dataframe to an interactive table.\"\n",
              "              style=\"display:none;\">\n",
              "        \n",
              "  <svg xmlns=\"http://www.w3.org/2000/svg\" height=\"24px\"viewBox=\"0 0 24 24\"\n",
              "       width=\"24px\">\n",
              "    <path d=\"M0 0h24v24H0V0z\" fill=\"none\"/>\n",
              "    <path d=\"M18.56 5.44l.94 2.06.94-2.06 2.06-.94-2.06-.94-.94-2.06-.94 2.06-2.06.94zm-11 1L8.5 8.5l.94-2.06 2.06-.94-2.06-.94L8.5 2.5l-.94 2.06-2.06.94zm10 10l.94 2.06.94-2.06 2.06-.94-2.06-.94-.94-2.06-.94 2.06-2.06.94z\"/><path d=\"M17.41 7.96l-1.37-1.37c-.4-.4-.92-.59-1.43-.59-.52 0-1.04.2-1.43.59L10.3 9.45l-7.72 7.72c-.78.78-.78 2.05 0 2.83L4 21.41c.39.39.9.59 1.41.59.51 0 1.02-.2 1.41-.59l7.78-7.78 2.81-2.81c.8-.78.8-2.07 0-2.86zM5.41 20L4 18.59l7.72-7.72 1.47 1.35L5.41 20z\"/>\n",
              "  </svg>\n",
              "      </button>\n",
              "      \n",
              "  <style>\n",
              "    .colab-df-container {\n",
              "      display:flex;\n",
              "      flex-wrap:wrap;\n",
              "      gap: 12px;\n",
              "    }\n",
              "\n",
              "    .colab-df-convert {\n",
              "      background-color: #E8F0FE;\n",
              "      border: none;\n",
              "      border-radius: 50%;\n",
              "      cursor: pointer;\n",
              "      display: none;\n",
              "      fill: #1967D2;\n",
              "      height: 32px;\n",
              "      padding: 0 0 0 0;\n",
              "      width: 32px;\n",
              "    }\n",
              "\n",
              "    .colab-df-convert:hover {\n",
              "      background-color: #E2EBFA;\n",
              "      box-shadow: 0px 1px 2px rgba(60, 64, 67, 0.3), 0px 1px 3px 1px rgba(60, 64, 67, 0.15);\n",
              "      fill: #174EA6;\n",
              "    }\n",
              "\n",
              "    [theme=dark] .colab-df-convert {\n",
              "      background-color: #3B4455;\n",
              "      fill: #D2E3FC;\n",
              "    }\n",
              "\n",
              "    [theme=dark] .colab-df-convert:hover {\n",
              "      background-color: #434B5C;\n",
              "      box-shadow: 0px 1px 3px 1px rgba(0, 0, 0, 0.15);\n",
              "      filter: drop-shadow(0px 1px 2px rgba(0, 0, 0, 0.3));\n",
              "      fill: #FFFFFF;\n",
              "    }\n",
              "  </style>\n",
              "\n",
              "      <script>\n",
              "        const buttonEl =\n",
              "          document.querySelector('#df-f507cb65-8bf8-465b-b29d-992543e69c43 button.colab-df-convert');\n",
              "        buttonEl.style.display =\n",
              "          google.colab.kernel.accessAllowed ? 'block' : 'none';\n",
              "\n",
              "        async function convertToInteractive(key) {\n",
              "          const element = document.querySelector('#df-f507cb65-8bf8-465b-b29d-992543e69c43');\n",
              "          const dataTable =\n",
              "            await google.colab.kernel.invokeFunction('convertToInteractive',\n",
              "                                                     [key], {});\n",
              "          if (!dataTable) return;\n",
              "\n",
              "          const docLinkHtml = 'Like what you see? Visit the ' +\n",
              "            '<a target=\"_blank\" href=https://colab.research.google.com/notebooks/data_table.ipynb>data table notebook</a>'\n",
              "            + ' to learn more about interactive tables.';\n",
              "          element.innerHTML = '';\n",
              "          dataTable['output_type'] = 'display_data';\n",
              "          await google.colab.output.renderOutput(dataTable, element);\n",
              "          const docLink = document.createElement('div');\n",
              "          docLink.innerHTML = docLinkHtml;\n",
              "          element.appendChild(docLink);\n",
              "        }\n",
              "      </script>\n",
              "    </div>\n",
              "  </div>\n",
              "  "
            ]
          },
          "metadata": {},
          "execution_count": 34
        }
      ]
    },
    {
      "cell_type": "code",
      "source": [
        "plt.figure(figsize=(30,10))\n",
        "# make bar plot with matplotlib\n",
        "n_ecom.sort_values(by=['HP1'], inplace= True)\n",
        "plt.bar('sellerlink', 'HP1',data=n_ecom)\n",
        "plt.xlabel(\"Seller\", size=15)\n",
        "plt.ylabel(\"Hero Product 1\", size=15)\n",
        "plt.title(\"Seller vs Hero Product 1\", size=18)"
      ],
      "metadata": {
        "colab": {
          "base_uri": "https://localhost:8080/",
          "height": 472
        },
        "id": "5KOZzLIfxymG",
        "outputId": "dd6e54ed-e024-4a03-a21b-63ad2d127b0f"
      },
      "execution_count": 35,
      "outputs": [
        {
          "output_type": "execute_result",
          "data": {
            "text/plain": [
              "Text(0.5, 1.0, 'Seller vs Hero Product 1')"
            ]
          },
          "metadata": {},
          "execution_count": 35
        },
        {
          "output_type": "display_data",
          "data": {
            "text/plain": [
              "<Figure size 2160x720 with 1 Axes>"
            ],
            "image/png": "[encoded data removed]"
          },
          "metadata": {}
        }
      ]
    },
    {
      "cell_type": "markdown",
      "source": [
        "Top Sellers acc to hero product"
      ],
      "metadata": {
        "id": "zbvaix0GVS7A"
      }
    },
    {
      "cell_type": "code",
      "source": [
        "plt.figure(figsize=(30,10))\n",
        "# make bar plot with matplotlib\n",
        "n_ecom.sort_values(by=['HP2'], inplace= True)\n",
        "plt.bar('sellerlink', 'HP2',data=n_ecom)\n",
        "plt.xlabel(\"Seller\", size=15)\n",
        "plt.ylabel(\"Hero Product 2\", size=15)\n",
        "plt.title(\"Seller vs Hero Product 2\", size=18)\n",
        "#plt.savefig(\"bar_plot_matplotlib_Python.png\")"
      ],
      "metadata": {
        "colab": {
          "base_uri": "https://localhost:8080/",
          "height": 472
        },
        "id": "DaFIYYcsx2KO",
        "outputId": "d8ebbe15-4583-42d4-f310-7f3ed5d9613f"
      },
      "execution_count": 36,
      "outputs": [
        {
          "output_type": "execute_result",
          "data": {
            "text/plain": [
              "Text(0.5, 1.0, 'Seller vs Hero Product 2')"
            ]
          },
          "metadata": {},
          "execution_count": 36
        },
        {
          "output_type": "display_data",
          "data": {
            "text/plain": [
              "<Figure size 2160x720 with 1 Axes>"
            ],
            "image/png": "[encoded data removed]"
          },
          "metadata": {}
        }
      ]
    },
    {
      "cell_type": "markdown",
      "source": [
        "Top sellers according to Hero Product 2:\n",
        "* Seller 496, Seller 323, Seller 322, Seller 498, Seller 820"
      ],
      "metadata": {
        "id": "1_R_WsWPV6iD"
      }
    },
    {
      "cell_type": "code",
      "source": [
        "plt.figure(figsize=(30,10))\n",
        "n_ecom.sort_values(by=['sellerproductcount'], inplace= True)\n",
        "plt.bar('sellerlink', 'sellerproductcount',data=n_ecom)\n",
        "plt.xlabel(\"Seller\", size=15)\n",
        "plt.ylabel(\"Product Count\", size=15)\n",
        "plt.title(\"Seller vs Product Count\", size=18)\n",
        "#plt.savefig(\"bar_plot_matplotlib_Python.png\")"
      ],
      "metadata": {
        "colab": {
          "base_uri": "https://localhost:8080/",
          "height": 470
        },
        "id": "qtbyfLpWEHIG",
        "outputId": "2e783f90-9e03-41c5-c7ba-a35342f12c41"
      },
      "execution_count": 37,
      "outputs": [
        {
          "output_type": "execute_result",
          "data": {
            "text/plain": [
              "Text(0.5, 1.0, 'Seller vs Product Count')"
            ]
          },
          "metadata": {},
          "execution_count": 37
        },
        {
          "output_type": "display_data",
          "data": {
            "text/plain": [
              "<Figure size 2160x720 with 1 Axes>"
            ],
            "image/png": "[encoded data removed]"
          },
          "metadata": {}
        }
      ]
    },
    {
      "cell_type": "markdown",
      "source": [
        "Top sellers according to Seller Product Count"
      ],
      "metadata": {
        "id": "ZEFni96rWH5s"
      }
    },
    {
      "cell_type": "code",
      "source": [
        "plt.figure(figsize=(30,10))\n",
        "# make bar plot with matplotlib\n",
        "n_ecom.sort_values(by=['sellerbrandcount'], inplace= True)\n",
        "plt.bar('sellerlink', 'sellerbrandcount',data=n_ecom)\n",
        "plt.xlabel(\"Seller\", size=15)\n",
        "plt.ylabel(\"Brand Count\", size=15)\n",
        "plt.title(\"Seller vs Brand Count\", size=18)"
      ],
      "metadata": {
        "colab": {
          "base_uri": "https://localhost:8080/",
          "height": 477
        },
        "id": "KdMERteSFsKD",
        "outputId": "ba865979-1058-4a82-d4d3-3547d1847704"
      },
      "execution_count": 38,
      "outputs": [
        {
          "output_type": "execute_result",
          "data": {
            "text/plain": [
              "Text(0.5, 1.0, 'Seller vs Brand Count')"
            ]
          },
          "metadata": {},
          "execution_count": 38
        },
        {
          "output_type": "display_data",
          "data": {
            "text/plain": [
              "<Figure size 2160x720 with 1 Axes>"
            ],
            "image/png": "[encoded data removed]"
          },
          "metadata": {}
        }
      ]
    },
    {
      "cell_type": "code",
      "source": [
        "plt.figure(figsize=(30,10))\n",
        "# make bar plot with matplotlib\n",
        "n_ecom.sort_values(by=['MaxNegsellerRate30_%'], inplace= True)\n",
        "plt.bar('sellerlink', 'MaxNegsellerRate30_%',data=n_ecom)\n",
        "plt.xlabel(\"Seller\", size=15)\n",
        "plt.ylabel(\"Max % Neg. Seller Rate : 30days\", size=15)\n",
        "plt.title(\"Seller vs Max % Negative\", size=18)"
      ],
      "metadata": {
        "colab": {
          "base_uri": "https://localhost:8080/",
          "height": 477
        },
        "id": "j8-T50vSDLDH",
        "outputId": "aa2b6dbe-9fa4-4e3c-eea9-3517454e1c08"
      },
      "execution_count": 39,
      "outputs": [
        {
          "output_type": "execute_result",
          "data": {
            "text/plain": [
              "Text(0.5, 1.0, 'Seller vs Max % Negative')"
            ]
          },
          "metadata": {},
          "execution_count": 39
        },
        {
          "output_type": "display_data",
          "data": {
            "text/plain": [
              "<Figure size 2160x720 with 1 Axes>"
            ],
            "image/png": "[encoded data removed]"
          },
          "metadata": {}
        }
      ]
    },
    {
      "cell_type": "code",
      "source": [
        "plt.figure(figsize=(30,10))\n",
        "# make bar plot with matplotlib\n",
        "n_ecom.sort_values('MaxNegsellerRate90_%',inplace = True)\n",
        "plt.bar('sellerlink', 'MaxNegsellerRate90_%',data=n_ecom)\n",
        "plt.xlabel(\"Seller\", size=15)\n",
        "plt.ylabel(\"Max % Neg. Seller Rate : 90days\", size=15)\n",
        "plt.title(\"Seller vs Max % Neg\", size=18)"
      ],
      "metadata": {
        "colab": {
          "base_uri": "https://localhost:8080/",
          "height": 475
        },
        "id": "sW3MBOEeISxV",
        "outputId": "9d3b5671-95ec-46cb-f046-c7ebe5184a3e"
      },
      "execution_count": 40,
      "outputs": [
        {
          "output_type": "execute_result",
          "data": {
            "text/plain": [
              "Text(0.5, 1.0, 'Seller vs Max % Neg')"
            ]
          },
          "metadata": {},
          "execution_count": 40
        },
        {
          "output_type": "display_data",
          "data": {
            "text/plain": [
              "<Figure size 2160x720 with 1 Axes>"
            ],
            "image/png": "[encoded data removed]"
          },
          "metadata": {}
        }
      ]
    },
    {
      "cell_type": "code",
      "source": [
        "plt.figure(figsize=(30,10))\n",
        "# make bar plot with matplotlib\n",
        "n_ecom.sort_values('MaxNegsellerRate12mnth_%',inplace = True)\n",
        "plt.bar('sellerlink', 'MaxNegsellerRate12mnth_%',data=n_ecom)\n",
        "plt.xlabel(\"Seller\", size=15)\n",
        "plt.ylabel(\"Max % Neg. Seller Rate : 12 Months\", size=15)\n",
        "plt.title(\"Seller vs Max % Neg\", size=18)"
      ],
      "metadata": {
        "colab": {
          "base_uri": "https://localhost:8080/",
          "height": 475
        },
        "id": "E6KzmmmYIXQI",
        "outputId": "38d3e9f7-692b-4a8d-af26-a67dc88e7b62"
      },
      "execution_count": 41,
      "outputs": [
        {
          "output_type": "execute_result",
          "data": {
            "text/plain": [
              "Text(0.5, 1.0, 'Seller vs Max % Neg')"
            ]
          },
          "metadata": {},
          "execution_count": 41
        },
        {
          "output_type": "display_data",
          "data": {
            "text/plain": [
              "<Figure size 2160x720 with 1 Axes>"
            ],
            "image/png": "[encoded data removed]"
          },
          "metadata": {}
        }
      ]
    },
    {
      "cell_type": "markdown",
      "source": [
        "From all negative reviews, the hero product items has least % of negative reviews"
      ],
      "metadata": {
        "id": "oFfSbrmSW_h6"
      }
    },
    {
      "cell_type": "code",
      "source": [
        "plt.figure(figsize=(30,10))\n",
        "# make bar plot with matplotlib\n",
        "n_ecom.sort_values('Pos_%',inplace = True)\n",
        "plt.bar('sellerlink', 'Pos_%',data=n_ecom)\n",
        "plt.xlabel(\"Seller\", size=15)\n",
        "plt.ylabel(\"Positive Rating %\", size=15)\n",
        "plt.title(\"Seller vs Pos %\", size=18)"
      ],
      "metadata": {
        "colab": {
          "base_uri": "https://localhost:8080/",
          "height": 476
        },
        "id": "85WCS5SiIgyW",
        "outputId": "b597d6ee-6db8-41c2-cbf5-728e703b95ac"
      },
      "execution_count": 42,
      "outputs": [
        {
          "output_type": "execute_result",
          "data": {
            "text/plain": [
              "Text(0.5, 1.0, 'Seller vs Pos %')"
            ]
          },
          "metadata": {},
          "execution_count": 42
        },
        {
          "output_type": "display_data",
          "data": {
            "text/plain": [
              "<Figure size 2160x720 with 1 Axes>"
            ],
            "image/png": "[encoded data removed]"
          },
          "metadata": {}
        }
      ]
    },
    {
      "cell_type": "code",
      "source": [
        "plt.figure(figsize=(20,10))\n",
        "# make bar plot with matplotlib\n",
        "n_ecom.sort_values('sellerproductcount',inplace = True)\n",
        "plt.bar('Country', 'sellerproductcount',data=n_ecom)\n",
        "plt.xlabel(\"Country\", size=15)\n",
        "plt.ylabel(\"Brand Count\", size=15)\n",
        "plt.title(\"Country vs Brand Count\", size=18)"
      ],
      "metadata": {
        "colab": {
          "base_uri": "https://localhost:8080/",
          "height": 650
        },
        "id": "mZHRmvypI5KU",
        "outputId": "1e397460-a1e7-4fa3-fc35-0c4bbb4f4b84"
      },
      "execution_count": 43,
      "outputs": [
        {
          "output_type": "execute_result",
          "data": {
            "text/plain": [
              "Text(0.5, 1.0, 'Country vs Brand Count')"
            ]
          },
          "metadata": {},
          "execution_count": 43
        },
        {
          "output_type": "display_data",
          "data": {
            "text/plain": [
              "<Figure size 1440x720 with 1 Axes>"
            ],
            "image/png": "[encoded data removed]"
          },
          "metadata": {}
        }
      ]
    },
    {
      "cell_type": "markdown",
      "source": [
        "Geographical istribution is observed here. With Germany(DE) and US having the max brand count"
      ],
      "metadata": {
        "id": "7r60SaZVP9O6"
      }
    },
    {
      "cell_type": "code",
      "source": [
        "print(ecommerce['sellerratings'])"
      ],
      "metadata": {
        "colab": {
          "base_uri": "https://localhost:8080/"
        },
        "id": "PnjI7z1JQ2AA",
        "outputId": "e466bb29-0742-4b3e-c575-37d8c7838a20"
      },
      "execution_count": 44,
      "outputs": [
        {
          "output_type": "stream",
          "name": "stdout",
          "text": [
            "0        118\n",
            "14       116\n",
            "22        10\n",
            "23      3134\n",
            "24       610\n",
            "        ... \n",
            "1784    2630\n",
            "1785       3\n",
            "1808      16\n",
            "1814    3075\n",
            "1815       4\n",
            "Name: sellerratings, Length: 432, dtype: int64\n"
          ]
        }
      ]
    },
    {
      "cell_type": "code",
      "source": [
        "n_ecom.sort_values(by = 'Pos_%',ascending=False)"
      ],
      "metadata": {
        "colab": {
          "base_uri": "https://localhost:8080/",
          "height": 810
        },
        "id": "qkj-p8ga6dCy",
        "outputId": "ceeab90c-3c04-42d9-a27f-5bc66b91bc28"
      },
      "execution_count": 45,
      "outputs": [
        {
          "output_type": "execute_result",
          "data": {
            "text/plain": [
              "    Date Added category  sellerlink   sellerlink-url  \\\n",
              "819 2020-11-15   Garden  Seller 820  Seller 820-link   \n",
              "100 2020-11-15   Garden  Seller 101  Seller 101-link   \n",
              "882 2020-11-15   Garden  Seller 883  Seller 883-link   \n",
              "321 2020-11-15   Garden  Seller 322  Seller 322-link   \n",
              "947 2020-11-15   Garden  Seller 948  Seller 948-link   \n",
              "322 2020-11-15   Garden  Seller 323  Seller 323-link   \n",
              "495 2020-11-15   Garden  Seller 496  Seller 496-link   \n",
              "837 2020-11-15   Garden  Seller 838  Seller 838-link   \n",
              "\n",
              "          sellerstorefront-url  sellerproductcount  sellerratings  \\\n",
              "819  Seller 820-storefrontlink               10000              4   \n",
              "100  Seller 101-storefrontlink                7000           3416   \n",
              "882  Seller 883-storefrontlink                4000           6086   \n",
              "321  Seller 322-storefrontlink                7000            196   \n",
              "947  Seller 948-storefrontlink               10000            159   \n",
              "322  Seller 323-storefrontlink               30000            699   \n",
              "495  Seller 496-storefrontlink              100000            288   \n",
              "837  Seller 838-storefrontlink                2000            415   \n",
              "\n",
              "                                         sellerdetails  \\\n",
              "819  Venner Sales is committed to providing each cu...   \n",
              "100  Kessler electronic GmbH\\n Dieselstrasse 4\\n 50...   \n",
              "882  Impressum\\n  \\n  Gesetzliche Anbieterkennung:\\...   \n",
              "321  Impressum\\n \\n Gesetzliche Anbieterkennung:\\n ...   \n",
              "947  want jp - Our vision is to become the world's ...   \n",
              "322  Milovan Stojkovic\\n Mühlenstr. 16\\n 48431 Rhei...   \n",
              "495  SELECT ELITE is committed to providing each cu...   \n",
              "837  Versand-King\\n\\nInhaber: Swen Bierschneider\\n\\...   \n",
              "\n",
              "                            seller business name  \\\n",
              "819               Business Name:Venner Sales Ltd   \n",
              "100        Business Name:Kessler electronic GmbH   \n",
              "882  Business Name:Vitamed Matthias Quinger e.K.   \n",
              "321              Business Name:VARIA System GmbH   \n",
              "947            Business Name:VIP Plaza Japan Inc   \n",
              "322              Business Name:Milovan Stojkovic   \n",
              "495           Business Name:C. Y. MARKETING INC.   \n",
              "837             Business Name:Swen Bierschneider   \n",
              "\n",
              "                                       businessaddress  ...  \\\n",
              "819                 13 Nottingham RoadBelperDE56 1JGGB  ...   \n",
              "100                           Dieselstr.4Kerpen50170DE  ...   \n",
              "882  Emil-Von-Behring Straße 2AltripRheinland Pfalz...  ...   \n",
              "321  Dr.-Salvador-Allende-Str.191ChemnitzSachsen091...  ...   \n",
              "947   MARUYAMACHO28-1 8th FloorSHIBUYAKUTOKYO1500044JP  ...   \n",
              "322                        Brechtestr. 44Rheine48431DE  ...   \n",
              "495  1249 S DIAMOND BAR BOULLEVARD UNIT 61DIAMOND B...  ...   \n",
              "837    Kurt-Schumacher-Str. 123Gelsenkirchennrw45881DE  ...   \n",
              "\n",
              "     MaxNegsellerRate90_%  MaxNegsellerRate12mnth_%    HP1    HP2  \\\n",
              "819                     0                         0  51755  35167   \n",
              "100                     3                         2  47337  32420   \n",
              "882                     4                         4  66776  32420   \n",
              "321                     5                         6  60384  57769   \n",
              "947                     8                         6  86856  37716   \n",
              "322                     9                         6  71673  58332   \n",
              "495                     7                         7  77714  70732   \n",
              "837                    18                        20  32420  30140   \n",
              "\n",
              "           Sample brand name  \\\n",
              "819                 Sharmans   \n",
              "100    Visit the Varta Store   \n",
              "882    Visit the Varta Store   \n",
              "321    Visit the Umbra Store   \n",
              "947                ZOJIRUSHI   \n",
              "322  Visit the Swiffer Store   \n",
              "495    Visit the Weber Store   \n",
              "837                 actiTube   \n",
              "\n",
              "                                      Sample Brand URL Pos_%    Phone_seller  \\\n",
              "819  https://www.amazon.de/-/en/s/ref=bl_dp_s_web_0...   100             NaN   \n",
              "100  https://www.amazon.de/-/en/stores/VARTA+/page/...    97      49 (0)2273   \n",
              "882  https://www.amazon.de/-/en/stores/VARTA+/page/...    94  +4962369329325   \n",
              "321  https://www.amazon.de/-/en/stores/Umbra/page/4...    94    371 400 7682   \n",
              "947  https://www.amazon.de/-/en/s/ref=bl_dp_s_web_0...    92             NaN   \n",
              "322  https://www.amazon.de/-/en/stores/P%26G+Swiffe...    92      8 00 38 03   \n",
              "495  https://www.amazon.de/-/en/stores/Weber/page/9...    91             NaN   \n",
              "837  https://www.amazon.de/-/en/actiTube/b/ref=bl_d...    80             NaN   \n",
              "\n",
              "                   E-mail_seller Country  \n",
              "819                          NaN      GB  \n",
              "100   info@kessler-electronic.de      DE  \n",
              "882  service@vitamed-quinger.com      DE  \n",
              "321         shop@varia-store.com      DE  \n",
              "947                          NaN      JP  \n",
              "322              info@limuno.com      DE  \n",
              "495                          NaN      US  \n",
              "837                  bier@web.de      DE  \n",
              "\n",
              "[8 rows x 22 columns]"
            ],
            "text/html": [
              "\n",
              "  <div id=\"df-6e9c7093-b46b-47b5-9b9f-705a60666861\">\n",
              "    <div class=\"colab-df-container\">\n",
              "      <div>\n",
              "<style scoped>\n",
              "    .dataframe tbody tr th:only-of-type {\n",
              "        vertical-align: middle;\n",
              "    }\n",
              "\n",
              "    .dataframe tbody tr th {\n",
              "        vertical-align: top;\n",
              "    }\n",
              "\n",
              "    .dataframe thead th {\n",
              "        text-align: right;\n",
              "    }\n",
              "</style>\n",
              "<table border=\"1\" class=\"dataframe\">\n",
              "  <thead>\n",
              "    <tr style=\"text-align: right;\">\n",
              "      <th></th>\n",
              "      <th>Date Added</th>\n",
              "      <th>category</th>\n",
              "      <th>sellerlink</th>\n",
              "      <th>sellerlink-url</th>\n",
              "      <th>sellerstorefront-url</th>\n",
              "      <th>sellerproductcount</th>\n",
              "      <th>sellerratings</th>\n",
              "      <th>sellerdetails</th>\n",
              "      <th>seller business name</th>\n",
              "      <th>businessaddress</th>\n",
              "      <th>...</th>\n",
              "      <th>MaxNegsellerRate90_%</th>\n",
              "      <th>MaxNegsellerRate12mnth_%</th>\n",
              "      <th>HP1</th>\n",
              "      <th>HP2</th>\n",
              "      <th>Sample brand name</th>\n",
              "      <th>Sample Brand URL</th>\n",
              "      <th>Pos_%</th>\n",
              "      <th>Phone_seller</th>\n",
              "      <th>E-mail_seller</th>\n",
              "      <th>Country</th>\n",
              "    </tr>\n",
              "  </thead>\n",
              "  <tbody>\n",
              "    <tr>\n",
              "      <th>819</th>\n",
              "      <td>2020-11-15</td>\n",
              "      <td>Garden</td>\n",
              "      <td>Seller 820</td>\n",
              "      <td>Seller 820-link</td>\n",
              "      <td>Seller 820-storefrontlink</td>\n",
              "      <td>10000</td>\n",
              "      <td>4</td>\n",
              "      <td>Venner Sales is committed to providing each cu...</td>\n",
              "      <td>Business Name:Venner Sales Ltd</td>\n",
              "      <td>13 Nottingham RoadBelperDE56 1JGGB</td>\n",
              "      <td>...</td>\n",
              "      <td>0</td>\n",
              "      <td>0</td>\n",
              "      <td>51755</td>\n",
              "      <td>35167</td>\n",
              "      <td>Sharmans</td>\n",
              "      <td>https://www.amazon.de/-/en/s/ref=bl_dp_s_web_0...</td>\n",
              "      <td>100</td>\n",
              "      <td>NaN</td>\n",
              "      <td>NaN</td>\n",
              "      <td>GB</td>\n",
              "    </tr>\n",
              "    <tr>\n",
              "      <th>100</th>\n",
              "      <td>2020-11-15</td>\n",
              "      <td>Garden</td>\n",
              "      <td>Seller 101</td>\n",
              "      <td>Seller 101-link</td>\n",
              "      <td>Seller 101-storefrontlink</td>\n",
              "      <td>7000</td>\n",
              "      <td>3416</td>\n",
              "      <td>Kessler electronic GmbH\\n Dieselstrasse 4\\n 50...</td>\n",
              "      <td>Business Name:Kessler electronic GmbH</td>\n",
              "      <td>Dieselstr.4Kerpen50170DE</td>\n",
              "      <td>...</td>\n",
              "      <td>3</td>\n",
              "      <td>2</td>\n",
              "      <td>47337</td>\n",
              "      <td>32420</td>\n",
              "      <td>Visit the Varta Store</td>\n",
              "      <td>https://www.amazon.de/-/en/stores/VARTA+/page/...</td>\n",
              "      <td>97</td>\n",
              "      <td>49 (0)2273</td>\n",
              "      <td>info@kessler-electronic.de</td>\n",
              "      <td>DE</td>\n",
              "    </tr>\n",
              "    <tr>\n",
              "      <th>882</th>\n",
              "      <td>2020-11-15</td>\n",
              "      <td>Garden</td>\n",
              "      <td>Seller 883</td>\n",
              "      <td>Seller 883-link</td>\n",
              "      <td>Seller 883-storefrontlink</td>\n",
              "      <td>4000</td>\n",
              "      <td>6086</td>\n",
              "      <td>Impressum\\n  \\n  Gesetzliche Anbieterkennung:\\...</td>\n",
              "      <td>Business Name:Vitamed Matthias Quinger e.K.</td>\n",
              "      <td>Emil-Von-Behring Straße 2AltripRheinland Pfalz...</td>\n",
              "      <td>...</td>\n",
              "      <td>4</td>\n",
              "      <td>4</td>\n",
              "      <td>66776</td>\n",
              "      <td>32420</td>\n",
              "      <td>Visit the Varta Store</td>\n",
              "      <td>https://www.amazon.de/-/en/stores/VARTA+/page/...</td>\n",
              "      <td>94</td>\n",
              "      <td>+4962369329325</td>\n",
              "      <td>service@vitamed-quinger.com</td>\n",
              "      <td>DE</td>\n",
              "    </tr>\n",
              "    <tr>\n",
              "      <th>321</th>\n",
              "      <td>2020-11-15</td>\n",
              "      <td>Garden</td>\n",
              "      <td>Seller 322</td>\n",
              "      <td>Seller 322-link</td>\n",
              "      <td>Seller 322-storefrontlink</td>\n",
              "      <td>7000</td>\n",
              "      <td>196</td>\n",
              "      <td>Impressum\\n \\n Gesetzliche Anbieterkennung:\\n ...</td>\n",
              "      <td>Business Name:VARIA System GmbH</td>\n",
              "      <td>Dr.-Salvador-Allende-Str.191ChemnitzSachsen091...</td>\n",
              "      <td>...</td>\n",
              "      <td>5</td>\n",
              "      <td>6</td>\n",
              "      <td>60384</td>\n",
              "      <td>57769</td>\n",
              "      <td>Visit the Umbra Store</td>\n",
              "      <td>https://www.amazon.de/-/en/stores/Umbra/page/4...</td>\n",
              "      <td>94</td>\n",
              "      <td>371 400 7682</td>\n",
              "      <td>shop@varia-store.com</td>\n",
              "      <td>DE</td>\n",
              "    </tr>\n",
              "    <tr>\n",
              "      <th>947</th>\n",
              "      <td>2020-11-15</td>\n",
              "      <td>Garden</td>\n",
              "      <td>Seller 948</td>\n",
              "      <td>Seller 948-link</td>\n",
              "      <td>Seller 948-storefrontlink</td>\n",
              "      <td>10000</td>\n",
              "      <td>159</td>\n",
              "      <td>want jp - Our vision is to become the world's ...</td>\n",
              "      <td>Business Name:VIP Plaza Japan Inc</td>\n",
              "      <td>MARUYAMACHO28-1 8th FloorSHIBUYAKUTOKYO1500044JP</td>\n",
              "      <td>...</td>\n",
              "      <td>8</td>\n",
              "      <td>6</td>\n",
              "      <td>86856</td>\n",
              "      <td>37716</td>\n",
              "      <td>ZOJIRUSHI</td>\n",
              "      <td>https://www.amazon.de/-/en/s/ref=bl_dp_s_web_0...</td>\n",
              "      <td>92</td>\n",
              "      <td>NaN</td>\n",
              "      <td>NaN</td>\n",
              "      <td>JP</td>\n",
              "    </tr>\n",
              "    <tr>\n",
              "      <th>322</th>\n",
              "      <td>2020-11-15</td>\n",
              "      <td>Garden</td>\n",
              "      <td>Seller 323</td>\n",
              "      <td>Seller 323-link</td>\n",
              "      <td>Seller 323-storefrontlink</td>\n",
              "      <td>30000</td>\n",
              "      <td>699</td>\n",
              "      <td>Milovan Stojkovic\\n Mühlenstr. 16\\n 48431 Rhei...</td>\n",
              "      <td>Business Name:Milovan Stojkovic</td>\n",
              "      <td>Brechtestr. 44Rheine48431DE</td>\n",
              "      <td>...</td>\n",
              "      <td>9</td>\n",
              "      <td>6</td>\n",
              "      <td>71673</td>\n",
              "      <td>58332</td>\n",
              "      <td>Visit the Swiffer Store</td>\n",
              "      <td>https://www.amazon.de/-/en/stores/P%26G+Swiffe...</td>\n",
              "      <td>92</td>\n",
              "      <td>8 00 38 03</td>\n",
              "      <td>info@limuno.com</td>\n",
              "      <td>DE</td>\n",
              "    </tr>\n",
              "    <tr>\n",
              "      <th>495</th>\n",
              "      <td>2020-11-15</td>\n",
              "      <td>Garden</td>\n",
              "      <td>Seller 496</td>\n",
              "      <td>Seller 496-link</td>\n",
              "      <td>Seller 496-storefrontlink</td>\n",
              "      <td>100000</td>\n",
              "      <td>288</td>\n",
              "      <td>SELECT ELITE is committed to providing each cu...</td>\n",
              "      <td>Business Name:C. Y. MARKETING INC.</td>\n",
              "      <td>1249 S DIAMOND BAR BOULLEVARD UNIT 61DIAMOND B...</td>\n",
              "      <td>...</td>\n",
              "      <td>7</td>\n",
              "      <td>7</td>\n",
              "      <td>77714</td>\n",
              "      <td>70732</td>\n",
              "      <td>Visit the Weber Store</td>\n",
              "      <td>https://www.amazon.de/-/en/stores/Weber/page/9...</td>\n",
              "      <td>91</td>\n",
              "      <td>NaN</td>\n",
              "      <td>NaN</td>\n",
              "      <td>US</td>\n",
              "    </tr>\n",
              "    <tr>\n",
              "      <th>837</th>\n",
              "      <td>2020-11-15</td>\n",
              "      <td>Garden</td>\n",
              "      <td>Seller 838</td>\n",
              "      <td>Seller 838-link</td>\n",
              "      <td>Seller 838-storefrontlink</td>\n",
              "      <td>2000</td>\n",
              "      <td>415</td>\n",
              "      <td>Versand-King\\n\\nInhaber: Swen Bierschneider\\n\\...</td>\n",
              "      <td>Business Name:Swen Bierschneider</td>\n",
              "      <td>Kurt-Schumacher-Str. 123Gelsenkirchennrw45881DE</td>\n",
              "      <td>...</td>\n",
              "      <td>18</td>\n",
              "      <td>20</td>\n",
              "      <td>32420</td>\n",
              "      <td>30140</td>\n",
              "      <td>actiTube</td>\n",
              "      <td>https://www.amazon.de/-/en/actiTube/b/ref=bl_d...</td>\n",
              "      <td>80</td>\n",
              "      <td>NaN</td>\n",
              "      <td>bier@web.de</td>\n",
              "      <td>DE</td>\n",
              "    </tr>\n",
              "  </tbody>\n",
              "</table>\n",
              "<p>8 rows × 22 columns</p>\n",
              "</div>\n",
              "      <button class=\"colab-df-convert\" onclick=\"convertToInteractive('df-6e9c7093-b46b-47b5-9b9f-705a60666861')\"\n",
              "              title=\"Convert this dataframe to an interactive table.\"\n",
              "              style=\"display:none;\">\n",
              "        \n",
              "  <svg xmlns=\"http://www.w3.org/2000/svg\" height=\"24px\"viewBox=\"0 0 24 24\"\n",
              "       width=\"24px\">\n",
              "    <path d=\"M0 0h24v24H0V0z\" fill=\"none\"/>\n",
              "    <path d=\"M18.56 5.44l.94 2.06.94-2.06 2.06-.94-2.06-.94-.94-2.06-.94 2.06-2.06.94zm-11 1L8.5 8.5l.94-2.06 2.06-.94-2.06-.94L8.5 2.5l-.94 2.06-2.06.94zm10 10l.94 2.06.94-2.06 2.06-.94-2.06-.94-.94-2.06-.94 2.06-2.06.94z\"/><path d=\"M17.41 7.96l-1.37-1.37c-.4-.4-.92-.59-1.43-.59-.52 0-1.04.2-1.43.59L10.3 9.45l-7.72 7.72c-.78.78-.78 2.05 0 2.83L4 21.41c.39.39.9.59 1.41.59.51 0 1.02-.2 1.41-.59l7.78-7.78 2.81-2.81c.8-.78.8-2.07 0-2.86zM5.41 20L4 18.59l7.72-7.72 1.47 1.35L5.41 20z\"/>\n",
              "  </svg>\n",
              "      </button>\n",
              "      \n",
              "  <style>\n",
              "    .colab-df-container {\n",
              "      display:flex;\n",
              "      flex-wrap:wrap;\n",
              "      gap: 12px;\n",
              "    }\n",
              "\n",
              "    .colab-df-convert {\n",
              "      background-color: #E8F0FE;\n",
              "      border: none;\n",
              "      border-radius: 50%;\n",
              "      cursor: pointer;\n",
              "      display: none;\n",
              "      fill: #1967D2;\n",
              "      height: 32px;\n",
              "      padding: 0 0 0 0;\n",
              "      width: 32px;\n",
              "    }\n",
              "\n",
              "    .colab-df-convert:hover {\n",
              "      background-color: #E2EBFA;\n",
              "      box-shadow: 0px 1px 2px rgba(60, 64, 67, 0.3), 0px 1px 3px 1px rgba(60, 64, 67, 0.15);\n",
              "      fill: #174EA6;\n",
              "    }\n",
              "\n",
              "    [theme=dark] .colab-df-convert {\n",
              "      background-color: #3B4455;\n",
              "      fill: #D2E3FC;\n",
              "    }\n",
              "\n",
              "    [theme=dark] .colab-df-convert:hover {\n",
              "      background-color: #434B5C;\n",
              "      box-shadow: 0px 1px 3px 1px rgba(0, 0, 0, 0.15);\n",
              "      filter: drop-shadow(0px 1px 2px rgba(0, 0, 0, 0.3));\n",
              "      fill: #FFFFFF;\n",
              "    }\n",
              "  </style>\n",
              "\n",
              "      <script>\n",
              "        const buttonEl =\n",
              "          document.querySelector('#df-6e9c7093-b46b-47b5-9b9f-705a60666861 button.colab-df-convert');\n",
              "        buttonEl.style.display =\n",
              "          google.colab.kernel.accessAllowed ? 'block' : 'none';\n",
              "\n",
              "        async function convertToInteractive(key) {\n",
              "          const element = document.querySelector('#df-6e9c7093-b46b-47b5-9b9f-705a60666861');\n",
              "          const dataTable =\n",
              "            await google.colab.kernel.invokeFunction('convertToInteractive',\n",
              "                                                     [key], {});\n",
              "          if (!dataTable) return;\n",
              "\n",
              "          const docLinkHtml = 'Like what you see? Visit the ' +\n",
              "            '<a target=\"_blank\" href=https://colab.research.google.com/notebooks/data_table.ipynb>data table notebook</a>'\n",
              "            + ' to learn more about interactive tables.';\n",
              "          element.innerHTML = '';\n",
              "          dataTable['output_type'] = 'display_data';\n",
              "          await google.colab.output.renderOutput(dataTable, element);\n",
              "          const docLink = document.createElement('div');\n",
              "          docLink.innerHTML = docLinkHtml;\n",
              "          element.appendChild(docLink);\n",
              "        }\n",
              "      </script>\n",
              "    </div>\n",
              "  </div>\n",
              "  "
            ]
          },
          "metadata": {},
          "execution_count": 45
        }
      ]
    },
    {
      "cell_type": "markdown",
      "source": [
        "Sorted df on the basis of pos% of rating, these are the top sellers"
      ],
      "metadata": {
        "id": "M9REE721QR_J"
      }
    }
  ]
}