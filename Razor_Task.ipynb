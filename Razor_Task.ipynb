{
  "nbformat": 4,
  "nbformat_minor": 0,
  "metadata": {
    "colab": {
      "provenance": []
    },
    "kernelspec": {
      "name": "python3",
      "display_name": "Python 3"
    },
    "language_info": {
      "name": "python"
    }
  },
  "cells": [
    {
      "cell_type": "markdown",
      "source": [
        "### Importing Libraries and loading dataset"
      ],
      "metadata": {
        "id": "MW03GCKOvLR6"
      }
    },
    {
      "cell_type": "code",
      "execution_count": 1,
      "metadata": {
        "id": "9wqf7imYYKAB"
      },
      "outputs": [],
      "source": [
        "import pandas as pd\n",
        "import matplotlib.pyplot as plt\n",
        "import matplotlib.gridspec as gridspec\n",
        "import seaborn as sns\n",
        "sns.set()\n",
        "import numpy as np\n",
        "import statsmodels.api as sm\n",
        "from sklearn.cluster import KMeans\n",
        "\n",
        "import warnings\n",
        "warnings.filterwarnings(\"ignore\")"
      ]
    },
    {
      "cell_type": "code",
      "source": [
        "ecommerce = pd.read_excel('/content/Sample_Longlist_Data.xlsx')\n",
        "ecommerce.head()"
      ],
      "metadata": {
        "colab": {
          "base_uri": "https://localhost:8080/",
          "height": 635
        },
        "id": "4O_aw8spai8u",
        "outputId": "c4886348-204a-4450-ace7-ec2fbc24d067"
      },
      "execution_count": 2,
      "outputs": [
        {
          "output_type": "execute_result",
          "data": {
            "text/plain": [
              "  Date Added category sellerlink sellerlink-url     sellerstorefront-url  \\\n",
              "0 2020-11-15   Garden   Seller 1  Seller 1-link  Seller 1-storefrontlink   \n",
              "1 2020-11-15   Garden   Seller 2  Seller 2-link  Seller 2-storefrontlink   \n",
              "2 2020-11-15   Garden   Seller 3  Seller 3-link  Seller 3-storefrontlink   \n",
              "3 2020-11-15   Garden   Seller 4  Seller 4-link  Seller 4-storefrontlink   \n",
              "4 2020-11-15   Garden   Seller 5  Seller 5-link  Seller 5-storefrontlink   \n",
              "\n",
              "             sellerproductcount  \\\n",
              "0  1-16 of over 100,000 results   \n",
              "1                           NaN   \n",
              "2    1-16 of over 2,000 results   \n",
              "3           1-16 of 123 results   \n",
              "4    1-16 of over 1,000 results   \n",
              "\n",
              "                                      sellerratings  \\\n",
              "0  88% positive in the last 12 months (118 ratings)   \n",
              "1  90% positive in the last 12 months (566 ratings)   \n",
              "2   85% positive in the last 12 months (75 ratings)   \n",
              "3                                               NaN   \n",
              "4   81% positive in the last 12 months (52 ratings)   \n",
              "\n",
              "                                       sellerdetails  \\\n",
              "0  Lohas Living Inc James Mazzello US 845 3RD Ave...   \n",
              "1  Herzlich Willkommen im Amazon Shop von 1a-Hand...   \n",
              "2  67878u6i7 is committed to providing each custo...   \n",
              "3  7 days home life supermarket is committed to p...   \n",
              "4  78 68yui678 is committed to providing each cus...   \n",
              "\n",
              "                                seller business name  \\\n",
              "0                     Business Name:Lohas Living Inc   \n",
              "1                    Business Name:1a-Handelsagentur   \n",
              "2  Business Name:nantongaohuanfangzhipinyouxiango...   \n",
              "3   Business Name:Zhengzhou Yaoqiong Trading Company   \n",
              "4  Business Name:shenzhenfeichangshangmeimaoyiyou...   \n",
              "\n",
              "                                     businessaddress  Count of seller brands  \\\n",
              "0  411 THEODORE FREMD AVESTE 206 SOUTHRyeNY10580-...                      16   \n",
              "1  1a HandelsagenturLindenallee 2MalchowMecklenbu...                       0   \n",
              "2  zhongnanshijicheng27zhuang1410haochongchuanqun...                      15   \n",
              "3         河南省中兴南路福禄街自贸试验区郑州片区（郑东）河南商会大厦1901室450000CN                       1   \n",
              "4  minzhidadaoshaxialaocun94dongA901longhuaxinqus...                      16   \n",
              "\n",
              "   Max % of negative seller ratings - last 30 days  \\\n",
              "0                                               17   \n",
              "1                                                2   \n",
              "2                                                0   \n",
              "3                                                0   \n",
              "4                                                0   \n",
              "\n",
              "   Max % of negative seller ratings - last 90 days  \\\n",
              "0                                               11   \n",
              "1                                                2   \n",
              "2                                               25   \n",
              "3                                                0   \n",
              "4                                               31   \n",
              "\n",
              "   Max % of negative seller ratings - last 12 months  Hero Product 1 #ratings  \\\n",
              "0                                                 12                     5873   \n",
              "1                                                  9                        0   \n",
              "2                                                 12                      164   \n",
              "3                                                  0                        0   \n",
              "4                                                 15                      224   \n",
              "\n",
              "   Hero Product 2 #ratings         Sample brand name  \\\n",
              "0                     4957  Visit the YAMAZAKI Store   \n",
              "1                        0      Visit the tesa Store   \n",
              "2                      162                    TXYFYP   \n",
              "3                        0                   SHIFENG   \n",
              "4                      113                   YUOKI99   \n",
              "\n",
              "                                    Sample Brand URL  \n",
              "0  https://www.amazon.de/-/en/stores/YAMAZAKI/pag...  \n",
              "1  https://www.amazon.de/-/en/stores/tesa/page/12...  \n",
              "2  https://www.amazon.de/-/en/s/ref=bl_dp_s_web_0...  \n",
              "3  https://www.amazon.de/-/en/s/ref=bl_dp_s_web_0...  \n",
              "4  https://www.amazon.de/-/en/s/ref=bl_dp_s_web_0...  "
            ],
            "text/html": [
              "\n",
              "  <div id=\"df-d7cead65-f303-480b-b389-d741db12bfaf\">\n",
              "    <div class=\"colab-df-container\">\n",
              "      <div>\n",
              "<style scoped>\n",
              "    .dataframe tbody tr th:only-of-type {\n",
              "        vertical-align: middle;\n",
              "    }\n",
              "\n",
              "    .dataframe tbody tr th {\n",
              "        vertical-align: top;\n",
              "    }\n",
              "\n",
              "    .dataframe thead th {\n",
              "        text-align: right;\n",
              "    }\n",
              "</style>\n",
              "<table border=\"1\" class=\"dataframe\">\n",
              "  <thead>\n",
              "    <tr style=\"text-align: right;\">\n",
              "      <th></th>\n",
              "      <th>Date Added</th>\n",
              "      <th>category</th>\n",
              "      <th>sellerlink</th>\n",
              "      <th>sellerlink-url</th>\n",
              "      <th>sellerstorefront-url</th>\n",
              "      <th>sellerproductcount</th>\n",
              "      <th>sellerratings</th>\n",
              "      <th>sellerdetails</th>\n",
              "      <th>seller business name</th>\n",
              "      <th>businessaddress</th>\n",
              "      <th>Count of seller brands</th>\n",
              "      <th>Max % of negative seller ratings - last 30 days</th>\n",
              "      <th>Max % of negative seller ratings - last 90 days</th>\n",
              "      <th>Max % of negative seller ratings - last 12 months</th>\n",
              "      <th>Hero Product 1 #ratings</th>\n",
              "      <th>Hero Product 2 #ratings</th>\n",
              "      <th>Sample brand name</th>\n",
              "      <th>Sample Brand URL</th>\n",
              "    </tr>\n",
              "  </thead>\n",
              "  <tbody>\n",
              "    <tr>\n",
              "      <th>0</th>\n",
              "      <td>2020-11-15</td>\n",
              "      <td>Garden</td>\n",
              "      <td>Seller 1</td>\n",
              "      <td>Seller 1-link</td>\n",
              "      <td>Seller 1-storefrontlink</td>\n",
              "      <td>1-16 of over 100,000 results</td>\n",
              "      <td>88% positive in the last 12 months (118 ratings)</td>\n",
              "      <td>Lohas Living Inc James Mazzello US 845 3RD Ave...</td>\n",
              "      <td>Business Name:Lohas Living Inc</td>\n",
              "      <td>411 THEODORE FREMD AVESTE 206 SOUTHRyeNY10580-...</td>\n",
              "      <td>16</td>\n",
              "      <td>17</td>\n",
              "      <td>11</td>\n",
              "      <td>12</td>\n",
              "      <td>5873</td>\n",
              "      <td>4957</td>\n",
              "      <td>Visit the YAMAZAKI Store</td>\n",
              "      <td>https://www.amazon.de/-/en/stores/YAMAZAKI/pag...</td>\n",
              "    </tr>\n",
              "    <tr>\n",
              "      <th>1</th>\n",
              "      <td>2020-11-15</td>\n",
              "      <td>Garden</td>\n",
              "      <td>Seller 2</td>\n",
              "      <td>Seller 2-link</td>\n",
              "      <td>Seller 2-storefrontlink</td>\n",
              "      <td>NaN</td>\n",
              "      <td>90% positive in the last 12 months (566 ratings)</td>\n",
              "      <td>Herzlich Willkommen im Amazon Shop von 1a-Hand...</td>\n",
              "      <td>Business Name:1a-Handelsagentur</td>\n",
              "      <td>1a HandelsagenturLindenallee 2MalchowMecklenbu...</td>\n",
              "      <td>0</td>\n",
              "      <td>2</td>\n",
              "      <td>2</td>\n",
              "      <td>9</td>\n",
              "      <td>0</td>\n",
              "      <td>0</td>\n",
              "      <td>Visit the tesa Store</td>\n",
              "      <td>https://www.amazon.de/-/en/stores/tesa/page/12...</td>\n",
              "    </tr>\n",
              "    <tr>\n",
              "      <th>2</th>\n",
              "      <td>2020-11-15</td>\n",
              "      <td>Garden</td>\n",
              "      <td>Seller 3</td>\n",
              "      <td>Seller 3-link</td>\n",
              "      <td>Seller 3-storefrontlink</td>\n",
              "      <td>1-16 of over 2,000 results</td>\n",
              "      <td>85% positive in the last 12 months (75 ratings)</td>\n",
              "      <td>67878u6i7 is committed to providing each custo...</td>\n",
              "      <td>Business Name:nantongaohuanfangzhipinyouxiango...</td>\n",
              "      <td>zhongnanshijicheng27zhuang1410haochongchuanqun...</td>\n",
              "      <td>15</td>\n",
              "      <td>0</td>\n",
              "      <td>25</td>\n",
              "      <td>12</td>\n",
              "      <td>164</td>\n",
              "      <td>162</td>\n",
              "      <td>TXYFYP</td>\n",
              "      <td>https://www.amazon.de/-/en/s/ref=bl_dp_s_web_0...</td>\n",
              "    </tr>\n",
              "    <tr>\n",
              "      <th>3</th>\n",
              "      <td>2020-11-15</td>\n",
              "      <td>Garden</td>\n",
              "      <td>Seller 4</td>\n",
              "      <td>Seller 4-link</td>\n",
              "      <td>Seller 4-storefrontlink</td>\n",
              "      <td>1-16 of 123 results</td>\n",
              "      <td>NaN</td>\n",
              "      <td>7 days home life supermarket is committed to p...</td>\n",
              "      <td>Business Name:Zhengzhou Yaoqiong Trading Company</td>\n",
              "      <td>河南省中兴南路福禄街自贸试验区郑州片区（郑东）河南商会大厦1901室450000CN</td>\n",
              "      <td>1</td>\n",
              "      <td>0</td>\n",
              "      <td>0</td>\n",
              "      <td>0</td>\n",
              "      <td>0</td>\n",
              "      <td>0</td>\n",
              "      <td>SHIFENG</td>\n",
              "      <td>https://www.amazon.de/-/en/s/ref=bl_dp_s_web_0...</td>\n",
              "    </tr>\n",
              "    <tr>\n",
              "      <th>4</th>\n",
              "      <td>2020-11-15</td>\n",
              "      <td>Garden</td>\n",
              "      <td>Seller 5</td>\n",
              "      <td>Seller 5-link</td>\n",
              "      <td>Seller 5-storefrontlink</td>\n",
              "      <td>1-16 of over 1,000 results</td>\n",
              "      <td>81% positive in the last 12 months (52 ratings)</td>\n",
              "      <td>78 68yui678 is committed to providing each cus...</td>\n",
              "      <td>Business Name:shenzhenfeichangshangmeimaoyiyou...</td>\n",
              "      <td>minzhidadaoshaxialaocun94dongA901longhuaxinqus...</td>\n",
              "      <td>16</td>\n",
              "      <td>0</td>\n",
              "      <td>31</td>\n",
              "      <td>15</td>\n",
              "      <td>224</td>\n",
              "      <td>113</td>\n",
              "      <td>YUOKI99</td>\n",
              "      <td>https://www.amazon.de/-/en/s/ref=bl_dp_s_web_0...</td>\n",
              "    </tr>\n",
              "  </tbody>\n",
              "</table>\n",
              "</div>\n",
              "      <button class=\"colab-df-convert\" onclick=\"convertToInteractive('df-d7cead65-f303-480b-b389-d741db12bfaf')\"\n",
              "              title=\"Convert this dataframe to an interactive table.\"\n",
              "              style=\"display:none;\">\n",
              "        \n",
              "  <svg xmlns=\"http://www.w3.org/2000/svg\" height=\"24px\"viewBox=\"0 0 24 24\"\n",
              "       width=\"24px\">\n",
              "    <path d=\"M0 0h24v24H0V0z\" fill=\"none\"/>\n",
              "    <path d=\"M18.56 5.44l.94 2.06.94-2.06 2.06-.94-2.06-.94-.94-2.06-.94 2.06-2.06.94zm-11 1L8.5 8.5l.94-2.06 2.06-.94-2.06-.94L8.5 2.5l-.94 2.06-2.06.94zm10 10l.94 2.06.94-2.06 2.06-.94-2.06-.94-.94-2.06-.94 2.06-2.06.94z\"/><path d=\"M17.41 7.96l-1.37-1.37c-.4-.4-.92-.59-1.43-.59-.52 0-1.04.2-1.43.59L10.3 9.45l-7.72 7.72c-.78.78-.78 2.05 0 2.83L4 21.41c.39.39.9.59 1.41.59.51 0 1.02-.2 1.41-.59l7.78-7.78 2.81-2.81c.8-.78.8-2.07 0-2.86zM5.41 20L4 18.59l7.72-7.72 1.47 1.35L5.41 20z\"/>\n",
              "  </svg>\n",
              "      </button>\n",
              "      \n",
              "  <style>\n",
              "    .colab-df-container {\n",
              "      display:flex;\n",
              "      flex-wrap:wrap;\n",
              "      gap: 12px;\n",
              "    }\n",
              "\n",
              "    .colab-df-convert {\n",
              "      background-color: #E8F0FE;\n",
              "      border: none;\n",
              "      border-radius: 50%;\n",
              "      cursor: pointer;\n",
              "      display: none;\n",
              "      fill: #1967D2;\n",
              "      height: 32px;\n",
              "      padding: 0 0 0 0;\n",
              "      width: 32px;\n",
              "    }\n",
              "\n",
              "    .colab-df-convert:hover {\n",
              "      background-color: #E2EBFA;\n",
              "      box-shadow: 0px 1px 2px rgba(60, 64, 67, 0.3), 0px 1px 3px 1px rgba(60, 64, 67, 0.15);\n",
              "      fill: #174EA6;\n",
              "    }\n",
              "\n",
              "    [theme=dark] .colab-df-convert {\n",
              "      background-color: #3B4455;\n",
              "      fill: #D2E3FC;\n",
              "    }\n",
              "\n",
              "    [theme=dark] .colab-df-convert:hover {\n",
              "      background-color: #434B5C;\n",
              "      box-shadow: 0px 1px 3px 1px rgba(0, 0, 0, 0.15);\n",
              "      filter: drop-shadow(0px 1px 2px rgba(0, 0, 0, 0.3));\n",
              "      fill: #FFFFFF;\n",
              "    }\n",
              "  </style>\n",
              "\n",
              "      <script>\n",
              "        const buttonEl =\n",
              "          document.querySelector('#df-d7cead65-f303-480b-b389-d741db12bfaf button.colab-df-convert');\n",
              "        buttonEl.style.display =\n",
              "          google.colab.kernel.accessAllowed ? 'block' : 'none';\n",
              "\n",
              "        async function convertToInteractive(key) {\n",
              "          const element = document.querySelector('#df-d7cead65-f303-480b-b389-d741db12bfaf');\n",
              "          const dataTable =\n",
              "            await google.colab.kernel.invokeFunction('convertToInteractive',\n",
              "                                                     [key], {});\n",
              "          if (!dataTable) return;\n",
              "\n",
              "          const docLinkHtml = 'Like what you see? Visit the ' +\n",
              "            '<a target=\"_blank\" href=https://colab.research.google.com/notebooks/data_table.ipynb>data table notebook</a>'\n",
              "            + ' to learn more about interactive tables.';\n",
              "          element.innerHTML = '';\n",
              "          dataTable['output_type'] = 'display_data';\n",
              "          await google.colab.output.renderOutput(dataTable, element);\n",
              "          const docLink = document.createElement('div');\n",
              "          docLink.innerHTML = docLinkHtml;\n",
              "          element.appendChild(docLink);\n",
              "        }\n",
              "      </script>\n",
              "    </div>\n",
              "  </div>\n",
              "  "
            ]
          },
          "metadata": {},
          "execution_count": 2
        }
      ]
    },
    {
      "cell_type": "code",
      "source": [
        "ecommerce.info()"
      ],
      "metadata": {
        "colab": {
          "base_uri": "https://localhost:8080/"
        },
        "id": "8hyAl80TQ2pb",
        "outputId": "2b8cd759-3043-412e-ae7c-ab3a0043bc48"
      },
      "execution_count": 3,
      "outputs": [
        {
          "output_type": "stream",
          "name": "stdout",
          "text": [
            "<class 'pandas.core.frame.DataFrame'>\n",
            "RangeIndex: 1839 entries, 0 to 1838\n",
            "Data columns (total 18 columns):\n",
            " #   Column                                             Non-Null Count  Dtype         \n",
            "---  ------                                             --------------  -----         \n",
            " 0   Date Added                                         1839 non-null   datetime64[ns]\n",
            " 1   category                                           1839 non-null   object        \n",
            " 2   sellerlink                                         1839 non-null   object        \n",
            " 3   sellerlink-url                                     1839 non-null   object        \n",
            " 4   sellerstorefront-url                               1839 non-null   object        \n",
            " 5   sellerproductcount                                 1513 non-null   object        \n",
            " 6   sellerratings                                      1411 non-null   object        \n",
            " 7   sellerdetails                                      1812 non-null   object        \n",
            " 8   seller business name                               1783 non-null   object        \n",
            " 9   businessaddress                                    1764 non-null   object        \n",
            " 10  Count of seller brands                             1839 non-null   int64         \n",
            " 11  Max % of negative seller ratings - last 30 days    1839 non-null   int64         \n",
            " 12  Max % of negative seller ratings - last 90 days    1839 non-null   int64         \n",
            " 13  Max % of negative seller ratings - last 12 months  1839 non-null   int64         \n",
            " 14  Hero Product 1 #ratings                            1839 non-null   int64         \n",
            " 15  Hero Product 2 #ratings                            1839 non-null   int64         \n",
            " 16  Sample brand name                                  1835 non-null   object        \n",
            " 17  Sample Brand URL                                   1839 non-null   object        \n",
            "dtypes: datetime64[ns](1), int64(6), object(11)\n",
            "memory usage: 258.7+ KB\n"
          ]
        }
      ]
    },
    {
      "cell_type": "markdown",
      "source": [
        "### Data Cleaning\n",
        "1. Dropping Null elements\n",
        "2. Indexing\n",
        "3. Extracting the sellercount\n",
        "4. Extracting the positive rate %\n",
        "5. Extracting the ratecount\n",
        "6. Extracting contact information\n",
        "7. Removing China(CN) "
      ],
      "metadata": {
        "id": "FQ3Z7gI8vc7r"
      }
    },
    {
      "cell_type": "markdown",
      "source": [
        "#### Dropping Null elements"
      ],
      "metadata": {
        "id": "ZaDhQoTpQ6Zb"
      }
    },
    {
      "cell_type": "code",
      "source": [
        "ecommerce.isna().sum()"
      ],
      "metadata": {
        "colab": {
          "base_uri": "https://localhost:8080/"
        },
        "id": "CNxVKIGdbK8C",
        "outputId": "a489e5bb-28b4-4f2c-afd1-36d856f7564e"
      },
      "execution_count": 4,
      "outputs": [
        {
          "output_type": "execute_result",
          "data": {
            "text/plain": [
              "Date Added                                             0\n",
              "category                                               0\n",
              "sellerlink                                             0\n",
              "sellerlink-url                                         0\n",
              "sellerstorefront-url                                   0\n",
              "sellerproductcount                                   326\n",
              "sellerratings                                        428\n",
              "sellerdetails                                         27\n",
              "seller business name                                  56\n",
              "businessaddress                                       75\n",
              "Count of seller brands                                 0\n",
              "Max % of negative seller ratings - last 30 days        0\n",
              "Max % of negative seller ratings - last 90 days        0\n",
              "Max % of negative seller ratings - last 12 months      0\n",
              "Hero Product 1 #ratings                                0\n",
              "Hero Product 2 #ratings                                0\n",
              "Sample brand name                                      4\n",
              "Sample Brand URL                                       0\n",
              "dtype: int64"
            ]
          },
          "metadata": {},
          "execution_count": 4
        }
      ]
    },
    {
      "cell_type": "code",
      "source": [
        "ecommerce.dropna(inplace=True)"
      ],
      "metadata": {
        "id": "ow93EqscbWkX"
      },
      "execution_count": 5,
      "outputs": []
    },
    {
      "cell_type": "code",
      "source": [
        "ecommerce.info()"
      ],
      "metadata": {
        "colab": {
          "base_uri": "https://localhost:8080/"
        },
        "id": "egZiez7Mbd24",
        "outputId": "ca790945-a413-402a-a296-eebda55b6020"
      },
      "execution_count": 6,
      "outputs": [
        {
          "output_type": "stream",
          "name": "stdout",
          "text": [
            "<class 'pandas.core.frame.DataFrame'>\n",
            "Int64Index: 1159 entries, 0 to 1838\n",
            "Data columns (total 18 columns):\n",
            " #   Column                                             Non-Null Count  Dtype         \n",
            "---  ------                                             --------------  -----         \n",
            " 0   Date Added                                         1159 non-null   datetime64[ns]\n",
            " 1   category                                           1159 non-null   object        \n",
            " 2   sellerlink                                         1159 non-null   object        \n",
            " 3   sellerlink-url                                     1159 non-null   object        \n",
            " 4   sellerstorefront-url                               1159 non-null   object        \n",
            " 5   sellerproductcount                                 1159 non-null   object        \n",
            " 6   sellerratings                                      1159 non-null   object        \n",
            " 7   sellerdetails                                      1159 non-null   object        \n",
            " 8   seller business name                               1159 non-null   object        \n",
            " 9   businessaddress                                    1159 non-null   object        \n",
            " 10  Count of seller brands                             1159 non-null   int64         \n",
            " 11  Max % of negative seller ratings - last 30 days    1159 non-null   int64         \n",
            " 12  Max % of negative seller ratings - last 90 days    1159 non-null   int64         \n",
            " 13  Max % of negative seller ratings - last 12 months  1159 non-null   int64         \n",
            " 14  Hero Product 1 #ratings                            1159 non-null   int64         \n",
            " 15  Hero Product 2 #ratings                            1159 non-null   int64         \n",
            " 16  Sample brand name                                  1159 non-null   object        \n",
            " 17  Sample Brand URL                                   1159 non-null   object        \n",
            "dtypes: datetime64[ns](1), int64(6), object(11)\n",
            "memory usage: 172.0+ KB\n"
          ]
        }
      ]
    },
    {
      "cell_type": "markdown",
      "source": [
        "#### Indexing"
      ],
      "metadata": {
        "id": "_WBDDxk5RAM7"
      }
    },
    {
      "cell_type": "code",
      "source": [
        "# Unique value \n",
        "#ecommerce['sellerlink'].is_unique\n",
        "#ecommerce = ecommerce.set_index('sellerlink')\n",
        "#ecommerce.head()"
      ],
      "metadata": {
        "id": "uB9SDjl3RCFl"
      },
      "execution_count": 7,
      "outputs": []
    },
    {
      "cell_type": "markdown",
      "source": [
        "#### Sellercount"
      ],
      "metadata": {
        "id": "UhS00ZUpvj3m"
      }
    },
    {
      "cell_type": "code",
      "source": [
        "#Extracting the count \n",
        "ecommerce['sellerproductcount'] = ecommerce['sellerproductcount'].str.split(\" \").str[-2]"
      ],
      "metadata": {
        "id": "tg9YR2mWvp5o"
      },
      "execution_count": 8,
      "outputs": []
    },
    {
      "cell_type": "markdown",
      "source": [
        "#### Sellerrating"
      ],
      "metadata": {
        "id": "jDyXyjiSvr7v"
      }
    },
    {
      "cell_type": "code",
      "source": [
        "#Extracting the positive % of rating in last 12 months\n",
        "ecommerce['Positive %'] = ecommerce['sellerratings'].str.split(\"%\").str[0]\n",
        "\n",
        "#extracting the number of ratings\n",
        "ecommerce['sellerratings'] = ecommerce['sellerratings'].str.extract('\\((\\d+(?:-\\d+)?)', expand=False)"
      ],
      "metadata": {
        "id": "K_GuKDhYvvoP"
      },
      "execution_count": 9,
      "outputs": []
    },
    {
      "cell_type": "markdown",
      "source": [
        "#### Contact details of seller"
      ],
      "metadata": {
        "id": "78LfIk2Ivz3P"
      }
    },
    {
      "cell_type": "code",
      "source": [
        "#Extracting phone number and email of the seller \n",
        "\n",
        "ecommerce['Phone_seller'] = ecommerce['sellerdetails'].str.extract(r'([\\+\\(]?[1-9][0-9 .\\-\\(\\)]{8,}[0-9])')\n",
        "ecommerce['E-mail_seller'] = ecommerce['sellerdetails'].str.extract(r'([a-zA-Z][a-zA-Z0-9._%+-]+@[a-zA-Z0-9.-]+\\.[a-zA-Z]+)')\n"
      ],
      "metadata": {
        "id": "KusJmjG0nSj-"
      },
      "execution_count": 10,
      "outputs": []
    },
    {
      "cell_type": "markdown",
      "source": [
        "#### business address"
      ],
      "metadata": {
        "id": "IXLtRIMpwqj0"
      }
    },
    {
      "cell_type": "code",
      "source": [
        "#Removing China(CN)\n",
        "\n",
        "ecommerce['Country'] = ecommerce['businessaddress'].str[-2:]\n",
        "ecommerce = ecommerce[ecommerce['Country'] != 'CN']\n",
        "\n",
        "ecommerce.head()"
      ],
      "metadata": {
        "colab": {
          "base_uri": "https://localhost:8080/",
          "height": 647
        },
        "id": "6QUQYkXTwqNt",
        "outputId": "fd670594-d01e-4222-fa98-b2312be077f9"
      },
      "execution_count": 11,
      "outputs": [
        {
          "output_type": "execute_result",
          "data": {
            "text/plain": [
              "   Date Added category sellerlink  sellerlink-url      sellerstorefront-url  \\\n",
              "0  2020-11-15   Garden   Seller 1   Seller 1-link   Seller 1-storefrontlink   \n",
              "14 2020-11-15   Garden  Seller 15  Seller 15-link  Seller 15-storefrontlink   \n",
              "22 2020-11-15   Garden  Seller 23  Seller 23-link  Seller 23-storefrontlink   \n",
              "23 2020-11-15   Garden  Seller 24  Seller 24-link  Seller 24-storefrontlink   \n",
              "24 2020-11-15   Garden  Seller 25  Seller 25-link  Seller 25-storefrontlink   \n",
              "\n",
              "   sellerproductcount sellerratings  \\\n",
              "0             100,000           118   \n",
              "14                919           116   \n",
              "22             40,000            10   \n",
              "23            100,000          3134   \n",
              "24              3,000           610   \n",
              "\n",
              "                                        sellerdetails  \\\n",
              "0   Lohas Living Inc James Mazzello US 845 3RD Ave...   \n",
              "14  Impressum\\n \\n Gesetzliche Anbieterkennung:\\n ...   \n",
              "22  Bestof Floral is committed to providing each c...   \n",
              "23  Blumenbecker Industriebedarf GmbH Sudhoferweg ...   \n",
              "24  Herzlich willkommen auf unserer Internetpräsen...   \n",
              "\n",
              "                               seller business name  \\\n",
              "0                    Business Name:Lohas Living Inc   \n",
              "14                       Business Name:Oliver Mills   \n",
              "22                Business Name:MADEWELL SUPPLY INC   \n",
              "23  Business Name:Blumenbecker Industriebedarf GmbH   \n",
              "24   Business Name:Jörg Müller & Petra Scheerer GbR   \n",
              "\n",
              "                                      businessaddress  ...  \\\n",
              "0   411 THEODORE FREMD AVESTE 206 SOUTHRyeNY10580-...  ...   \n",
              "14                  Kaiserstr.12Borgholzhausen33829DE  ...   \n",
              "22        90 BROAD ST 2ND FLOORNEW YORKNY10004-2205US  ...   \n",
              "23                 Sudhoferweg 99-107BeckumNRW59269DE  ...   \n",
              "24            Miranderstr.21Korntal-Münchingen70825DE  ...   \n",
              "\n",
              "    Max % of negative seller ratings - last 90 days  \\\n",
              "0                                                11   \n",
              "14                                                0   \n",
              "22                                                0   \n",
              "23                                               12   \n",
              "24                                                1   \n",
              "\n",
              "    Max % of negative seller ratings - last 12 months  \\\n",
              "0                                                  12   \n",
              "14                                                  3   \n",
              "22                                                  0   \n",
              "23                                                 10   \n",
              "24                                                  2   \n",
              "\n",
              "    Hero Product 1 #ratings  Hero Product 2 #ratings  \\\n",
              "0                      5873                     4957   \n",
              "14                     1446                      921   \n",
              "22                    10538                     8293   \n",
              "23                    30139                    11182   \n",
              "24                     3286                     3079   \n",
              "\n",
              "                   Sample brand name  \\\n",
              "0           Visit the YAMAZAKI Store   \n",
              "14                         Unbekannt   \n",
              "22  Visit the Seville Classics Store   \n",
              "23              Visit the tesa Store   \n",
              "24                          Neudorff   \n",
              "\n",
              "                                     Sample Brand URL Positive %  \\\n",
              "0   https://www.amazon.de/-/en/stores/YAMAZAKI/pag...         88   \n",
              "14  https://www.amazon.de/-/en/Unbekannt/b/ref=bl_...         97   \n",
              "22  https://www.amazon.de/-/en/stores/Seville+Clas...        100   \n",
              "23  https://www.amazon.de/-/en/stores/tesa/page/12...         88   \n",
              "24  https://www.amazon.de/-/en/s/ref=bl_dp_s_web_0...         97   \n",
              "\n",
              "    Phone_seller                E-mail_seller Country  \n",
              "0     10022-6630        jadgemaello@gmail.com      US  \n",
              "14   15140008562       webmaster@9pm-store.de      DE  \n",
              "22           NaN                          NaN      US  \n",
              "23  99-107 59269  bib.beckum@blumenbecker.com      DE  \n",
              "24           NaN                          NaN      DE  \n",
              "\n",
              "[5 rows x 22 columns]"
            ],
            "text/html": [
              "\n",
              "  <div id=\"df-96db5244-2025-4ff3-94d9-bfd0b845f210\">\n",
              "    <div class=\"colab-df-container\">\n",
              "      <div>\n",
              "<style scoped>\n",
              "    .dataframe tbody tr th:only-of-type {\n",
              "        vertical-align: middle;\n",
              "    }\n",
              "\n",
              "    .dataframe tbody tr th {\n",
              "        vertical-align: top;\n",
              "    }\n",
              "\n",
              "    .dataframe thead th {\n",
              "        text-align: right;\n",
              "    }\n",
              "</style>\n",
              "<table border=\"1\" class=\"dataframe\">\n",
              "  <thead>\n",
              "    <tr style=\"text-align: right;\">\n",
              "      <th></th>\n",
              "      <th>Date Added</th>\n",
              "      <th>category</th>\n",
              "      <th>sellerlink</th>\n",
              "      <th>sellerlink-url</th>\n",
              "      <th>sellerstorefront-url</th>\n",
              "      <th>sellerproductcount</th>\n",
              "      <th>sellerratings</th>\n",
              "      <th>sellerdetails</th>\n",
              "      <th>seller business name</th>\n",
              "      <th>businessaddress</th>\n",
              "      <th>...</th>\n",
              "      <th>Max % of negative seller ratings - last 90 days</th>\n",
              "      <th>Max % of negative seller ratings - last 12 months</th>\n",
              "      <th>Hero Product 1 #ratings</th>\n",
              "      <th>Hero Product 2 #ratings</th>\n",
              "      <th>Sample brand name</th>\n",
              "      <th>Sample Brand URL</th>\n",
              "      <th>Positive %</th>\n",
              "      <th>Phone_seller</th>\n",
              "      <th>E-mail_seller</th>\n",
              "      <th>Country</th>\n",
              "    </tr>\n",
              "  </thead>\n",
              "  <tbody>\n",
              "    <tr>\n",
              "      <th>0</th>\n",
              "      <td>2020-11-15</td>\n",
              "      <td>Garden</td>\n",
              "      <td>Seller 1</td>\n",
              "      <td>Seller 1-link</td>\n",
              "      <td>Seller 1-storefrontlink</td>\n",
              "      <td>100,000</td>\n",
              "      <td>118</td>\n",
              "      <td>Lohas Living Inc James Mazzello US 845 3RD Ave...</td>\n",
              "      <td>Business Name:Lohas Living Inc</td>\n",
              "      <td>411 THEODORE FREMD AVESTE 206 SOUTHRyeNY10580-...</td>\n",
              "      <td>...</td>\n",
              "      <td>11</td>\n",
              "      <td>12</td>\n",
              "      <td>5873</td>\n",
              "      <td>4957</td>\n",
              "      <td>Visit the YAMAZAKI Store</td>\n",
              "      <td>https://www.amazon.de/-/en/stores/YAMAZAKI/pag...</td>\n",
              "      <td>88</td>\n",
              "      <td>10022-6630</td>\n",
              "      <td>jadgemaello@gmail.com</td>\n",
              "      <td>US</td>\n",
              "    </tr>\n",
              "    <tr>\n",
              "      <th>14</th>\n",
              "      <td>2020-11-15</td>\n",
              "      <td>Garden</td>\n",
              "      <td>Seller 15</td>\n",
              "      <td>Seller 15-link</td>\n",
              "      <td>Seller 15-storefrontlink</td>\n",
              "      <td>919</td>\n",
              "      <td>116</td>\n",
              "      <td>Impressum\\n \\n Gesetzliche Anbieterkennung:\\n ...</td>\n",
              "      <td>Business Name:Oliver Mills</td>\n",
              "      <td>Kaiserstr.12Borgholzhausen33829DE</td>\n",
              "      <td>...</td>\n",
              "      <td>0</td>\n",
              "      <td>3</td>\n",
              "      <td>1446</td>\n",
              "      <td>921</td>\n",
              "      <td>Unbekannt</td>\n",
              "      <td>https://www.amazon.de/-/en/Unbekannt/b/ref=bl_...</td>\n",
              "      <td>97</td>\n",
              "      <td>15140008562</td>\n",
              "      <td>webmaster@9pm-store.de</td>\n",
              "      <td>DE</td>\n",
              "    </tr>\n",
              "    <tr>\n",
              "      <th>22</th>\n",
              "      <td>2020-11-15</td>\n",
              "      <td>Garden</td>\n",
              "      <td>Seller 23</td>\n",
              "      <td>Seller 23-link</td>\n",
              "      <td>Seller 23-storefrontlink</td>\n",
              "      <td>40,000</td>\n",
              "      <td>10</td>\n",
              "      <td>Bestof Floral is committed to providing each c...</td>\n",
              "      <td>Business Name:MADEWELL SUPPLY INC</td>\n",
              "      <td>90 BROAD ST 2ND FLOORNEW YORKNY10004-2205US</td>\n",
              "      <td>...</td>\n",
              "      <td>0</td>\n",
              "      <td>0</td>\n",
              "      <td>10538</td>\n",
              "      <td>8293</td>\n",
              "      <td>Visit the Seville Classics Store</td>\n",
              "      <td>https://www.amazon.de/-/en/stores/Seville+Clas...</td>\n",
              "      <td>100</td>\n",
              "      <td>NaN</td>\n",
              "      <td>NaN</td>\n",
              "      <td>US</td>\n",
              "    </tr>\n",
              "    <tr>\n",
              "      <th>23</th>\n",
              "      <td>2020-11-15</td>\n",
              "      <td>Garden</td>\n",
              "      <td>Seller 24</td>\n",
              "      <td>Seller 24-link</td>\n",
              "      <td>Seller 24-storefrontlink</td>\n",
              "      <td>100,000</td>\n",
              "      <td>3134</td>\n",
              "      <td>Blumenbecker Industriebedarf GmbH Sudhoferweg ...</td>\n",
              "      <td>Business Name:Blumenbecker Industriebedarf GmbH</td>\n",
              "      <td>Sudhoferweg 99-107BeckumNRW59269DE</td>\n",
              "      <td>...</td>\n",
              "      <td>12</td>\n",
              "      <td>10</td>\n",
              "      <td>30139</td>\n",
              "      <td>11182</td>\n",
              "      <td>Visit the tesa Store</td>\n",
              "      <td>https://www.amazon.de/-/en/stores/tesa/page/12...</td>\n",
              "      <td>88</td>\n",
              "      <td>99-107 59269</td>\n",
              "      <td>bib.beckum@blumenbecker.com</td>\n",
              "      <td>DE</td>\n",
              "    </tr>\n",
              "    <tr>\n",
              "      <th>24</th>\n",
              "      <td>2020-11-15</td>\n",
              "      <td>Garden</td>\n",
              "      <td>Seller 25</td>\n",
              "      <td>Seller 25-link</td>\n",
              "      <td>Seller 25-storefrontlink</td>\n",
              "      <td>3,000</td>\n",
              "      <td>610</td>\n",
              "      <td>Herzlich willkommen auf unserer Internetpräsen...</td>\n",
              "      <td>Business Name:Jörg Müller &amp; Petra Scheerer GbR</td>\n",
              "      <td>Miranderstr.21Korntal-Münchingen70825DE</td>\n",
              "      <td>...</td>\n",
              "      <td>1</td>\n",
              "      <td>2</td>\n",
              "      <td>3286</td>\n",
              "      <td>3079</td>\n",
              "      <td>Neudorff</td>\n",
              "      <td>https://www.amazon.de/-/en/s/ref=bl_dp_s_web_0...</td>\n",
              "      <td>97</td>\n",
              "      <td>NaN</td>\n",
              "      <td>NaN</td>\n",
              "      <td>DE</td>\n",
              "    </tr>\n",
              "  </tbody>\n",
              "</table>\n",
              "<p>5 rows × 22 columns</p>\n",
              "</div>\n",
              "      <button class=\"colab-df-convert\" onclick=\"convertToInteractive('df-96db5244-2025-4ff3-94d9-bfd0b845f210')\"\n",
              "              title=\"Convert this dataframe to an interactive table.\"\n",
              "              style=\"display:none;\">\n",
              "        \n",
              "  <svg xmlns=\"http://www.w3.org/2000/svg\" height=\"24px\"viewBox=\"0 0 24 24\"\n",
              "       width=\"24px\">\n",
              "    <path d=\"M0 0h24v24H0V0z\" fill=\"none\"/>\n",
              "    <path d=\"M18.56 5.44l.94 2.06.94-2.06 2.06-.94-2.06-.94-.94-2.06-.94 2.06-2.06.94zm-11 1L8.5 8.5l.94-2.06 2.06-.94-2.06-.94L8.5 2.5l-.94 2.06-2.06.94zm10 10l.94 2.06.94-2.06 2.06-.94-2.06-.94-.94-2.06-.94 2.06-2.06.94z\"/><path d=\"M17.41 7.96l-1.37-1.37c-.4-.4-.92-.59-1.43-.59-.52 0-1.04.2-1.43.59L10.3 9.45l-7.72 7.72c-.78.78-.78 2.05 0 2.83L4 21.41c.39.39.9.59 1.41.59.51 0 1.02-.2 1.41-.59l7.78-7.78 2.81-2.81c.8-.78.8-2.07 0-2.86zM5.41 20L4 18.59l7.72-7.72 1.47 1.35L5.41 20z\"/>\n",
              "  </svg>\n",
              "      </button>\n",
              "      \n",
              "  <style>\n",
              "    .colab-df-container {\n",
              "      display:flex;\n",
              "      flex-wrap:wrap;\n",
              "      gap: 12px;\n",
              "    }\n",
              "\n",
              "    .colab-df-convert {\n",
              "      background-color: #E8F0FE;\n",
              "      border: none;\n",
              "      border-radius: 50%;\n",
              "      cursor: pointer;\n",
              "      display: none;\n",
              "      fill: #1967D2;\n",
              "      height: 32px;\n",
              "      padding: 0 0 0 0;\n",
              "      width: 32px;\n",
              "    }\n",
              "\n",
              "    .colab-df-convert:hover {\n",
              "      background-color: #E2EBFA;\n",
              "      box-shadow: 0px 1px 2px rgba(60, 64, 67, 0.3), 0px 1px 3px 1px rgba(60, 64, 67, 0.15);\n",
              "      fill: #174EA6;\n",
              "    }\n",
              "\n",
              "    [theme=dark] .colab-df-convert {\n",
              "      background-color: #3B4455;\n",
              "      fill: #D2E3FC;\n",
              "    }\n",
              "\n",
              "    [theme=dark] .colab-df-convert:hover {\n",
              "      background-color: #434B5C;\n",
              "      box-shadow: 0px 1px 3px 1px rgba(0, 0, 0, 0.15);\n",
              "      filter: drop-shadow(0px 1px 2px rgba(0, 0, 0, 0.3));\n",
              "      fill: #FFFFFF;\n",
              "    }\n",
              "  </style>\n",
              "\n",
              "      <script>\n",
              "        const buttonEl =\n",
              "          document.querySelector('#df-96db5244-2025-4ff3-94d9-bfd0b845f210 button.colab-df-convert');\n",
              "        buttonEl.style.display =\n",
              "          google.colab.kernel.accessAllowed ? 'block' : 'none';\n",
              "\n",
              "        async function convertToInteractive(key) {\n",
              "          const element = document.querySelector('#df-96db5244-2025-4ff3-94d9-bfd0b845f210');\n",
              "          const dataTable =\n",
              "            await google.colab.kernel.invokeFunction('convertToInteractive',\n",
              "                                                     [key], {});\n",
              "          if (!dataTable) return;\n",
              "\n",
              "          const docLinkHtml = 'Like what you see? Visit the ' +\n",
              "            '<a target=\"_blank\" href=https://colab.research.google.com/notebooks/data_table.ipynb>data table notebook</a>'\n",
              "            + ' to learn more about interactive tables.';\n",
              "          element.innerHTML = '';\n",
              "          dataTable['output_type'] = 'display_data';\n",
              "          await google.colab.output.renderOutput(dataTable, element);\n",
              "          const docLink = document.createElement('div');\n",
              "          docLink.innerHTML = docLinkHtml;\n",
              "          element.appendChild(docLink);\n",
              "        }\n",
              "      </script>\n",
              "    </div>\n",
              "  </div>\n",
              "  "
            ]
          },
          "metadata": {},
          "execution_count": 11
        }
      ]
    },
    {
      "cell_type": "code",
      "source": [
        "ecommerce.rename(columns = {'Count of seller brands':'sellerbrandcount', 'Max % of negative seller ratings - last 30 days':'MaxNegsellerRate30_%',\n",
        "                              'Max % of negative seller ratings - last 90 days':'MaxNegsellerRate90_%','Max % of negative seller ratings - last 12 months':'MaxNegsellerRate12mnth_%',\n",
        "                              'Hero Product 1 #ratings':'HP1','Hero Product 2 #ratings': 'HP2','Positive %': 'Pos_%'}, inplace = True)"
      ],
      "metadata": {
        "id": "HRcRmUem8otE"
      },
      "execution_count": 12,
      "outputs": []
    },
    {
      "cell_type": "code",
      "source": [
        "list(ecommerce.columns)"
      ],
      "metadata": {
        "colab": {
          "base_uri": "https://localhost:8080/"
        },
        "id": "BoknuVU4-NEh",
        "outputId": "b999f6e6-d244-45a2-b091-8bd98a8cdb16"
      },
      "execution_count": 13,
      "outputs": [
        {
          "output_type": "execute_result",
          "data": {
            "text/plain": [
              "['Date Added',\n",
              " 'category',\n",
              " 'sellerlink',\n",
              " 'sellerlink-url',\n",
              " 'sellerstorefront-url',\n",
              " 'sellerproductcount',\n",
              " 'sellerratings',\n",
              " 'sellerdetails',\n",
              " 'seller business name',\n",
              " 'businessaddress',\n",
              " 'sellerbrandcount',\n",
              " 'MaxNegsellerRate30_%',\n",
              " 'MaxNegsellerRate90_%',\n",
              " 'MaxNegsellerRate12mnth_%',\n",
              " 'HP1',\n",
              " 'HP2',\n",
              " 'Sample brand name',\n",
              " 'Sample Brand URL',\n",
              " 'Pos_%',\n",
              " 'Phone_seller',\n",
              " 'E-mail_seller',\n",
              " 'Country']"
            ]
          },
          "metadata": {},
          "execution_count": 13
        }
      ]
    },
    {
      "cell_type": "code",
      "source": [
        "ecommerce['sellerproductcount']= ecommerce['sellerproductcount'].str.replace(',', '')\n",
        "ecommerce[['sellerproductcount','sellerratings','Pos_%']] = ecommerce[['sellerproductcount','sellerratings','Pos_%']].astype(str).astype(int)\n"
      ],
      "metadata": {
        "id": "Bvl9anFr-wlg"
      },
      "execution_count": 14,
      "outputs": []
    },
    {
      "cell_type": "markdown",
      "source": [
        "### Analysis"
      ],
      "metadata": {
        "id": "zFZhHgsEKmnz"
      }
    },
    {
      "cell_type": "markdown",
      "source": [
        "##### Bar Plots"
      ],
      "metadata": {
        "id": "XvbMT2ru7jVZ"
      }
    },
    {
      "cell_type": "code",
      "source": [
        "print(ecommerce['sellerratings'])"
      ],
      "metadata": {
        "colab": {
          "base_uri": "https://localhost:8080/"
        },
        "id": "W5BSje_E4bkY",
        "outputId": "22dbcf1f-4469-4d62-c75c-e222cdbd36bf"
      },
      "execution_count": 15,
      "outputs": [
        {
          "output_type": "stream",
          "name": "stdout",
          "text": [
            "0        118\n",
            "14       116\n",
            "22        10\n",
            "23      3134\n",
            "24       610\n",
            "        ... \n",
            "1784    2630\n",
            "1785       3\n",
            "1808      16\n",
            "1814    3075\n",
            "1815       4\n",
            "Name: sellerratings, Length: 432, dtype: int64\n"
          ]
        }
      ]
    },
    {
      "cell_type": "code",
      "source": [
        "n_ecom = ecommerce.copy()"
      ],
      "metadata": {
        "id": "MsAiT9OPxjnF"
      },
      "execution_count": 16,
      "outputs": []
    },
    {
      "cell_type": "code",
      "source": [
        "#index_names = n_ecom[(n_ecom['MaxNegsellerRate30_%'] >= 20) & (n_ecom['MaxNegsellerRate90_%'] >= 20) & (n_ecom['MaxNegsellerRate12mnth_%'] >= 20)\n",
        "#                      & (n_ecom['Pos_%'] <= 80) & (n_ecom['sellerbrandcount'] <= 10) & (n_ecom['HP1'] <= 10000) & (n_ecom['HP2'] <= 10000) ].index\n",
        "#n_ecom.drop(index_names, inplace = True)"
      ],
      "metadata": {
        "id": "iO-QZJ74Wk31"
      },
      "execution_count": 17,
      "outputs": []
    },
    {
      "cell_type": "code",
      "source": [
        "index_names = n_ecom[(n_ecom['MaxNegsellerRate30_%'] >= 20)].index\n",
        "n_ecom.drop(index_names, inplace = True)\n",
        "index_names1 = n_ecom[(n_ecom['MaxNegsellerRate90_%'] >= 20)].index\n",
        "n_ecom.drop(index_names1, inplace = True)\n",
        "index_names2 = n_ecom[(n_ecom['MaxNegsellerRate12mnth_%'] >= 20)].index\n",
        "n_ecom.drop(index_names2, inplace = True)\n",
        "index_names3 = n_ecom[(n_ecom['Pos_%'] <= 80)].index\n",
        "n_ecom.drop(index_names3, inplace = True)\n",
        "index_names4 = n_ecom[(n_ecom['sellerbrandcount'] <= 10)].index\n",
        "n_ecom.drop(index_names4, inplace = True)\n",
        "index_names5 = n_ecom[(n_ecom['HP1'] <= 10000)].index\n",
        "n_ecom.drop(index_names5, inplace = True)\n",
        "index_names6 = n_ecom[(n_ecom['HP2'] <= 10000)].index\n",
        "n_ecom.drop(index_names6, inplace = True)"
      ],
      "metadata": {
        "id": "5CeduxYbxn0v"
      },
      "execution_count": 18,
      "outputs": []
    },
    {
      "cell_type": "markdown",
      "source": [
        "Set a threshold value for different columns : \n",
        "\n",
        "* For Max % of negative reviews in 30days, 90 days and 12 months, all the values less 20% is accepted\n",
        "* lly for postive % of reviews, more than 80% is selected\n",
        "* brand count more than 10\n",
        "* Hero product 1 and 2 should have atleast 10000 reviews\n",
        "\n",
        "On the basis of this the different bar plots are plotted\n"
      ],
      "metadata": {
        "id": "8tVqmEOwO9Hc"
      }
    },
    {
      "cell_type": "code",
      "source": [
        "n_ecom.info()"
      ],
      "metadata": {
        "colab": {
          "base_uri": "https://localhost:8080/"
        },
        "id": "HM9VtGstxt6d",
        "outputId": "0b585a5f-cc44-48ca-92d3-88dac49efbfe"
      },
      "execution_count": 19,
      "outputs": [
        {
          "output_type": "stream",
          "name": "stdout",
          "text": [
            "<class 'pandas.core.frame.DataFrame'>\n",
            "Int64Index: 24 entries, 23 to 1815\n",
            "Data columns (total 22 columns):\n",
            " #   Column                    Non-Null Count  Dtype         \n",
            "---  ------                    --------------  -----         \n",
            " 0   Date Added                24 non-null     datetime64[ns]\n",
            " 1   category                  24 non-null     object        \n",
            " 2   sellerlink                24 non-null     object        \n",
            " 3   sellerlink-url            24 non-null     object        \n",
            " 4   sellerstorefront-url      24 non-null     object        \n",
            " 5   sellerproductcount        24 non-null     int64         \n",
            " 6   sellerratings             24 non-null     int64         \n",
            " 7   sellerdetails             24 non-null     object        \n",
            " 8   seller business name      24 non-null     object        \n",
            " 9   businessaddress           24 non-null     object        \n",
            " 10  sellerbrandcount          24 non-null     int64         \n",
            " 11  MaxNegsellerRate30_%      24 non-null     int64         \n",
            " 12  MaxNegsellerRate90_%      24 non-null     int64         \n",
            " 13  MaxNegsellerRate12mnth_%  24 non-null     int64         \n",
            " 14  HP1                       24 non-null     int64         \n",
            " 15  HP2                       24 non-null     int64         \n",
            " 16  Sample brand name         24 non-null     object        \n",
            " 17  Sample Brand URL          24 non-null     object        \n",
            " 18  Pos_%                     24 non-null     int64         \n",
            " 19  Phone_seller              10 non-null     object        \n",
            " 20  E-mail_seller             14 non-null     object        \n",
            " 21  Country                   24 non-null     object        \n",
            "dtypes: datetime64[ns](1), int64(9), object(12)\n",
            "memory usage: 4.3+ KB\n"
          ]
        }
      ]
    },
    {
      "cell_type": "markdown",
      "source": [
        "Based on filtering process top 24 products are found."
      ],
      "metadata": {
        "id": "La3bu-5zP0ah"
      }
    },
    {
      "cell_type": "code",
      "source": [
        "n_ecom.head(10)"
      ],
      "metadata": {
        "colab": {
          "base_uri": "https://localhost:8080/",
          "height": 960
        },
        "id": "xaw3rtqSymmt",
        "outputId": "55d262d7-71e1-4b5d-edd4-15ed8d902e49"
      },
      "execution_count": 20,
      "outputs": [
        {
          "output_type": "execute_result",
          "data": {
            "text/plain": [
              "    Date Added category  sellerlink   sellerlink-url  \\\n",
              "23  2020-11-15   Garden   Seller 24   Seller 24-link   \n",
              "36  2020-11-15   Garden   Seller 37   Seller 37-link   \n",
              "37  2020-11-15   Garden   Seller 38   Seller 38-link   \n",
              "53  2020-11-15   Garden   Seller 54   Seller 54-link   \n",
              "100 2020-11-15   Garden  Seller 101  Seller 101-link   \n",
              "111 2020-11-15   Garden  Seller 112  Seller 112-link   \n",
              "206 2020-11-15   Garden  Seller 207  Seller 207-link   \n",
              "264 2020-11-15   Garden  Seller 265  Seller 265-link   \n",
              "274 2020-11-15   Garden  Seller 275  Seller 275-link   \n",
              "321 2020-11-15   Garden  Seller 322  Seller 322-link   \n",
              "\n",
              "          sellerstorefront-url  sellerproductcount  sellerratings  \\\n",
              "23    Seller 24-storefrontlink              100000           3134   \n",
              "36    Seller 37-storefrontlink               50000           5150   \n",
              "37    Seller 38-storefrontlink               10000            120   \n",
              "53    Seller 54-storefrontlink                8000           4189   \n",
              "100  Seller 101-storefrontlink                7000           3416   \n",
              "111  Seller 112-storefrontlink               10000            168   \n",
              "206  Seller 207-storefrontlink                7000              1   \n",
              "264  Seller 265-storefrontlink                3000            124   \n",
              "274  Seller 275-storefrontlink                1000             15   \n",
              "321  Seller 322-storefrontlink                7000            196   \n",
              "\n",
              "                                         sellerdetails  \\\n",
              "23   Blumenbecker Industriebedarf GmbH Sudhoferweg ...   \n",
              "36   IMPRESSUM \\n itenga GmbH\\n Am Umspannwerk 2\\n ...   \n",
              "37   IMPRESSUM   Johannes Zierleyn KG\\n Am Schweine...   \n",
              "53   Impressum der Kaleido.Shop GmbH\\nKaleido.Shop ...   \n",
              "100  Kessler electronic GmbH\\n Dieselstrasse 4\\n 50...   \n",
              "111  Kinderwelt Hitzler\\n Inh. Hans Hitzler e.K.\\n ...   \n",
              "206  Kubustotaal ist ein Komplettanbieter von Bürom...   \n",
              "264  Impressum: Leder MilzInh. Irene Koser e.K.Lind...   \n",
              "274  Leonetti Giocattoli is committed to providing ...   \n",
              "321  Impressum\\n \\n Gesetzliche Anbieterkennung:\\n ...   \n",
              "\n",
              "                                  seller business name  \\\n",
              "23     Business Name:Blumenbecker Industriebedarf GmbH   \n",
              "36                           Business Name:itenga GmbH   \n",
              "37                  Business Name:Johannes Zierleyn KG   \n",
              "53                     Business Name:Kaleido.Shop GmbH   \n",
              "100              Business Name:Kessler electronic GmbH   \n",
              "111  Business Name:Kinderwelt Hitzler, Inh. Hans Hi...   \n",
              "206                      Business Name:Kubustotaal vof   \n",
              "264    Business Name:Michael Milz, Inhaber Irene Koser   \n",
              "274  Business Name:Leonetti Giocattoli di Maurizio ...   \n",
              "321                    Business Name:VARIA System GmbH   \n",
              "\n",
              "                                       businessaddress  ...  \\\n",
              "23                  Sudhoferweg 99-107BeckumNRW59269DE  ...   \n",
              "36          itenga GmbHAm Umspannwerk 2Illingen66557DE  ...   \n",
              "37   Johannes Zierleyn KGAm Schweinemarkt 3Nordhorn...  ...   \n",
              "53     Neubrückenstr.7cBürenNordrhein-Westfalen33142DE  ...   \n",
              "100                           Dieselstr.4Kerpen50170DE  ...   \n",
              "111  Inh. Hans Hitzler e.K.Marktler Str. 25Burghaus...  ...   \n",
              "206           Theemsweg 99SpijkenisseNederland3201LTNL  ...   \n",
              "264  Leder Milz Inh. Irene KoserLindenstr. 8Ludwigs...  ...   \n",
              "274                 Via Toledo, 350/351NapoliNA80134IT  ...   \n",
              "321  Dr.-Salvador-Allende-Str.191ChemnitzSachsen091...  ...   \n",
              "\n",
              "     MaxNegsellerRate90_%  MaxNegsellerRate12mnth_%    HP1    HP2  \\\n",
              "23                     12                        10  30139  11182   \n",
              "36                      8                         8  40683  18910   \n",
              "37                     11                         4  40684  13311   \n",
              "53                      5                         4  40684  10339   \n",
              "100                     3                         2  47337  32420   \n",
              "111                    10                        10  13311  13011   \n",
              "206                     0                         0  66776  20759   \n",
              "264                     0                         2  15082  12487   \n",
              "274                     0                        13  22603  12676   \n",
              "321                     5                         6  60384  57769   \n",
              "\n",
              "                Sample brand name  \\\n",
              "23           Visit the tesa Store   \n",
              "36         Visit the Vileda Store   \n",
              "37   Visit the TFA Dostmann Store   \n",
              "53   Visit the TFA Dostmann Store   \n",
              "100         Visit the Varta Store   \n",
              "111                   Spielstabil   \n",
              "206          Visit the tesa Store   \n",
              "264                    Reisenthel   \n",
              "274                       Pavillo   \n",
              "321         Visit the Umbra Store   \n",
              "\n",
              "                                      Sample Brand URL Pos_%     Phone_seller  \\\n",
              "23   https://www.amazon.de/-/en/stores/tesa/page/12...    88     99-107 59269   \n",
              "36   https://www.amazon.de/-/en/stores/Vileda+GmbH+...    91              NaN   \n",
              "37   https://www.amazon.de/-/en/stores/TFA+Dostmann...    93  +49 5921 834011   \n",
              "53   https://www.amazon.de/-/en/stores/TFA+Dostmann...    95              NaN   \n",
              "100  https://www.amazon.de/-/en/stores/VARTA+/page/...    97       49 (0)2273   \n",
              "111  https://www.amazon.de/-/en/Spielstabil/b/ref=b...    89              NaN   \n",
              "206  https://www.amazon.de/-/en/stores/tesa/page/12...   100              NaN   \n",
              "264  https://www.amazon.de/-/en/Reisenthel/b/ref=bl...    98              NaN   \n",
              "274  https://www.amazon.de/-/en/Pavillo/b/ref=bl_dp...    87              NaN   \n",
              "321  https://www.amazon.de/-/en/stores/Umbra/page/4...    94     371 400 7682   \n",
              "\n",
              "                        E-mail_seller Country  \n",
              "23        bib.beckum@blumenbecker.com      DE  \n",
              "36                     info@itenga.de      DE  \n",
              "37              nils.holm@zierleyn.de      DE  \n",
              "53                info@kaleidoshop.de      DE  \n",
              "100        info@kessler-electronic.de      DE  \n",
              "111                info@kiddy-hits.de      DE  \n",
              "206                               NaN      NL  \n",
              "264  Info@LederMilz.deRegistergericht      DE  \n",
              "274                               NaN      IT  \n",
              "321              shop@varia-store.com      DE  \n",
              "\n",
              "[10 rows x 22 columns]"
            ],
            "text/html": [
              "\n",
              "  <div id=\"df-a8889c5f-064d-4724-9779-56fb53a70630\">\n",
              "    <div class=\"colab-df-container\">\n",
              "      <div>\n",
              "<style scoped>\n",
              "    .dataframe tbody tr th:only-of-type {\n",
              "        vertical-align: middle;\n",
              "    }\n",
              "\n",
              "    .dataframe tbody tr th {\n",
              "        vertical-align: top;\n",
              "    }\n",
              "\n",
              "    .dataframe thead th {\n",
              "        text-align: right;\n",
              "    }\n",
              "</style>\n",
              "<table border=\"1\" class=\"dataframe\">\n",
              "  <thead>\n",
              "    <tr style=\"text-align: right;\">\n",
              "      <th></th>\n",
              "      <th>Date Added</th>\n",
              "      <th>category</th>\n",
              "      <th>sellerlink</th>\n",
              "      <th>sellerlink-url</th>\n",
              "      <th>sellerstorefront-url</th>\n",
              "      <th>sellerproductcount</th>\n",
              "      <th>sellerratings</th>\n",
              "      <th>sellerdetails</th>\n",
              "      <th>seller business name</th>\n",
              "      <th>businessaddress</th>\n",
              "      <th>...</th>\n",
              "      <th>MaxNegsellerRate90_%</th>\n",
              "      <th>MaxNegsellerRate12mnth_%</th>\n",
              "      <th>HP1</th>\n",
              "      <th>HP2</th>\n",
              "      <th>Sample brand name</th>\n",
              "      <th>Sample Brand URL</th>\n",
              "      <th>Pos_%</th>\n",
              "      <th>Phone_seller</th>\n",
              "      <th>E-mail_seller</th>\n",
              "      <th>Country</th>\n",
              "    </tr>\n",
              "  </thead>\n",
              "  <tbody>\n",
              "    <tr>\n",
              "      <th>23</th>\n",
              "      <td>2020-11-15</td>\n",
              "      <td>Garden</td>\n",
              "      <td>Seller 24</td>\n",
              "      <td>Seller 24-link</td>\n",
              "      <td>Seller 24-storefrontlink</td>\n",
              "      <td>100000</td>\n",
              "      <td>3134</td>\n",
              "      <td>Blumenbecker Industriebedarf GmbH Sudhoferweg ...</td>\n",
              "      <td>Business Name:Blumenbecker Industriebedarf GmbH</td>\n",
              "      <td>Sudhoferweg 99-107BeckumNRW59269DE</td>\n",
              "      <td>...</td>\n",
              "      <td>12</td>\n",
              "      <td>10</td>\n",
              "      <td>30139</td>\n",
              "      <td>11182</td>\n",
              "      <td>Visit the tesa Store</td>\n",
              "      <td>https://www.amazon.de/-/en/stores/tesa/page/12...</td>\n",
              "      <td>88</td>\n",
              "      <td>99-107 59269</td>\n",
              "      <td>bib.beckum@blumenbecker.com</td>\n",
              "      <td>DE</td>\n",
              "    </tr>\n",
              "    <tr>\n",
              "      <th>36</th>\n",
              "      <td>2020-11-15</td>\n",
              "      <td>Garden</td>\n",
              "      <td>Seller 37</td>\n",
              "      <td>Seller 37-link</td>\n",
              "      <td>Seller 37-storefrontlink</td>\n",
              "      <td>50000</td>\n",
              "      <td>5150</td>\n",
              "      <td>IMPRESSUM \\n itenga GmbH\\n Am Umspannwerk 2\\n ...</td>\n",
              "      <td>Business Name:itenga GmbH</td>\n",
              "      <td>itenga GmbHAm Umspannwerk 2Illingen66557DE</td>\n",
              "      <td>...</td>\n",
              "      <td>8</td>\n",
              "      <td>8</td>\n",
              "      <td>40683</td>\n",
              "      <td>18910</td>\n",
              "      <td>Visit the Vileda Store</td>\n",
              "      <td>https://www.amazon.de/-/en/stores/Vileda+GmbH+...</td>\n",
              "      <td>91</td>\n",
              "      <td>NaN</td>\n",
              "      <td>info@itenga.de</td>\n",
              "      <td>DE</td>\n",
              "    </tr>\n",
              "    <tr>\n",
              "      <th>37</th>\n",
              "      <td>2020-11-15</td>\n",
              "      <td>Garden</td>\n",
              "      <td>Seller 38</td>\n",
              "      <td>Seller 38-link</td>\n",
              "      <td>Seller 38-storefrontlink</td>\n",
              "      <td>10000</td>\n",
              "      <td>120</td>\n",
              "      <td>IMPRESSUM   Johannes Zierleyn KG\\n Am Schweine...</td>\n",
              "      <td>Business Name:Johannes Zierleyn KG</td>\n",
              "      <td>Johannes Zierleyn KGAm Schweinemarkt 3Nordhorn...</td>\n",
              "      <td>...</td>\n",
              "      <td>11</td>\n",
              "      <td>4</td>\n",
              "      <td>40684</td>\n",
              "      <td>13311</td>\n",
              "      <td>Visit the TFA Dostmann Store</td>\n",
              "      <td>https://www.amazon.de/-/en/stores/TFA+Dostmann...</td>\n",
              "      <td>93</td>\n",
              "      <td>+49 5921 834011</td>\n",
              "      <td>nils.holm@zierleyn.de</td>\n",
              "      <td>DE</td>\n",
              "    </tr>\n",
              "    <tr>\n",
              "      <th>53</th>\n",
              "      <td>2020-11-15</td>\n",
              "      <td>Garden</td>\n",
              "      <td>Seller 54</td>\n",
              "      <td>Seller 54-link</td>\n",
              "      <td>Seller 54-storefrontlink</td>\n",
              "      <td>8000</td>\n",
              "      <td>4189</td>\n",
              "      <td>Impressum der Kaleido.Shop GmbH\\nKaleido.Shop ...</td>\n",
              "      <td>Business Name:Kaleido.Shop GmbH</td>\n",
              "      <td>Neubrückenstr.7cBürenNordrhein-Westfalen33142DE</td>\n",
              "      <td>...</td>\n",
              "      <td>5</td>\n",
              "      <td>4</td>\n",
              "      <td>40684</td>\n",
              "      <td>10339</td>\n",
              "      <td>Visit the TFA Dostmann Store</td>\n",
              "      <td>https://www.amazon.de/-/en/stores/TFA+Dostmann...</td>\n",
              "      <td>95</td>\n",
              "      <td>NaN</td>\n",
              "      <td>info@kaleidoshop.de</td>\n",
              "      <td>DE</td>\n",
              "    </tr>\n",
              "    <tr>\n",
              "      <th>100</th>\n",
              "      <td>2020-11-15</td>\n",
              "      <td>Garden</td>\n",
              "      <td>Seller 101</td>\n",
              "      <td>Seller 101-link</td>\n",
              "      <td>Seller 101-storefrontlink</td>\n",
              "      <td>7000</td>\n",
              "      <td>3416</td>\n",
              "      <td>Kessler electronic GmbH\\n Dieselstrasse 4\\n 50...</td>\n",
              "      <td>Business Name:Kessler electronic GmbH</td>\n",
              "      <td>Dieselstr.4Kerpen50170DE</td>\n",
              "      <td>...</td>\n",
              "      <td>3</td>\n",
              "      <td>2</td>\n",
              "      <td>47337</td>\n",
              "      <td>32420</td>\n",
              "      <td>Visit the Varta Store</td>\n",
              "      <td>https://www.amazon.de/-/en/stores/VARTA+/page/...</td>\n",
              "      <td>97</td>\n",
              "      <td>49 (0)2273</td>\n",
              "      <td>info@kessler-electronic.de</td>\n",
              "      <td>DE</td>\n",
              "    </tr>\n",
              "    <tr>\n",
              "      <th>111</th>\n",
              "      <td>2020-11-15</td>\n",
              "      <td>Garden</td>\n",
              "      <td>Seller 112</td>\n",
              "      <td>Seller 112-link</td>\n",
              "      <td>Seller 112-storefrontlink</td>\n",
              "      <td>10000</td>\n",
              "      <td>168</td>\n",
              "      <td>Kinderwelt Hitzler\\n Inh. Hans Hitzler e.K.\\n ...</td>\n",
              "      <td>Business Name:Kinderwelt Hitzler, Inh. Hans Hi...</td>\n",
              "      <td>Inh. Hans Hitzler e.K.Marktler Str. 25Burghaus...</td>\n",
              "      <td>...</td>\n",
              "      <td>10</td>\n",
              "      <td>10</td>\n",
              "      <td>13311</td>\n",
              "      <td>13011</td>\n",
              "      <td>Spielstabil</td>\n",
              "      <td>https://www.amazon.de/-/en/Spielstabil/b/ref=b...</td>\n",
              "      <td>89</td>\n",
              "      <td>NaN</td>\n",
              "      <td>info@kiddy-hits.de</td>\n",
              "      <td>DE</td>\n",
              "    </tr>\n",
              "    <tr>\n",
              "      <th>206</th>\n",
              "      <td>2020-11-15</td>\n",
              "      <td>Garden</td>\n",
              "      <td>Seller 207</td>\n",
              "      <td>Seller 207-link</td>\n",
              "      <td>Seller 207-storefrontlink</td>\n",
              "      <td>7000</td>\n",
              "      <td>1</td>\n",
              "      <td>Kubustotaal ist ein Komplettanbieter von Bürom...</td>\n",
              "      <td>Business Name:Kubustotaal vof</td>\n",
              "      <td>Theemsweg 99SpijkenisseNederland3201LTNL</td>\n",
              "      <td>...</td>\n",
              "      <td>0</td>\n",
              "      <td>0</td>\n",
              "      <td>66776</td>\n",
              "      <td>20759</td>\n",
              "      <td>Visit the tesa Store</td>\n",
              "      <td>https://www.amazon.de/-/en/stores/tesa/page/12...</td>\n",
              "      <td>100</td>\n",
              "      <td>NaN</td>\n",
              "      <td>NaN</td>\n",
              "      <td>NL</td>\n",
              "    </tr>\n",
              "    <tr>\n",
              "      <th>264</th>\n",
              "      <td>2020-11-15</td>\n",
              "      <td>Garden</td>\n",
              "      <td>Seller 265</td>\n",
              "      <td>Seller 265-link</td>\n",
              "      <td>Seller 265-storefrontlink</td>\n",
              "      <td>3000</td>\n",
              "      <td>124</td>\n",
              "      <td>Impressum: Leder MilzInh. Irene Koser e.K.Lind...</td>\n",
              "      <td>Business Name:Michael Milz, Inhaber Irene Koser</td>\n",
              "      <td>Leder Milz Inh. Irene KoserLindenstr. 8Ludwigs...</td>\n",
              "      <td>...</td>\n",
              "      <td>0</td>\n",
              "      <td>2</td>\n",
              "      <td>15082</td>\n",
              "      <td>12487</td>\n",
              "      <td>Reisenthel</td>\n",
              "      <td>https://www.amazon.de/-/en/Reisenthel/b/ref=bl...</td>\n",
              "      <td>98</td>\n",
              "      <td>NaN</td>\n",
              "      <td>Info@LederMilz.deRegistergericht</td>\n",
              "      <td>DE</td>\n",
              "    </tr>\n",
              "    <tr>\n",
              "      <th>274</th>\n",
              "      <td>2020-11-15</td>\n",
              "      <td>Garden</td>\n",
              "      <td>Seller 275</td>\n",
              "      <td>Seller 275-link</td>\n",
              "      <td>Seller 275-storefrontlink</td>\n",
              "      <td>1000</td>\n",
              "      <td>15</td>\n",
              "      <td>Leonetti Giocattoli is committed to providing ...</td>\n",
              "      <td>Business Name:Leonetti Giocattoli di Maurizio ...</td>\n",
              "      <td>Via Toledo, 350/351NapoliNA80134IT</td>\n",
              "      <td>...</td>\n",
              "      <td>0</td>\n",
              "      <td>13</td>\n",
              "      <td>22603</td>\n",
              "      <td>12676</td>\n",
              "      <td>Pavillo</td>\n",
              "      <td>https://www.amazon.de/-/en/Pavillo/b/ref=bl_dp...</td>\n",
              "      <td>87</td>\n",
              "      <td>NaN</td>\n",
              "      <td>NaN</td>\n",
              "      <td>IT</td>\n",
              "    </tr>\n",
              "    <tr>\n",
              "      <th>321</th>\n",
              "      <td>2020-11-15</td>\n",
              "      <td>Garden</td>\n",
              "      <td>Seller 322</td>\n",
              "      <td>Seller 322-link</td>\n",
              "      <td>Seller 322-storefrontlink</td>\n",
              "      <td>7000</td>\n",
              "      <td>196</td>\n",
              "      <td>Impressum\\n \\n Gesetzliche Anbieterkennung:\\n ...</td>\n",
              "      <td>Business Name:VARIA System GmbH</td>\n",
              "      <td>Dr.-Salvador-Allende-Str.191ChemnitzSachsen091...</td>\n",
              "      <td>...</td>\n",
              "      <td>5</td>\n",
              "      <td>6</td>\n",
              "      <td>60384</td>\n",
              "      <td>57769</td>\n",
              "      <td>Visit the Umbra Store</td>\n",
              "      <td>https://www.amazon.de/-/en/stores/Umbra/page/4...</td>\n",
              "      <td>94</td>\n",
              "      <td>371 400 7682</td>\n",
              "      <td>shop@varia-store.com</td>\n",
              "      <td>DE</td>\n",
              "    </tr>\n",
              "  </tbody>\n",
              "</table>\n",
              "<p>10 rows × 22 columns</p>\n",
              "</div>\n",
              "      <button class=\"colab-df-convert\" onclick=\"convertToInteractive('df-a8889c5f-064d-4724-9779-56fb53a70630')\"\n",
              "              title=\"Convert this dataframe to an interactive table.\"\n",
              "              style=\"display:none;\">\n",
              "        \n",
              "  <svg xmlns=\"http://www.w3.org/2000/svg\" height=\"24px\"viewBox=\"0 0 24 24\"\n",
              "       width=\"24px\">\n",
              "    <path d=\"M0 0h24v24H0V0z\" fill=\"none\"/>\n",
              "    <path d=\"M18.56 5.44l.94 2.06.94-2.06 2.06-.94-2.06-.94-.94-2.06-.94 2.06-2.06.94zm-11 1L8.5 8.5l.94-2.06 2.06-.94-2.06-.94L8.5 2.5l-.94 2.06-2.06.94zm10 10l.94 2.06.94-2.06 2.06-.94-2.06-.94-.94-2.06-.94 2.06-2.06.94z\"/><path d=\"M17.41 7.96l-1.37-1.37c-.4-.4-.92-.59-1.43-.59-.52 0-1.04.2-1.43.59L10.3 9.45l-7.72 7.72c-.78.78-.78 2.05 0 2.83L4 21.41c.39.39.9.59 1.41.59.51 0 1.02-.2 1.41-.59l7.78-7.78 2.81-2.81c.8-.78.8-2.07 0-2.86zM5.41 20L4 18.59l7.72-7.72 1.47 1.35L5.41 20z\"/>\n",
              "  </svg>\n",
              "      </button>\n",
              "      \n",
              "  <style>\n",
              "    .colab-df-container {\n",
              "      display:flex;\n",
              "      flex-wrap:wrap;\n",
              "      gap: 12px;\n",
              "    }\n",
              "\n",
              "    .colab-df-convert {\n",
              "      background-color: #E8F0FE;\n",
              "      border: none;\n",
              "      border-radius: 50%;\n",
              "      cursor: pointer;\n",
              "      display: none;\n",
              "      fill: #1967D2;\n",
              "      height: 32px;\n",
              "      padding: 0 0 0 0;\n",
              "      width: 32px;\n",
              "    }\n",
              "\n",
              "    .colab-df-convert:hover {\n",
              "      background-color: #E2EBFA;\n",
              "      box-shadow: 0px 1px 2px rgba(60, 64, 67, 0.3), 0px 1px 3px 1px rgba(60, 64, 67, 0.15);\n",
              "      fill: #174EA6;\n",
              "    }\n",
              "\n",
              "    [theme=dark] .colab-df-convert {\n",
              "      background-color: #3B4455;\n",
              "      fill: #D2E3FC;\n",
              "    }\n",
              "\n",
              "    [theme=dark] .colab-df-convert:hover {\n",
              "      background-color: #434B5C;\n",
              "      box-shadow: 0px 1px 3px 1px rgba(0, 0, 0, 0.15);\n",
              "      filter: drop-shadow(0px 1px 2px rgba(0, 0, 0, 0.3));\n",
              "      fill: #FFFFFF;\n",
              "    }\n",
              "  </style>\n",
              "\n",
              "      <script>\n",
              "        const buttonEl =\n",
              "          document.querySelector('#df-a8889c5f-064d-4724-9779-56fb53a70630 button.colab-df-convert');\n",
              "        buttonEl.style.display =\n",
              "          google.colab.kernel.accessAllowed ? 'block' : 'none';\n",
              "\n",
              "        async function convertToInteractive(key) {\n",
              "          const element = document.querySelector('#df-a8889c5f-064d-4724-9779-56fb53a70630');\n",
              "          const dataTable =\n",
              "            await google.colab.kernel.invokeFunction('convertToInteractive',\n",
              "                                                     [key], {});\n",
              "          if (!dataTable) return;\n",
              "\n",
              "          const docLinkHtml = 'Like what you see? Visit the ' +\n",
              "            '<a target=\"_blank\" href=https://colab.research.google.com/notebooks/data_table.ipynb>data table notebook</a>'\n",
              "            + ' to learn more about interactive tables.';\n",
              "          element.innerHTML = '';\n",
              "          dataTable['output_type'] = 'display_data';\n",
              "          await google.colab.output.renderOutput(dataTable, element);\n",
              "          const docLink = document.createElement('div');\n",
              "          docLink.innerHTML = docLinkHtml;\n",
              "          element.appendChild(docLink);\n",
              "        }\n",
              "      </script>\n",
              "    </div>\n",
              "  </div>\n",
              "  "
            ]
          },
          "metadata": {},
          "execution_count": 20
        }
      ]
    },
    {
      "cell_type": "code",
      "source": [
        "plt.figure(figsize=(20,10))\n",
        "# make bar plot with matplotlib\n",
        "n_ecom.sort_values(by=['HP1'], inplace= True)\n",
        "plt.bar('sellerlink', 'HP1',data=n_ecom)\n",
        "plt.xlabel(\"Seller\", size=15)\n",
        "plt.ylabel(\"Hero Product 1\", size=15)\n",
        "plt.title(\"Seller vs Hero Product 1\", size=18)"
      ],
      "metadata": {
        "colab": {
          "base_uri": "https://localhost:8080/",
          "height": 650
        },
        "id": "5KOZzLIfxymG",
        "outputId": "72bc4b16-598d-4b11-a290-c3791c465969"
      },
      "execution_count": 21,
      "outputs": [
        {
          "output_type": "execute_result",
          "data": {
            "text/plain": [
              "Text(0.5, 1.0, 'Seller vs Hero Product 1')"
            ]
          },
          "metadata": {},
          "execution_count": 21
        },
        {
          "output_type": "display_data",
          "data": {
            "text/plain": [
              "<Figure size 1440x720 with 1 Axes>"
            ],
            "image/png": "[encoded data removed]"
          },
          "metadata": {}
        }
      ]
    },
    {
      "cell_type": "code",
      "source": [
        "plt.figure(figsize=(20,10))\n",
        "# make bar plot with matplotlib\n",
        "n_ecom.sort_values(by=['HP2'], inplace= True)\n",
        "plt.bar('sellerlink', 'HP2',data=n_ecom)\n",
        "plt.xlabel(\"Seller\", size=15)\n",
        "plt.ylabel(\"Hero Product 2\", size=15)\n",
        "plt.title(\"Seller vs Hero Product 2\", size=18)\n",
        "#plt.savefig(\"bar_plot_matplotlib_Python.png\")"
      ],
      "metadata": {
        "colab": {
          "base_uri": "https://localhost:8080/",
          "height": 650
        },
        "id": "DaFIYYcsx2KO",
        "outputId": "b5931edf-3f22-4703-d6cc-ab96207dda84"
      },
      "execution_count": 22,
      "outputs": [
        {
          "output_type": "execute_result",
          "data": {
            "text/plain": [
              "Text(0.5, 1.0, 'Seller vs Hero Product 2')"
            ]
          },
          "metadata": {},
          "execution_count": 22
        },
        {
          "output_type": "display_data",
          "data": {
            "text/plain": [
              "<Figure size 1440x720 with 1 Axes>"
            ],
            "image/png": "[encoded data removed]"
          },
          "metadata": {}
        }
      ]
    },
    {
      "cell_type": "code",
      "source": [
        "plt.figure(figsize=(20,10))\n",
        "n_ecom.sort_values(by=['sellerproductcount'], inplace= True)\n",
        "plt.bar('sellerlink', 'sellerproductcount',data=n_ecom)\n",
        "plt.xlabel(\"Seller\", size=15)\n",
        "plt.ylabel(\"Product Count\", size=15)\n",
        "plt.title(\"Seller vs Product Count\", size=18)\n",
        "#plt.savefig(\"bar_plot_matplotlib_Python.png\")"
      ],
      "metadata": {
        "colab": {
          "base_uri": "https://localhost:8080/",
          "height": 650
        },
        "id": "qtbyfLpWEHIG",
        "outputId": "165dcdc5-3877-4867-e585-c94abae9bf9a"
      },
      "execution_count": 23,
      "outputs": [
        {
          "output_type": "execute_result",
          "data": {
            "text/plain": [
              "Text(0.5, 1.0, 'Seller vs Product Count')"
            ]
          },
          "metadata": {},
          "execution_count": 23
        },
        {
          "output_type": "display_data",
          "data": {
            "text/plain": [
              "<Figure size 1440x720 with 1 Axes>"
            ],
            "image/png": "[encoded data removed]"
          },
          "metadata": {}
        }
      ]
    },
    {
      "cell_type": "code",
      "source": [
        "plt.figure(figsize=(20,10))\n",
        "# make bar plot with matplotlib\n",
        "n_ecom.sort_values(by=['sellerbrandcount'], inplace= True)\n",
        "plt.bar('sellerlink', 'sellerbrandcount',data=n_ecom)\n",
        "plt.xlabel(\"Seller\", size=15)\n",
        "plt.ylabel(\"Brand Count\", size=15)\n",
        "plt.title(\"Seller vs Brand Count\", size=18)"
      ],
      "metadata": {
        "colab": {
          "base_uri": "https://localhost:8080/",
          "height": 650
        },
        "id": "KdMERteSFsKD",
        "outputId": "c8cec61e-7227-40eb-ecea-286a2d95736c"
      },
      "execution_count": 24,
      "outputs": [
        {
          "output_type": "execute_result",
          "data": {
            "text/plain": [
              "Text(0.5, 1.0, 'Seller vs Brand Count')"
            ]
          },
          "metadata": {},
          "execution_count": 24
        },
        {
          "output_type": "display_data",
          "data": {
            "text/plain": [
              "<Figure size 1440x720 with 1 Axes>"
            ],
            "image/png": "[encoded data removed]"
          },
          "metadata": {}
        }
      ]
    },
    {
      "cell_type": "code",
      "source": [
        "plt.figure(figsize=(20,10))\n",
        "# make bar plot with matplotlib\n",
        "n_ecom.sort_values(by=['MaxNegsellerRate30_%'], inplace= True)\n",
        "plt.bar('sellerlink', 'MaxNegsellerRate30_%',data=n_ecom)\n",
        "plt.xlabel(\"Seller\", size=15)\n",
        "plt.ylabel(\"Max % Neg. Seller Rate : 30days\", size=15)\n",
        "plt.title(\"Seller vs Max % Negative\", size=18)"
      ],
      "metadata": {
        "colab": {
          "base_uri": "https://localhost:8080/",
          "height": 650
        },
        "id": "j8-T50vSDLDH",
        "outputId": "d1c9c662-d5f5-4670-8277-e8a18527a91b"
      },
      "execution_count": 25,
      "outputs": [
        {
          "output_type": "execute_result",
          "data": {
            "text/plain": [
              "Text(0.5, 1.0, 'Seller vs Max % Negative')"
            ]
          },
          "metadata": {},
          "execution_count": 25
        },
        {
          "output_type": "display_data",
          "data": {
            "text/plain": [
              "<Figure size 1440x720 with 1 Axes>"
            ],
            "image/png": "[encoded data removed]"
          },
          "metadata": {}
        }
      ]
    },
    {
      "cell_type": "code",
      "source": [
        "plt.figure(figsize=(20,10))\n",
        "# make bar plot with matplotlib\n",
        "n_ecom.sort_values('MaxNegsellerRate90_%',inplace = True)\n",
        "plt.bar('sellerlink', 'MaxNegsellerRate90_%',data=n_ecom)\n",
        "plt.xlabel(\"Seller\", size=15)\n",
        "plt.ylabel(\"Max % Neg. Seller Rate : 90days\", size=15)\n",
        "plt.title(\"Seller vs Max % Neg\", size=18)"
      ],
      "metadata": {
        "colab": {
          "base_uri": "https://localhost:8080/",
          "height": 650
        },
        "id": "sW3MBOEeISxV",
        "outputId": "eceb5fd3-408e-45fb-809a-9a51e2480c5d"
      },
      "execution_count": 26,
      "outputs": [
        {
          "output_type": "execute_result",
          "data": {
            "text/plain": [
              "Text(0.5, 1.0, 'Seller vs Max % Neg')"
            ]
          },
          "metadata": {},
          "execution_count": 26
        },
        {
          "output_type": "display_data",
          "data": {
            "text/plain": [
              "<Figure size 1440x720 with 1 Axes>"
            ],
            "image/png": "[encoded data removed]"
          },
          "metadata": {}
        }
      ]
    },
    {
      "cell_type": "code",
      "source": [
        "plt.figure(figsize=(20,10))\n",
        "# make bar plot with matplotlib\n",
        "n_ecom.sort_values('MaxNegsellerRate12mnth_%',inplace = True)\n",
        "plt.bar('sellerlink', 'MaxNegsellerRate12mnth_%',data=n_ecom)\n",
        "plt.xlabel(\"Seller\", size=15)\n",
        "plt.ylabel(\"Max % Neg. Seller Rate : 12 Months\", size=15)\n",
        "plt.title(\"Seller vs Max % Neg\", size=18)"
      ],
      "metadata": {
        "colab": {
          "base_uri": "https://localhost:8080/",
          "height": 650
        },
        "id": "E6KzmmmYIXQI",
        "outputId": "b437d437-ccbd-42c3-93f0-013e0354af39"
      },
      "execution_count": 27,
      "outputs": [
        {
          "output_type": "execute_result",
          "data": {
            "text/plain": [
              "Text(0.5, 1.0, 'Seller vs Max % Neg')"
            ]
          },
          "metadata": {},
          "execution_count": 27
        },
        {
          "output_type": "display_data",
          "data": {
            "text/plain": [
              "<Figure size 1440x720 with 1 Axes>"
            ],
            "image/png": "[encoded data removed]"
          },
          "metadata": {}
        }
      ]
    },
    {
      "cell_type": "code",
      "source": [
        "plt.figure(figsize=(20,10))\n",
        "# make bar plot with matplotlib\n",
        "n_ecom.sort_values('Pos_%',inplace = True)\n",
        "plt.bar('sellerlink', 'Pos_%',data=n_ecom)\n",
        "plt.xlabel(\"Seller\", size=15)\n",
        "plt.ylabel(\"Positive Rating %\", size=15)\n",
        "plt.title(\"Seller vs Pos %\", size=18)"
      ],
      "metadata": {
        "colab": {
          "base_uri": "https://localhost:8080/",
          "height": 650
        },
        "id": "85WCS5SiIgyW",
        "outputId": "3e7fa5a0-09f1-49af-8ba1-c6c71d109614"
      },
      "execution_count": 28,
      "outputs": [
        {
          "output_type": "execute_result",
          "data": {
            "text/plain": [
              "Text(0.5, 1.0, 'Seller vs Pos %')"
            ]
          },
          "metadata": {},
          "execution_count": 28
        },
        {
          "output_type": "display_data",
          "data": {
            "text/plain": [
              "<Figure size 1440x720 with 1 Axes>"
            ],
            "image/png": "[encoded data removed]"
          },
          "metadata": {}
        }
      ]
    },
    {
      "cell_type": "code",
      "source": [
        "plt.figure(figsize=(20,10))\n",
        "# make bar plot with matplotlib\n",
        "n_ecom.sort_values('sellerproductcount',inplace = True)\n",
        "plt.bar('Country', 'sellerproductcount',data=n_ecom)\n",
        "plt.xlabel(\"Country\", size=15)\n",
        "plt.ylabel(\"Brand Count\", size=15)\n",
        "plt.title(\"Country vs Brand Count\", size=18)"
      ],
      "metadata": {
        "colab": {
          "base_uri": "https://localhost:8080/",
          "height": 650
        },
        "id": "mZHRmvypI5KU",
        "outputId": "9fb24257-e064-40da-f2b6-42cbe7f0c823"
      },
      "execution_count": 29,
      "outputs": [
        {
          "output_type": "execute_result",
          "data": {
            "text/plain": [
              "Text(0.5, 1.0, 'Country vs Brand Count')"
            ]
          },
          "metadata": {},
          "execution_count": 29
        },
        {
          "output_type": "display_data",
          "data": {
            "text/plain": [
              "<Figure size 1440x720 with 1 Axes>"
            ],
            "image/png": "[encoded data removed]"
          },
          "metadata": {}
        }
      ]
    },
    {
      "cell_type": "markdown",
      "source": [
        "Geographical istribution is observed here. With Germany(DE) and US having the max brand count"
      ],
      "metadata": {
        "id": "7r60SaZVP9O6"
      }
    },
    {
      "cell_type": "code",
      "source": [
        "print(ecommerce['sellerratings'])"
      ],
      "metadata": {
        "colab": {
          "base_uri": "https://localhost:8080/"
        },
        "id": "PnjI7z1JQ2AA",
        "outputId": "66e388cb-2b2a-452f-fd97-bb7004fe72a6"
      },
      "execution_count": 30,
      "outputs": [
        {
          "output_type": "stream",
          "name": "stdout",
          "text": [
            "0        118\n",
            "14       116\n",
            "22        10\n",
            "23      3134\n",
            "24       610\n",
            "        ... \n",
            "1784    2630\n",
            "1785       3\n",
            "1808      16\n",
            "1814    3075\n",
            "1815       4\n",
            "Name: sellerratings, Length: 432, dtype: int64\n"
          ]
        }
      ]
    },
    {
      "cell_type": "code",
      "source": [
        "index_names7 = n_ecom[(n_ecom['sellerratings'] <= 200)].index\n",
        "n_ecom.drop(index_names7, inplace = True)"
      ],
      "metadata": {
        "id": "s91d_vVX4Pmv"
      },
      "execution_count": 31,
      "outputs": []
    },
    {
      "cell_type": "code",
      "source": [
        "n_ecom.sort_values(by = 'Pos_%',ascending=False)"
      ],
      "metadata": {
        "colab": {
          "base_uri": "https://localhost:8080/",
          "height": 991
        },
        "id": "qkj-p8ga6dCy",
        "outputId": "e3ba3c01-6983-4998-ee4c-b4f8392f6b1e"
      },
      "execution_count": 32,
      "outputs": [
        {
          "output_type": "execute_result",
          "data": {
            "text/plain": [
              "     Date Added category   sellerlink    sellerlink-url  \\\n",
              "100  2020-11-15   Garden   Seller 101   Seller 101-link   \n",
              "53   2020-11-15   Garden    Seller 54    Seller 54-link   \n",
              "882  2020-11-15   Garden   Seller 883   Seller 883-link   \n",
              "985  2020-11-15   Garden   Seller 986   Seller 986-link   \n",
              "1058 2020-11-15   Garden  Seller 1059  Seller 1059-link   \n",
              "322  2020-11-15   Garden   Seller 323   Seller 323-link   \n",
              "36   2020-11-15   Garden    Seller 37    Seller 37-link   \n",
              "495  2020-11-15   Garden   Seller 496   Seller 496-link   \n",
              "386  2020-11-15   Garden   Seller 387   Seller 387-link   \n",
              "726  2020-11-15   Garden   Seller 727   Seller 727-link   \n",
              "23   2020-11-15   Garden    Seller 24    Seller 24-link   \n",
              "\n",
              "            sellerstorefront-url  sellerproductcount  sellerratings  \\\n",
              "100    Seller 101-storefrontlink                7000           3416   \n",
              "53      Seller 54-storefrontlink                8000           4189   \n",
              "882    Seller 883-storefrontlink                4000           6086   \n",
              "985    Seller 986-storefrontlink              100000            363   \n",
              "1058  Seller 1059-storefrontlink               10000            578   \n",
              "322    Seller 323-storefrontlink               30000            699   \n",
              "36      Seller 37-storefrontlink               50000           5150   \n",
              "495    Seller 496-storefrontlink              100000            288   \n",
              "386    Seller 387-storefrontlink               10000           1410   \n",
              "726    Seller 727-storefrontlink               40000           7242   \n",
              "23      Seller 24-storefrontlink              100000           3134   \n",
              "\n",
              "                                          sellerdetails  \\\n",
              "100   Kessler electronic GmbH\\n Dieselstrasse 4\\n 50...   \n",
              "53    Impressum der Kaleido.Shop GmbH\\nKaleido.Shop ...   \n",
              "882   Impressum\\n  \\n  Gesetzliche Anbieterkennung:\\...   \n",
              "985   Schreibwaren Wegmann, Janos Metz e.K. Inhaber:...   \n",
              "1058  Impressum\\n \\n Gesetzliche Anbieterkennung:\\n ...   \n",
              "322   Milovan Stojkovic\\n Mühlenstr. 16\\n 48431 Rhei...   \n",
              "36    IMPRESSUM \\n itenga GmbH\\n Am Umspannwerk 2\\n ...   \n",
              "495   SELECT ELITE is committed to providing each cu...   \n",
              "386   Die Europäische Kommission bietet eine Onlinep...   \n",
              "726   trendmile GmbH\\n\\nAmtsgericht Darmstadt HR B 8...   \n",
              "23    Blumenbecker Industriebedarf GmbH Sudhoferweg ...   \n",
              "\n",
              "                                   seller business name  \\\n",
              "100               Business Name:Kessler electronic GmbH   \n",
              "53                      Business Name:Kaleido.Shop GmbH   \n",
              "882         Business Name:Vitamed Matthias Quinger e.K.   \n",
              "985   Business Name:Schreibwaren Wegmann, Inh. Janos...   \n",
              "1058                           Business Name:SJ-Werbung   \n",
              "322                     Business Name:Milovan Stojkovic   \n",
              "36                            Business Name:itenga GmbH   \n",
              "495                  Business Name:C. Y. MARKETING INC.   \n",
              "386                     Business Name:Johann Haslberger   \n",
              "726                        Business Name:trendmile GmbH   \n",
              "23      Business Name:Blumenbecker Industriebedarf GmbH   \n",
              "\n",
              "                                        businessaddress  ...  \\\n",
              "100                            Dieselstr.4Kerpen50170DE  ...   \n",
              "53      Neubrückenstr.7cBürenNordrhein-Westfalen33142DE  ...   \n",
              "882   Emil-Von-Behring Straße 2AltripRheinland Pfalz...  ...   \n",
              "985   Schreibwaren WegmannStadtplatz 39ZwieselBayern...  ...   \n",
              "1058                 Handelsring3Südbrookmerland26624DE  ...   \n",
              "322                         Brechtestr. 44Rheine48431DE  ...   \n",
              "36           itenga GmbHAm Umspannwerk 2Illingen66557DE  ...   \n",
              "495   1249 S DIAMOND BAR BOULLEVARD UNIT 61DIAMOND B...  ...   \n",
              "386             Humboldtstrasse 25BautzenSachsen02625DE  ...   \n",
              "726                      Bauhofstr.24Lampertheim68623DE  ...   \n",
              "23                   Sudhoferweg 99-107BeckumNRW59269DE  ...   \n",
              "\n",
              "      MaxNegsellerRate90_%  MaxNegsellerRate12mnth_%    HP1    HP2  \\\n",
              "100                      3                         2  47337  32420   \n",
              "53                       5                         4  40684  10339   \n",
              "882                      4                         4  66776  32420   \n",
              "985                      5                         4  40684  13311   \n",
              "1058                    11                         7  47340  18561   \n",
              "322                      9                         6  71673  58332   \n",
              "36                       8                         8  40683  18910   \n",
              "495                      7                         7  77714  70732   \n",
              "386                      9                         9  19281  11904   \n",
              "726                      9                         9  40681  13311   \n",
              "23                      12                        10  30139  11182   \n",
              "\n",
              "                 Sample brand name  \\\n",
              "100          Visit the Varta Store   \n",
              "53    Visit the TFA Dostmann Store   \n",
              "882          Visit the Varta Store   \n",
              "985   Visit the TFA Dostmann Store   \n",
              "1058        Visit the Goobay Store   \n",
              "322        Visit the Swiffer Store   \n",
              "36          Visit the Vileda Store   \n",
              "495          Visit the Weber Store   \n",
              "386                          Gebol   \n",
              "726           Visit the tesa Store   \n",
              "23            Visit the tesa Store   \n",
              "\n",
              "                                       Sample Brand URL Pos_%    Phone_seller  \\\n",
              "100   https://www.amazon.de/-/en/stores/VARTA+/page/...    97      49 (0)2273   \n",
              "53    https://www.amazon.de/-/en/stores/TFA+Dostmann...    95             NaN   \n",
              "882   https://www.amazon.de/-/en/stores/VARTA+/page/...    94  +4962369329325   \n",
              "985   https://www.amazon.de/-/en/stores/TFA+Dostmann...    94      9922609490   \n",
              "1058  https://www.amazon.de/-/en/stores/Goobay/page/...    92      4942203673   \n",
              "322   https://www.amazon.de/-/en/stores/P%26G+Swiffe...    92      8 00 38 03   \n",
              "36    https://www.amazon.de/-/en/stores/Vileda+GmbH+...    91             NaN   \n",
              "495   https://www.amazon.de/-/en/stores/Weber/page/9...    91             NaN   \n",
              "386   https://www.amazon.de/-/en/Gebol/b/ref=bl_dp_s...    90             NaN   \n",
              "726   https://www.amazon.de/-/en/stores/tesa/page/12...    89      951326 - 0   \n",
              "23    https://www.amazon.de/-/en/stores/tesa/page/12...    88    99-107 59269   \n",
              "\n",
              "                     E-mail_seller Country  \n",
              "100     info@kessler-electronic.de      DE  \n",
              "53             info@kaleidoshop.de      DE  \n",
              "882    service@vitamed-quinger.com      DE  \n",
              "985   info@schreibwaren-wegmann.de      DE  \n",
              "1058              amazon@wtnord.de      DE  \n",
              "322                info@limuno.com      DE  \n",
              "36                  info@itenga.de      DE  \n",
              "495                            NaN      US  \n",
              "386                            NaN      DE  \n",
              "726          support@trendmile.com      DE  \n",
              "23     bib.beckum@blumenbecker.com      DE  \n",
              "\n",
              "[11 rows x 22 columns]"
            ],
            "text/html": [
              "\n",
              "  <div id=\"df-499979cc-8366-4ec4-bba3-23a433a8602b\">\n",
              "    <div class=\"colab-df-container\">\n",
              "      <div>\n",
              "<style scoped>\n",
              "    .dataframe tbody tr th:only-of-type {\n",
              "        vertical-align: middle;\n",
              "    }\n",
              "\n",
              "    .dataframe tbody tr th {\n",
              "        vertical-align: top;\n",
              "    }\n",
              "\n",
              "    .dataframe thead th {\n",
              "        text-align: right;\n",
              "    }\n",
              "</style>\n",
              "<table border=\"1\" class=\"dataframe\">\n",
              "  <thead>\n",
              "    <tr style=\"text-align: right;\">\n",
              "      <th></th>\n",
              "      <th>Date Added</th>\n",
              "      <th>category</th>\n",
              "      <th>sellerlink</th>\n",
              "      <th>sellerlink-url</th>\n",
              "      <th>sellerstorefront-url</th>\n",
              "      <th>sellerproductcount</th>\n",
              "      <th>sellerratings</th>\n",
              "      <th>sellerdetails</th>\n",
              "      <th>seller business name</th>\n",
              "      <th>businessaddress</th>\n",
              "      <th>...</th>\n",
              "      <th>MaxNegsellerRate90_%</th>\n",
              "      <th>MaxNegsellerRate12mnth_%</th>\n",
              "      <th>HP1</th>\n",
              "      <th>HP2</th>\n",
              "      <th>Sample brand name</th>\n",
              "      <th>Sample Brand URL</th>\n",
              "      <th>Pos_%</th>\n",
              "      <th>Phone_seller</th>\n",
              "      <th>E-mail_seller</th>\n",
              "      <th>Country</th>\n",
              "    </tr>\n",
              "  </thead>\n",
              "  <tbody>\n",
              "    <tr>\n",
              "      <th>100</th>\n",
              "      <td>2020-11-15</td>\n",
              "      <td>Garden</td>\n",
              "      <td>Seller 101</td>\n",
              "      <td>Seller 101-link</td>\n",
              "      <td>Seller 101-storefrontlink</td>\n",
              "      <td>7000</td>\n",
              "      <td>3416</td>\n",
              "      <td>Kessler electronic GmbH\\n Dieselstrasse 4\\n 50...</td>\n",
              "      <td>Business Name:Kessler electronic GmbH</td>\n",
              "      <td>Dieselstr.4Kerpen50170DE</td>\n",
              "      <td>...</td>\n",
              "      <td>3</td>\n",
              "      <td>2</td>\n",
              "      <td>47337</td>\n",
              "      <td>32420</td>\n",
              "      <td>Visit the Varta Store</td>\n",
              "      <td>https://www.amazon.de/-/en/stores/VARTA+/page/...</td>\n",
              "      <td>97</td>\n",
              "      <td>49 (0)2273</td>\n",
              "      <td>info@kessler-electronic.de</td>\n",
              "      <td>DE</td>\n",
              "    </tr>\n",
              "    <tr>\n",
              "      <th>53</th>\n",
              "      <td>2020-11-15</td>\n",
              "      <td>Garden</td>\n",
              "      <td>Seller 54</td>\n",
              "      <td>Seller 54-link</td>\n",
              "      <td>Seller 54-storefrontlink</td>\n",
              "      <td>8000</td>\n",
              "      <td>4189</td>\n",
              "      <td>Impressum der Kaleido.Shop GmbH\\nKaleido.Shop ...</td>\n",
              "      <td>Business Name:Kaleido.Shop GmbH</td>\n",
              "      <td>Neubrückenstr.7cBürenNordrhein-Westfalen33142DE</td>\n",
              "      <td>...</td>\n",
              "      <td>5</td>\n",
              "      <td>4</td>\n",
              "      <td>40684</td>\n",
              "      <td>10339</td>\n",
              "      <td>Visit the TFA Dostmann Store</td>\n",
              "      <td>https://www.amazon.de/-/en/stores/TFA+Dostmann...</td>\n",
              "      <td>95</td>\n",
              "      <td>NaN</td>\n",
              "      <td>info@kaleidoshop.de</td>\n",
              "      <td>DE</td>\n",
              "    </tr>\n",
              "    <tr>\n",
              "      <th>882</th>\n",
              "      <td>2020-11-15</td>\n",
              "      <td>Garden</td>\n",
              "      <td>Seller 883</td>\n",
              "      <td>Seller 883-link</td>\n",
              "      <td>Seller 883-storefrontlink</td>\n",
              "      <td>4000</td>\n",
              "      <td>6086</td>\n",
              "      <td>Impressum\\n  \\n  Gesetzliche Anbieterkennung:\\...</td>\n",
              "      <td>Business Name:Vitamed Matthias Quinger e.K.</td>\n",
              "      <td>Emil-Von-Behring Straße 2AltripRheinland Pfalz...</td>\n",
              "      <td>...</td>\n",
              "      <td>4</td>\n",
              "      <td>4</td>\n",
              "      <td>66776</td>\n",
              "      <td>32420</td>\n",
              "      <td>Visit the Varta Store</td>\n",
              "      <td>https://www.amazon.de/-/en/stores/VARTA+/page/...</td>\n",
              "      <td>94</td>\n",
              "      <td>+4962369329325</td>\n",
              "      <td>service@vitamed-quinger.com</td>\n",
              "      <td>DE</td>\n",
              "    </tr>\n",
              "    <tr>\n",
              "      <th>985</th>\n",
              "      <td>2020-11-15</td>\n",
              "      <td>Garden</td>\n",
              "      <td>Seller 986</td>\n",
              "      <td>Seller 986-link</td>\n",
              "      <td>Seller 986-storefrontlink</td>\n",
              "      <td>100000</td>\n",
              "      <td>363</td>\n",
              "      <td>Schreibwaren Wegmann, Janos Metz e.K. Inhaber:...</td>\n",
              "      <td>Business Name:Schreibwaren Wegmann, Inh. Janos...</td>\n",
              "      <td>Schreibwaren WegmannStadtplatz 39ZwieselBayern...</td>\n",
              "      <td>...</td>\n",
              "      <td>5</td>\n",
              "      <td>4</td>\n",
              "      <td>40684</td>\n",
              "      <td>13311</td>\n",
              "      <td>Visit the TFA Dostmann Store</td>\n",
              "      <td>https://www.amazon.de/-/en/stores/TFA+Dostmann...</td>\n",
              "      <td>94</td>\n",
              "      <td>9922609490</td>\n",
              "      <td>info@schreibwaren-wegmann.de</td>\n",
              "      <td>DE</td>\n",
              "    </tr>\n",
              "    <tr>\n",
              "      <th>1058</th>\n",
              "      <td>2020-11-15</td>\n",
              "      <td>Garden</td>\n",
              "      <td>Seller 1059</td>\n",
              "      <td>Seller 1059-link</td>\n",
              "      <td>Seller 1059-storefrontlink</td>\n",
              "      <td>10000</td>\n",
              "      <td>578</td>\n",
              "      <td>Impressum\\n \\n Gesetzliche Anbieterkennung:\\n ...</td>\n",
              "      <td>Business Name:SJ-Werbung</td>\n",
              "      <td>Handelsring3Südbrookmerland26624DE</td>\n",
              "      <td>...</td>\n",
              "      <td>11</td>\n",
              "      <td>7</td>\n",
              "      <td>47340</td>\n",
              "      <td>18561</td>\n",
              "      <td>Visit the Goobay Store</td>\n",
              "      <td>https://www.amazon.de/-/en/stores/Goobay/page/...</td>\n",
              "      <td>92</td>\n",
              "      <td>4942203673</td>\n",
              "      <td>amazon@wtnord.de</td>\n",
              "      <td>DE</td>\n",
              "    </tr>\n",
              "    <tr>\n",
              "      <th>322</th>\n",
              "      <td>2020-11-15</td>\n",
              "      <td>Garden</td>\n",
              "      <td>Seller 323</td>\n",
              "      <td>Seller 323-link</td>\n",
              "      <td>Seller 323-storefrontlink</td>\n",
              "      <td>30000</td>\n",
              "      <td>699</td>\n",
              "      <td>Milovan Stojkovic\\n Mühlenstr. 16\\n 48431 Rhei...</td>\n",
              "      <td>Business Name:Milovan Stojkovic</td>\n",
              "      <td>Brechtestr. 44Rheine48431DE</td>\n",
              "      <td>...</td>\n",
              "      <td>9</td>\n",
              "      <td>6</td>\n",
              "      <td>71673</td>\n",
              "      <td>58332</td>\n",
              "      <td>Visit the Swiffer Store</td>\n",
              "      <td>https://www.amazon.de/-/en/stores/P%26G+Swiffe...</td>\n",
              "      <td>92</td>\n",
              "      <td>8 00 38 03</td>\n",
              "      <td>info@limuno.com</td>\n",
              "      <td>DE</td>\n",
              "    </tr>\n",
              "    <tr>\n",
              "      <th>36</th>\n",
              "      <td>2020-11-15</td>\n",
              "      <td>Garden</td>\n",
              "      <td>Seller 37</td>\n",
              "      <td>Seller 37-link</td>\n",
              "      <td>Seller 37-storefrontlink</td>\n",
              "      <td>50000</td>\n",
              "      <td>5150</td>\n",
              "      <td>IMPRESSUM \\n itenga GmbH\\n Am Umspannwerk 2\\n ...</td>\n",
              "      <td>Business Name:itenga GmbH</td>\n",
              "      <td>itenga GmbHAm Umspannwerk 2Illingen66557DE</td>\n",
              "      <td>...</td>\n",
              "      <td>8</td>\n",
              "      <td>8</td>\n",
              "      <td>40683</td>\n",
              "      <td>18910</td>\n",
              "      <td>Visit the Vileda Store</td>\n",
              "      <td>https://www.amazon.de/-/en/stores/Vileda+GmbH+...</td>\n",
              "      <td>91</td>\n",
              "      <td>NaN</td>\n",
              "      <td>info@itenga.de</td>\n",
              "      <td>DE</td>\n",
              "    </tr>\n",
              "    <tr>\n",
              "      <th>495</th>\n",
              "      <td>2020-11-15</td>\n",
              "      <td>Garden</td>\n",
              "      <td>Seller 496</td>\n",
              "      <td>Seller 496-link</td>\n",
              "      <td>Seller 496-storefrontlink</td>\n",
              "      <td>100000</td>\n",
              "      <td>288</td>\n",
              "      <td>SELECT ELITE is committed to providing each cu...</td>\n",
              "      <td>Business Name:C. Y. MARKETING INC.</td>\n",
              "      <td>1249 S DIAMOND BAR BOULLEVARD UNIT 61DIAMOND B...</td>\n",
              "      <td>...</td>\n",
              "      <td>7</td>\n",
              "      <td>7</td>\n",
              "      <td>77714</td>\n",
              "      <td>70732</td>\n",
              "      <td>Visit the Weber Store</td>\n",
              "      <td>https://www.amazon.de/-/en/stores/Weber/page/9...</td>\n",
              "      <td>91</td>\n",
              "      <td>NaN</td>\n",
              "      <td>NaN</td>\n",
              "      <td>US</td>\n",
              "    </tr>\n",
              "    <tr>\n",
              "      <th>386</th>\n",
              "      <td>2020-11-15</td>\n",
              "      <td>Garden</td>\n",
              "      <td>Seller 387</td>\n",
              "      <td>Seller 387-link</td>\n",
              "      <td>Seller 387-storefrontlink</td>\n",
              "      <td>10000</td>\n",
              "      <td>1410</td>\n",
              "      <td>Die Europäische Kommission bietet eine Onlinep...</td>\n",
              "      <td>Business Name:Johann Haslberger</td>\n",
              "      <td>Humboldtstrasse 25BautzenSachsen02625DE</td>\n",
              "      <td>...</td>\n",
              "      <td>9</td>\n",
              "      <td>9</td>\n",
              "      <td>19281</td>\n",
              "      <td>11904</td>\n",
              "      <td>Gebol</td>\n",
              "      <td>https://www.amazon.de/-/en/Gebol/b/ref=bl_dp_s...</td>\n",
              "      <td>90</td>\n",
              "      <td>NaN</td>\n",
              "      <td>NaN</td>\n",
              "      <td>DE</td>\n",
              "    </tr>\n",
              "    <tr>\n",
              "      <th>726</th>\n",
              "      <td>2020-11-15</td>\n",
              "      <td>Garden</td>\n",
              "      <td>Seller 727</td>\n",
              "      <td>Seller 727-link</td>\n",
              "      <td>Seller 727-storefrontlink</td>\n",
              "      <td>40000</td>\n",
              "      <td>7242</td>\n",
              "      <td>trendmile GmbH\\n\\nAmtsgericht Darmstadt HR B 8...</td>\n",
              "      <td>Business Name:trendmile GmbH</td>\n",
              "      <td>Bauhofstr.24Lampertheim68623DE</td>\n",
              "      <td>...</td>\n",
              "      <td>9</td>\n",
              "      <td>9</td>\n",
              "      <td>40681</td>\n",
              "      <td>13311</td>\n",
              "      <td>Visit the tesa Store</td>\n",
              "      <td>https://www.amazon.de/-/en/stores/tesa/page/12...</td>\n",
              "      <td>89</td>\n",
              "      <td>951326 - 0</td>\n",
              "      <td>support@trendmile.com</td>\n",
              "      <td>DE</td>\n",
              "    </tr>\n",
              "    <tr>\n",
              "      <th>23</th>\n",
              "      <td>2020-11-15</td>\n",
              "      <td>Garden</td>\n",
              "      <td>Seller 24</td>\n",
              "      <td>Seller 24-link</td>\n",
              "      <td>Seller 24-storefrontlink</td>\n",
              "      <td>100000</td>\n",
              "      <td>3134</td>\n",
              "      <td>Blumenbecker Industriebedarf GmbH Sudhoferweg ...</td>\n",
              "      <td>Business Name:Blumenbecker Industriebedarf GmbH</td>\n",
              "      <td>Sudhoferweg 99-107BeckumNRW59269DE</td>\n",
              "      <td>...</td>\n",
              "      <td>12</td>\n",
              "      <td>10</td>\n",
              "      <td>30139</td>\n",
              "      <td>11182</td>\n",
              "      <td>Visit the tesa Store</td>\n",
              "      <td>https://www.amazon.de/-/en/stores/tesa/page/12...</td>\n",
              "      <td>88</td>\n",
              "      <td>99-107 59269</td>\n",
              "      <td>bib.beckum@blumenbecker.com</td>\n",
              "      <td>DE</td>\n",
              "    </tr>\n",
              "  </tbody>\n",
              "</table>\n",
              "<p>11 rows × 22 columns</p>\n",
              "</div>\n",
              "      <button class=\"colab-df-convert\" onclick=\"convertToInteractive('df-499979cc-8366-4ec4-bba3-23a433a8602b')\"\n",
              "              title=\"Convert this dataframe to an interactive table.\"\n",
              "              style=\"display:none;\">\n",
              "        \n",
              "  <svg xmlns=\"http://www.w3.org/2000/svg\" height=\"24px\"viewBox=\"0 0 24 24\"\n",
              "       width=\"24px\">\n",
              "    <path d=\"M0 0h24v24H0V0z\" fill=\"none\"/>\n",
              "    <path d=\"M18.56 5.44l.94 2.06.94-2.06 2.06-.94-2.06-.94-.94-2.06-.94 2.06-2.06.94zm-11 1L8.5 8.5l.94-2.06 2.06-.94-2.06-.94L8.5 2.5l-.94 2.06-2.06.94zm10 10l.94 2.06.94-2.06 2.06-.94-2.06-.94-.94-2.06-.94 2.06-2.06.94z\"/><path d=\"M17.41 7.96l-1.37-1.37c-.4-.4-.92-.59-1.43-.59-.52 0-1.04.2-1.43.59L10.3 9.45l-7.72 7.72c-.78.78-.78 2.05 0 2.83L4 21.41c.39.39.9.59 1.41.59.51 0 1.02-.2 1.41-.59l7.78-7.78 2.81-2.81c.8-.78.8-2.07 0-2.86zM5.41 20L4 18.59l7.72-7.72 1.47 1.35L5.41 20z\"/>\n",
              "  </svg>\n",
              "      </button>\n",
              "      \n",
              "  <style>\n",
              "    .colab-df-container {\n",
              "      display:flex;\n",
              "      flex-wrap:wrap;\n",
              "      gap: 12px;\n",
              "    }\n",
              "\n",
              "    .colab-df-convert {\n",
              "      background-color: #E8F0FE;\n",
              "      border: none;\n",
              "      border-radius: 50%;\n",
              "      cursor: pointer;\n",
              "      display: none;\n",
              "      fill: #1967D2;\n",
              "      height: 32px;\n",
              "      padding: 0 0 0 0;\n",
              "      width: 32px;\n",
              "    }\n",
              "\n",
              "    .colab-df-convert:hover {\n",
              "      background-color: #E2EBFA;\n",
              "      box-shadow: 0px 1px 2px rgba(60, 64, 67, 0.3), 0px 1px 3px 1px rgba(60, 64, 67, 0.15);\n",
              "      fill: #174EA6;\n",
              "    }\n",
              "\n",
              "    [theme=dark] .colab-df-convert {\n",
              "      background-color: #3B4455;\n",
              "      fill: #D2E3FC;\n",
              "    }\n",
              "\n",
              "    [theme=dark] .colab-df-convert:hover {\n",
              "      background-color: #434B5C;\n",
              "      box-shadow: 0px 1px 3px 1px rgba(0, 0, 0, 0.15);\n",
              "      filter: drop-shadow(0px 1px 2px rgba(0, 0, 0, 0.3));\n",
              "      fill: #FFFFFF;\n",
              "    }\n",
              "  </style>\n",
              "\n",
              "      <script>\n",
              "        const buttonEl =\n",
              "          document.querySelector('#df-499979cc-8366-4ec4-bba3-23a433a8602b button.colab-df-convert');\n",
              "        buttonEl.style.display =\n",
              "          google.colab.kernel.accessAllowed ? 'block' : 'none';\n",
              "\n",
              "        async function convertToInteractive(key) {\n",
              "          const element = document.querySelector('#df-499979cc-8366-4ec4-bba3-23a433a8602b');\n",
              "          const dataTable =\n",
              "            await google.colab.kernel.invokeFunction('convertToInteractive',\n",
              "                                                     [key], {});\n",
              "          if (!dataTable) return;\n",
              "\n",
              "          const docLinkHtml = 'Like what you see? Visit the ' +\n",
              "            '<a target=\"_blank\" href=https://colab.research.google.com/notebooks/data_table.ipynb>data table notebook</a>'\n",
              "            + ' to learn more about interactive tables.';\n",
              "          element.innerHTML = '';\n",
              "          dataTable['output_type'] = 'display_data';\n",
              "          await google.colab.output.renderOutput(dataTable, element);\n",
              "          const docLink = document.createElement('div');\n",
              "          docLink.innerHTML = docLinkHtml;\n",
              "          element.appendChild(docLink);\n",
              "        }\n",
              "      </script>\n",
              "    </div>\n",
              "  </div>\n",
              "  "
            ]
          },
          "metadata": {},
          "execution_count": 32
        }
      ]
    },
    {
      "cell_type": "markdown",
      "source": [
        "Sorted df on the basis of pos% of rating, these are the top sellers"
      ],
      "metadata": {
        "id": "M9REE721QR_J"
      }
    },
    {
      "cell_type": "markdown",
      "source": [
        "##### Clustering"
      ],
      "metadata": {
        "id": "y5fK_Uppm5cT"
      }
    },
    {
      "cell_type": "code",
      "source": [
        "ecom2 = ecommerce.copy()"
      ],
      "metadata": {
        "id": "1EyyJKyb6vfw"
      },
      "execution_count": 33,
      "outputs": []
    },
    {
      "cell_type": "code",
      "source": [
        "df1 = ecom2[['sellerproductcount','Country']]\n",
        "\n",
        "df1[\"Country\"] = df1[\"Country\"].astype('category')\n",
        "df1[\"Country_cat\"] = df1[\"Country\"].cat.codes\n",
        "#df1\n",
        "\n",
        "df1 = df1[['sellerproductcount','Country_cat']]\n",
        "\n",
        "wcss=[]\n",
        "for i in range(1,7):\n",
        "  kmeans = KMeans(i)\n",
        "  kmeans.fit(df1)\n",
        "  wcss_iter = kmeans.inertia_\n",
        "  wcss.append(wcss_iter)\n",
        "\n",
        "number_clusters = range(1,7)\n",
        "plt.plot(number_clusters,wcss)\n",
        "plt.title('The Elbow title')\n",
        "plt.xlabel('Number of clusters')\n",
        "plt.ylabel('WCSS')"
      ],
      "metadata": {
        "colab": {
          "base_uri": "https://localhost:8080/",
          "height": 318
        },
        "id": "l9FmwGJmuIRf",
        "outputId": "e29b2d98-909d-4e1c-e709-6131e2b37174"
      },
      "execution_count": 34,
      "outputs": [
        {
          "output_type": "execute_result",
          "data": {
            "text/plain": [
              "Text(0, 0.5, 'WCSS')"
            ]
          },
          "metadata": {},
          "execution_count": 34
        },
        {
          "output_type": "display_data",
          "data": {
            "text/plain": [
              "<Figure size 432x288 with 1 Axes>"
            ],
            "image/png": "[encoded data removed]"
          },
          "metadata": {}
        }
      ]
    },
    {
      "cell_type": "code",
      "source": [
        "kmeans = KMeans(3)\n",
        "kmeans.fit(df1)\n",
        "identified_clusters = kmeans.fit_predict(df1)\n",
        "\n",
        "data_with_clusters = ecom2.copy()\n",
        "data_with_clusters['Clusters'] = identified_clusters \n",
        "plt.scatter(data_with_clusters['sellerproductcount'],data_with_clusters['Country'],c=data_with_clusters['Clusters'],cmap='rainbow')"
      ],
      "metadata": {
        "colab": {
          "base_uri": "https://localhost:8080/",
          "height": 285
        },
        "id": "8DVCtg4hundn",
        "outputId": "7aa105fc-ccb8-4f04-9a2f-094ae45ece25"
      },
      "execution_count": 35,
      "outputs": [
        {
          "output_type": "execute_result",
          "data": {
            "text/plain": [
              "<matplotlib.collections.PathCollection at 0x7f39cabb3f10>"
            ]
          },
          "metadata": {},
          "execution_count": 35
        },
        {
          "output_type": "display_data",
          "data": {
            "text/plain": [
              "<Figure size 432x288 with 1 Axes>"
            ],
            "image/png": "[encoded data removed]"
          },
          "metadata": {}
        }
      ]
    },
    {
      "cell_type": "code",
      "source": [
        "Hero_P1 = []\n",
        "for row in ecom2['HP1']:\n",
        "  if row > 60000 :\n",
        "    Hero_P1.append('Top_rated')\n",
        "  elif row > 40000:   \n",
        "    Hero_P1.append('Medium_rated')\n",
        "  elif row > 20000:  \n",
        "    Hero_P1.append('Less_rated')\n",
        "  else:\n",
        "    Hero_P1.append('least_rated')\n",
        "\n",
        "Hero_P2 = []\n",
        "for row in ecom2['HP2']:\n",
        "  if row > 60000 :\n",
        "    Hero_P2.append('Top_rated')\n",
        "  elif row > 40000:   \n",
        "    Hero_P2.append('Medium_rated')\n",
        "  elif row > 20000:  \n",
        "    Hero_P2.append('Less_rated')\n",
        "  else:\n",
        "    Hero_P2.append('least_rated')"
      ],
      "metadata": {
        "id": "S2Tx_WVGxlLN"
      },
      "execution_count": 36,
      "outputs": []
    },
    {
      "cell_type": "code",
      "source": [
        "ecom2['Hero_P1']=Hero_P1\n",
        "ecom2['Hero_P2']=Hero_P2\n",
        "\n",
        "ecom2[\"Hero_P1\"] = ecom2[\"Hero_P1\"].astype('category')\n",
        "ecom2[\"Hero_P1_cat\"] = ecom2[\"Hero_P1\"].cat.codes\n",
        "\n",
        "ecom2[\"Hero_P2\"] = ecom2[\"Hero_P2\"].astype('category')\n",
        "ecom2[\"Hero_P2_cat\"] = ecom2[\"Hero_P2\"].cat.codes"
      ],
      "metadata": {
        "id": "7pM68Mi1E_Fv"
      },
      "execution_count": 37,
      "outputs": []
    },
    {
      "cell_type": "code",
      "source": [
        "df1 = ecom2[['HP1','Hero_P1_cat']]\n",
        "\n",
        "wcss=[]\n",
        "for i in range(1,7):\n",
        "  kmeans = KMeans(i)\n",
        "  kmeans.fit(df1)\n",
        "  wcss_iter = kmeans.inertia_\n",
        "  wcss.append(wcss_iter)\n",
        "\n",
        "number_clusters = range(1,7)\n",
        "plt.plot(number_clusters,wcss)\n",
        "plt.title('The Elbow title')\n",
        "plt.xlabel('Number of clusters')\n",
        "plt.ylabel('WCSS')"
      ],
      "metadata": {
        "colab": {
          "base_uri": "https://localhost:8080/",
          "height": 318
        },
        "id": "eNeZ_Y5sFIxI",
        "outputId": "811fa14b-1b17-4ddf-f286-9542620ba187"
      },
      "execution_count": 38,
      "outputs": [
        {
          "output_type": "execute_result",
          "data": {
            "text/plain": [
              "Text(0, 0.5, 'WCSS')"
            ]
          },
          "metadata": {},
          "execution_count": 38
        },
        {
          "output_type": "display_data",
          "data": {
            "text/plain": [
              "<Figure size 432x288 with 1 Axes>"
            ],
            "image/png": "[encoded data removed]"
          },
          "metadata": {}
        }
      ]
    },
    {
      "cell_type": "code",
      "source": [
        "kmeans = KMeans(5)\n",
        "kmeans.fit(df1)\n",
        "identified_clusters = kmeans.fit_predict(df1)\n",
        "data_with_clusters = ecom2.copy()\n",
        "data_with_clusters['Clusters'] = identified_clusters \n",
        "plt.scatter(data_with_clusters['HP1'],data_with_clusters['Hero_P1'],c=data_with_clusters['Clusters'],cmap='rainbow')"
      ],
      "metadata": {
        "colab": {
          "base_uri": "https://localhost:8080/",
          "height": 285
        },
        "id": "w8SYvDwhGBhd",
        "outputId": "eb9c7029-1cb5-490a-88fa-c5daa5c25753"
      },
      "execution_count": 39,
      "outputs": [
        {
          "output_type": "execute_result",
          "data": {
            "text/plain": [
              "<matplotlib.collections.PathCollection at 0x7f39caa48cd0>"
            ]
          },
          "metadata": {},
          "execution_count": 39
        },
        {
          "output_type": "display_data",
          "data": {
            "text/plain": [
              "<Figure size 432x288 with 1 Axes>"
            ],
            "image/png": "[encoded data removed]"
          },
          "metadata": {}
        }
      ]
    },
    {
      "cell_type": "code",
      "source": [
        "df1 = ecom2[['HP2','Hero_P2_cat']]\n",
        "\n",
        "wcss=[]\n",
        "for i in range(1,7):\n",
        "  kmeans = KMeans(i)\n",
        "  kmeans.fit(df1)\n",
        "  wcss_iter = kmeans.inertia_\n",
        "  wcss.append(wcss_iter)\n",
        "\n",
        "number_clusters = range(1,7)\n",
        "plt.plot(number_clusters,wcss)\n",
        "plt.title('The Elbow title')\n",
        "plt.xlabel('Number of clusters')\n",
        "plt.ylabel('WCSS')"
      ],
      "metadata": {
        "colab": {
          "base_uri": "https://localhost:8080/",
          "height": 318
        },
        "id": "7o1WPR9ZYulJ",
        "outputId": "d477e32e-a8db-45c2-d52f-d6e2293d03a6"
      },
      "execution_count": 40,
      "outputs": [
        {
          "output_type": "execute_result",
          "data": {
            "text/plain": [
              "Text(0, 0.5, 'WCSS')"
            ]
          },
          "metadata": {},
          "execution_count": 40
        },
        {
          "output_type": "display_data",
          "data": {
            "text/plain": [
              "<Figure size 432x288 with 1 Axes>"
            ],
            "image/png": "[encoded data removed]"
          },
          "metadata": {}
        }
      ]
    },
    {
      "cell_type": "code",
      "source": [
        "kmeans = KMeans(5)\n",
        "kmeans.fit(df1)\n",
        "identified_clusters = kmeans.fit_predict(df1)\n",
        "data_with_clusters = ecom2.copy()\n",
        "data_with_clusters['Clusters'] = identified_clusters \n",
        "plt.scatter(data_with_clusters['HP2'],data_with_clusters['Hero_P2'],c=data_with_clusters['Clusters'],cmap='rainbow')"
      ],
      "metadata": {
        "colab": {
          "base_uri": "https://localhost:8080/",
          "height": 285
        },
        "id": "78OH4nLJZWGA",
        "outputId": "5d6524c1-9dff-44e9-dba9-57f2b4659e47"
      },
      "execution_count": 41,
      "outputs": [
        {
          "output_type": "execute_result",
          "data": {
            "text/plain": [
              "<matplotlib.collections.PathCollection at 0x7f39ca994250>"
            ]
          },
          "metadata": {},
          "execution_count": 41
        },
        {
          "output_type": "display_data",
          "data": {
            "text/plain": [
              "<Figure size 432x288 with 1 Axes>"
            ],
            "image/png": "[encoded data removed]"
          },
          "metadata": {}
        }
      ]
    }
  ]
}